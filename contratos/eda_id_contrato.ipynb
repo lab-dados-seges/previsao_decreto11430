{
 "cells": [
  {
   "cell_type": "code",
   "execution_count": 3,
   "id": "67ef688d-e4e2-4dc8-a981-16b11a8b6369",
   "metadata": {},
   "outputs": [],
   "source": [
    "import pandas as pd\n",
    "import requests\n",
    "import csv\n",
    "from dotenv import load_dotenv\n",
    "import os"
   ]
  },
  {
   "cell_type": "code",
   "execution_count": 5,
   "id": "4ecf40c9-c9f0-486e-9162-bc9263527da3",
   "metadata": {},
   "outputs": [],
   "source": [
    "# Endpoint para buscar documentos relacionados ao contrato\n",
    "base_url = \"https://api.portaldatransparencia.gov.br/api-de-dados/contratos/documentos-relacionados\"\n",
    "contrato_id = \"668356055\"  # ID do contrato"
   ]
  },
  {
   "cell_type": "code",
   "execution_count": 8,
   "id": "30897bd6-c4aa-44df-aced-10ce486b1f9b",
   "metadata": {},
   "outputs": [],
   "source": [
    "load_dotenv()\n",
    "API_KEY = os.getenv(\"API_PORTAL_TRANSPARENCIA\")"
   ]
  },
  {
   "cell_type": "code",
   "execution_count": 7,
   "id": "c904ed8d-a49c-4eb4-9b1f-d1bea4b536e5",
   "metadata": {},
   "outputs": [],
   "source": [
    "# Cabeçalhos da requisição\n",
    "headers = {\n",
    "    \"chave-api-dados\": API_KEY,  # Substitua pela sua chave\n",
    "    \"Accept\": \"application/json\",  # Define o formato da resposta\n",
    "}"
   ]
  },
  {
   "cell_type": "code",
   "execution_count": 20,
   "id": "299b8f8e-5c4b-4db2-9a2c-5d25808d2b32",
   "metadata": {},
   "outputs": [],
   "source": [
    "# Monta a URL completa com o ID do contrato\n",
    "url = f\"{base_url}?id={contrato_id}\""
   ]
  },
  {
   "cell_type": "code",
   "execution_count": 21,
   "id": "fde2c88e-c4de-4f97-a2f2-735b12f41620",
   "metadata": {},
   "outputs": [
    {
     "name": "stdout",
     "output_type": "stream",
     "text": [
      "Foram encontrados 11 documentos para o contrato 668356055:\n",
      "{'empenho': '413001412312012NE800018', 'empenhoResumido': '2012NE800018', 'dataEmissao': 'Sem informação', 'observacao': 'Sem informação', 'valor': 'R$ 0,00'}\n",
      "{'empenho': '413001412312013NE800001', 'empenhoResumido': '2013NE800001', 'dataEmissao': 'Sem informação', 'observacao': 'Sem informação', 'valor': 'R$ 0,00'}\n",
      "{'empenho': '413001412312012NE800016', 'empenhoResumido': '2012NE800016', 'dataEmissao': 'Sem informação', 'observacao': 'Sem informação', 'valor': 'R$ 0,00'}\n",
      "{'empenho': '413001412312013NE800365', 'empenhoResumido': '2013NE800365', 'dataEmissao': 'Sem informação', 'observacao': 'Sem informação', 'valor': 'R$ 0,00'}\n",
      "{'empenho': '413001412312020NE800015', 'empenhoResumido': '2020NE800015', 'dataEmissao': '17/01/2020', 'observacao': 'ID:31693 ABASTECIMENTO DE AGUA E ESGOTAMENTO SANITARIO PARA A SEDE.           INEXIGIBILIDADE DE LICITACAO Nº 19/2012.  CONTRATO Nº 035/2012 - AFIS.        EMPENHO PARA O EXERCICIO.  PROC ORIGEM: 2012IN00019', 'valor': 'R$ 2.200,00'}\n",
      "{'empenho': '413001412312014NE800058', 'empenhoResumido': '2014NE800058', 'dataEmissao': '17/01/2014', 'observacao': 'ID:18729 ABASTECIMENTO DE AGUA E ESGOTAMENTO SANITARIO PARA A SEDE.           INEXIGIBILIDADE DE LICITACAO Nº 19/2012.  CONTRATO Nº 035/2012 - AFIS         EMPENHO PARA O EXERCICIO. SOLICITACAO SICAC DE 15/01/2014.  PROC ORIGEM: 2012I', 'valor': 'R$ 45.000,00'}\n",
      "{'empenho': '413001412312017NE800074', 'empenhoResumido': '2017NE800074', 'dataEmissao': '20/01/2017', 'observacao': 'ID:25077 ABASTECIMENTO DE AGUA E ESGOTAMENTO SANITARIO PARA A SEDE.           INEXIGIBILIDADE DE LICITACAO Nº 19/2012.  CONTRATO Nº 035/2012 - AFIS         EMPENHO PARA O EXERCICIO 2017. SOLICITACAO SICAC DE 20/01/2017.  PROC ORIGEM:', 'valor': 'R$ 45.000,00'}\n",
      "{'empenho': '413001412312016NE800049', 'empenhoResumido': '2016NE800049', 'dataEmissao': '14/01/2016', 'observacao': 'ID:23977 ABASTECIMENTO DE AGUA E ESGOTAMENTO SANITARIO PARA A SEDE.           INEXIGIBILIDADE DE LICITACAO Nº 19/2012.  CONTRATO Nº 035/2012 - AFIS         EMPENHO PARA O EXERCICIO 2016. SOLICITACAO SICAC DE 13/01/2016.  PROC ORIGEM:', 'valor': 'R$ 40.000,00'}\n",
      "{'empenho': '413001412312018NE800044', 'empenhoResumido': '2018NE800044', 'dataEmissao': '16/01/2018', 'observacao': 'ID:26960 ABASTECIMENTO DE AGUA E ESGOTAMENTO SANITARIO PARA A SEDE.           INEXIGIBILIDADE DE LICITACAO Nº 19/2012.  CONTRATO Nº 035/2012 - AFIS         EMPENHO PARA O EXERCICIO 2018.  PROC ORIGEM: 2012IN00019', 'valor': 'R$ 76.000,00'}\n",
      "{'empenho': '413001412312015NE800044', 'empenhoResumido': '2015NE800044', 'dataEmissao': '12/02/2015', 'observacao': 'ID:21311 ABASTECIMENTO DE AGUA E ESGOTAMENTO SANITARIO PARA A SEDE.           INEXIGIBILIDADE DE LICITACAO Nº 19/2012.  CONTRATO Nº 035/2012 - AFIS         EMPENHO PARA O EXERCICIO 2015. SOLICITACAO SICAC DE 22/01/2015.  PROC ORIGEM:', 'valor': 'R$ 45.000,00'}\n",
      "{'empenho': '413001412312019NE800067', 'empenhoResumido': '2019NE800067', 'dataEmissao': '22/01/2019', 'observacao': 'ID:29769 ABASTECIMENTO DE AGUA E ESGOTAMENTO SANITARIO PARA A SEDE.           INEXIGIBILIDADE DE LICITACAO Nº 19/2012.  CONTRATO Nº 035/2012 - AFIS         EMPENHO PARA O EXERCICIO.  PROC ORIGEM: 2012IN00019', 'valor': 'R$ 100.000,00'}\n"
     ]
    }
   ],
   "source": [
    "# Faz a requisição\n",
    "response = requests.get(url, headers=headers)\n",
    "\n",
    "# Verifica se a resposta foi bem-sucedida\n",
    "if response.status_code == 200:\n",
    "    documentos = response.json()  # Converte a resposta para JSON\n",
    "    \n",
    "    if documentos:\n",
    "        print(f\"Foram encontrados {len(documentos)} documentos para o contrato {contrato_id}:\")\n",
    "        for doc in documentos:\n",
    "            print(doc)  # Exibe os documentos encontrados\n",
    "    else:\n",
    "        print(f\"Nenhum documento encontrado para o contrato {contrato_id}.\")\n",
    "else:\n",
    "    print(f\"Erro na requisição: {response.status_code}\")\n",
    "    print(response.text)  # Exibe a mensagem de erro da API"
   ]
  },
  {
   "cell_type": "code",
   "execution_count": 12,
   "id": "936e505c-2102-4bab-af04-64fd7d2d89f6",
   "metadata": {},
   "outputs": [],
   "source": [
    "# URL base da API\n",
    "base_url = \"https://api.portaldatransparencia.gov.br/api-de-dados/contratos\"\n",
    "codigo_orgao = \"41231\"  # Código do órgão\n",
    "pagina = 1  # Inicia na primeira página\n",
    "ids_contratos = []  # Lista para armazenar os IDs dos contratos"
   ]
  },
  {
   "cell_type": "code",
   "execution_count": 13,
   "id": "5db3fa29-9ecd-45f4-8895-845428591d6f",
   "metadata": {},
   "outputs": [
    {
     "name": "stdout",
     "output_type": "stream",
     "text": [
      "Foram extraídos 2010 IDs de contratos.\n"
     ]
    }
   ],
   "source": [
    "# Loop para buscar todas as páginas\n",
    "while True:\n",
    "    # Monta a URL com os parâmetros\n",
    "    url = f\"{base_url}?codigoOrgao={codigo_orgao}&pagina={pagina}\"\n",
    "    \n",
    "    # Faz a requisição\n",
    "    response = requests.get(url, headers=headers)\n",
    "\n",
    "    # Verifica se a resposta foi bem-sucedida\n",
    "    if response.status_code != 200:\n",
    "        print(f\"Erro na requisição: {response.status_code}\")\n",
    "        print(response.text)\n",
    "        break  # Interrompe o loop em caso de erro\n",
    "\n",
    "    # Converte a resposta para JSON\n",
    "    data = response.json()\n",
    "\n",
    "    # Se não houver mais dados, interrompe o loop\n",
    "    if not data:\n",
    "        break\n",
    "\n",
    "    # Adiciona os IDs dos contratos na lista\n",
    "    ids_contratos.extend([contrato[\"id\"] for contrato in data])\n",
    "\n",
    "    # Avança para a próxima página\n",
    "    pagina += 1\n",
    "\n",
    "# Exibe os IDs extraídos\n",
    "print(f\"Foram extraídos {len(ids_contratos)} IDs de contratos.\")"
   ]
  },
  {
   "cell_type": "code",
   "execution_count": 14,
   "id": "ded4cf83-dd4d-40a5-af7a-52d5653cba82",
   "metadata": {},
   "outputs": [],
   "source": [
    "# Endpoint para buscar documentos relacionados ao contrato\n",
    "base_url_id = \"https://api.portaldatransparencia.gov.br/api-de-dados/contratos/documentos-relacionados\""
   ]
  },
  {
   "cell_type": "code",
   "execution_count": 16,
   "id": "7abd1da1-c298-4be9-a59c-2014536b52c8",
   "metadata": {},
   "outputs": [],
   "source": [
    "ids_contratos_50 = ids_contratos[:50]"
   ]
  },
  {
   "cell_type": "code",
   "execution_count": 17,
   "id": "57e3b5cf-bcd7-4272-abea-317dc749854c",
   "metadata": {},
   "outputs": [
    {
     "name": "stdout",
     "output_type": "stream",
     "text": [
      "Foram encontrados 11 documentos para o contrato 668356055.\n",
      "Foram encontrados 19 documentos para o contrato 668378343.\n",
      "Foram encontrados 12 documentos para o contrato 668405709.\n",
      "Foram encontrados 1 documentos para o contrato 668409191.\n",
      "Foram encontrados 8 documentos para o contrato 668411623.\n",
      "Foram encontrados 10 documentos para o contrato 668413543.\n",
      "Foram encontrados 1 documentos para o contrato 668427863.\n",
      "Foram encontrados 9 documentos para o contrato 668430220.\n",
      "Foram encontrados 10 documentos para o contrato 668431000.\n",
      "Foram encontrados 1 documentos para o contrato 668431896.\n",
      "Foram encontrados 3 documentos para o contrato 668436685.\n",
      "Foram encontrados 4 documentos para o contrato 668443469.\n",
      "Foram encontrados 3 documentos para o contrato 668445325.\n",
      "Foram encontrados 15 documentos para o contrato 668448369.\n",
      "Foram encontrados 2 documentos para o contrato 668449485.\n",
      "Foram encontrados 31 documentos para o contrato 668457293.\n",
      "Foram encontrados 60 documentos para o contrato 668462326.\n",
      "Foram encontrados 21 documentos para o contrato 668465944.\n",
      "Foram encontrados 2 documentos para o contrato 668465999.\n",
      "Foram encontrados 21 documentos para o contrato 668466008.\n",
      "Foram encontrados 58 documentos para o contrato 668469600.\n",
      "Foram encontrados 1 documentos para o contrato 668473554.\n",
      "Foram encontrados 4 documentos para o contrato 668473639.\n",
      "Foram encontrados 4 documentos para o contrato 668473703.\n",
      "Foram encontrados 1 documentos para o contrato 668477517.\n",
      "Foram encontrados 2 documentos para o contrato 668479189.\n",
      "Foram encontrados 5 documentos para o contrato 668479217.\n",
      "Foram encontrados 5 documentos para o contrato 668479783.\n",
      "Foram encontrados 16 documentos para o contrato 668481106.\n",
      "Foram encontrados 13 documentos para o contrato 668483744.\n",
      "Foram encontrados 53 documentos para o contrato 668483910.\n",
      "Foram encontrados 3 documentos para o contrato 668485645.\n",
      "Foram encontrados 1 documentos para o contrato 668486971.\n",
      "Foram encontrados 16 documentos para o contrato 668487414.\n",
      "Foram encontrados 1 documentos para o contrato 668487416.\n",
      "Foram encontrados 16 documentos para o contrato 668487670.\n",
      "Foram encontrados 5 documentos para o contrato 668489559.\n",
      "Foram encontrados 4 documentos para o contrato 668491495.\n",
      "Foram encontrados 6 documentos para o contrato 668491832.\n",
      "Foram encontrados 14 documentos para o contrato 668492583.\n",
      "Foram encontrados 5 documentos para o contrato 668493133.\n",
      "Foram encontrados 30 documentos para o contrato 668493399.\n",
      "Foram encontrados 30 documentos para o contrato 668493463.\n",
      "Foram encontrados 30 documentos para o contrato 668493527.\n",
      "Foram encontrados 3 documentos para o contrato 668494843.\n",
      "Foram encontrados 14 documentos para o contrato 668498919.\n",
      "Foram encontrados 10 documentos para o contrato 668500638.\n",
      "Foram encontrados 5 documentos para o contrato 668501525.\n",
      "Foram encontrados 4 documentos para o contrato 668503188.\n",
      "Foram encontrados 10 documentos para o contrato 668504919.\n",
      "\n",
      "Total de contratos processados: 2010\n",
      "Contratos com documentos encontrados: 50\n"
     ]
    }
   ],
   "source": [
    "# Dicionário para armazenar os documentos por contrato\n",
    "documentos_por_contrato = {}\n",
    "\n",
    "# Loop para buscar documentos relacionados a cada contrato\n",
    "for contrato_id in ids_contratos_50:\n",
    "    # Monta a URL específica para cada contrato\n",
    "    url = f\"{base_url_id}?id={contrato_id}\"\n",
    "\n",
    "    # Faz a requisição\n",
    "    response = requests.get(url, headers=headers)\n",
    "\n",
    "    # Verifica se a resposta foi bem-sucedida\n",
    "    if response.status_code == 200:\n",
    "        documentos = response.json()  # Converte a resposta para JSON\n",
    "        \n",
    "        if documentos:\n",
    "            documentos_por_contrato[contrato_id] = documentos\n",
    "            print(f\"Foram encontrados {len(documentos)} documentos para o contrato {contrato_id}.\")\n",
    "        else:\n",
    "            print(f\"Nenhum documento encontrado para o contrato {contrato_id}.\")\n",
    "    else:\n",
    "        print(f\"Erro na requisição para contrato {contrato_id}: {response.status_code}\")\n",
    "        print(response.text)  # Exibe a mensagem de erro da API\n",
    "\n",
    "# Exibe um resumo final\n",
    "print(f\"\\nTotal de contratos processados: {len(ids_contratos)}\")\n",
    "print(f\"Contratos com documentos encontrados: {len(documentos_por_contrato)}\")"
   ]
  },
  {
   "cell_type": "code",
   "execution_count": null,
   "id": "26b703e2-b223-43a4-96fb-1fc397fe9271",
   "metadata": {},
   "outputs": [],
   "source": []
  }
 ],
 "metadata": {
  "kernelspec": {
   "display_name": "Python 3 (ipykernel)",
   "language": "python",
   "name": "python3"
  },
  "language_info": {
   "codemirror_mode": {
    "name": "ipython",
    "version": 3
   },
   "file_extension": ".py",
   "mimetype": "text/x-python",
   "name": "python",
   "nbconvert_exporter": "python",
   "pygments_lexer": "ipython3",
   "version": "3.9.6"
  }
 },
 "nbformat": 4,
 "nbformat_minor": 5
}
