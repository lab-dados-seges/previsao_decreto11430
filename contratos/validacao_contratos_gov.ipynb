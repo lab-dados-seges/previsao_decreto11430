{
 "cells": [
  {
   "cell_type": "code",
   "execution_count": 1,
   "id": "bc0594ed-e4bd-4df7-901e-0334cfba031b",
   "metadata": {},
   "outputs": [],
   "source": [
    "import pandas as pd\n",
    "import requests\n",
    "import time\n",
    "import random\n",
    "from tqdm import tqdm\n",
    "from dotenv import load_dotenv\n",
    "import os"
   ]
  },
  {
   "cell_type": "code",
   "execution_count": 2,
   "id": "053a6bf1-89b4-46f2-8702-0e5fd4eb9257",
   "metadata": {},
   "outputs": [],
   "source": [
    "# Caminhos dos arquivos\n",
    "CAMINHO_CSV = \"../terceirizados/df_contratos.csv\"\n",
    "CAMINHO_SAIDA = \"../data/terceirizados/arquivos_tratados_contratos_gov/consolidado_validacao_completo.csv\""
   ]
  },
  {
   "cell_type": "code",
   "execution_count": 3,
   "id": "4c685765-8ddf-4ccc-876a-db47cad6e47d",
   "metadata": {},
   "outputs": [],
   "source": [
    "# Carregar o CSV original como string para preservar formatações\n",
    "df = pd.read_csv(CAMINHO_CSV, dtype=\"str\")\n",
    "\n",
    "# Padronizar os campos utilizados na busca\n",
    "df['nr_contrato'] = df['nr_contrato'].astype(str).str.strip()\n",
    "df['nr_orgao'] = df['nr_orgao'].astype(str).str.strip()\n",
    "df['cnpj'] = df['cnpj'].astype(str).str.strip()"
   ]
  },
  {
   "cell_type": "code",
   "execution_count": 4,
   "id": "1bdf37e5-174d-4147-9ac8-79ca977628b5",
   "metadata": {},
   "outputs": [],
   "source": [
    "# Carregar validações anteriores, se existirem\n",
    "try:\n",
    "    df_validado = pd.read_csv(CAMINHO_SAIDA, dtype=str)\n",
    "    for coluna in [\n",
    "        \"id_contrato\", \"status_validacao\", \"objeto_contrato\", \"objeto_compra\",\n",
    "        \"dataAssinatura\", \"dataPublicacaoDOU\", \"dataInicioVigencia\", \"dataFimVigencia\",\n",
    "        \"tipo_fornecedor\", \"valorInicialCompra\", \"valorFinalCompra\"\n",
    "    ]:\n",
    "        if coluna not in df.columns:\n",
    "            df[coluna] = None\n",
    "        if coluna in df_validado.columns:\n",
    "            df[coluna] = df_validado[coluna]\n",
    "except FileNotFoundError:\n",
    "    for coluna in [\n",
    "        \"id_contrato\", \"status_validacao\", \"objeto_contrato\", \"objeto_compra\",\n",
    "        \"dataAssinatura\", \"dataPublicacaoDOU\", \"dataInicioVigencia\", \"dataFimVigencia\",\n",
    "        \"tipo_fornecedor\", \"valorInicialCompra\", \"valorFinalCompra\"\n",
    "    ]:\n",
    "        df[coluna] = None"
   ]
  },
  {
   "cell_type": "code",
   "execution_count": 5,
   "id": "a245f344-843b-4738-bb2f-f75d23a4e4f0",
   "metadata": {},
   "outputs": [],
   "source": [
    "load_dotenv()\n",
    "API_KEY = os.getenv(\"API_PORTAL_TRANSPARENCIA\")"
   ]
  },
  {
   "cell_type": "code",
   "execution_count": 6,
   "id": "51bcf7bc-9093-4f48-9d0a-c8b4a8dc1697",
   "metadata": {},
   "outputs": [
    {
     "name": "stdout",
     "output_type": "stream",
     "text": [
      "🔎 Serão validadas 3095 linhas...\n"
     ]
    }
   ],
   "source": [
    "# 🔍 Filtrar apenas contratos ainda não validados\n",
    "df_nao_validados = df[\n",
    "    df['id_contrato'].isna() & (df['status_validacao'] != 'Não encontrado')\n",
    "].copy()\n",
    "\n",
    "print(f\"🔎 Serão validadas {len(df_nao_validados)} linhas...\")\n",
    "\n",
    "# Sessão com headers da API\n",
    "session = requests.Session()\n",
    "base_url = \"https://api.portaldatransparencia.gov.br/api-de-dados/contratos\"\n",
    "headers = {\n",
    "    \"chave-api-dados\": API_KEY,\n",
    "    \"Accept\": \"application/json\"\n",
    "}\n",
    "session.headers.update(headers)"
   ]
  },
  {
   "cell_type": "code",
   "execution_count": 7,
   "id": "6f8b5f3c-bded-4f5e-a28f-9ee358479dab",
   "metadata": {},
   "outputs": [],
   "source": [
    "def respeitar_limite_requisicoes():\n",
    "    \"\"\"Pausa entre requisições para evitar sobrecarga\"\"\"\n",
    "    time.sleep(random.uniform(0.5, 1.5))"
   ]
  },
  {
   "cell_type": "code",
   "execution_count": 8,
   "id": "28e3266e-e3d0-425a-94c0-62102a84b58d",
   "metadata": {},
   "outputs": [],
   "source": [
    "def buscar_dados_contrato(nr_contrato, nr_orgao, cnpj):\n",
    "    \"\"\"Faz até duas tentativas: com e sem zeros à esquerda no número do contrato\"\"\"\n",
    "    tentativas = [nr_contrato, nr_contrato.lstrip(\"0\")]\n",
    "\n",
    "    for tentativa_contrato in tentativas:\n",
    "        try:\n",
    "            respeitar_limite_requisicoes()\n",
    "            url = f\"{base_url}?numero={tentativa_contrato}&codigoOrgao={nr_orgao}\"\n",
    "            response = session.get(url, timeout=10)\n",
    "\n",
    "            if response.status_code != 200:\n",
    "                continue\n",
    "\n",
    "            try:\n",
    "                data = response.json()\n",
    "            except ValueError:\n",
    "                continue\n",
    "\n",
    "            if not data:\n",
    "                continue\n",
    "\n",
    "            if len(data) == 1:\n",
    "                contrato = data[0]\n",
    "            else:\n",
    "                contrato = next(\n",
    "                    (contrato for contrato in data\n",
    "                     if contrato['fornecedor'].get('cnpjFormatado', '').strip() == cnpj),\n",
    "                    None\n",
    "                )\n",
    "                if not contrato:\n",
    "                    continue\n",
    "\n",
    "            return {\n",
    "                \"id_contrato\": contrato.get(\"id\", \"\"),\n",
    "                \"status_validacao\": \"OK\",\n",
    "                \"objeto_contrato\": contrato.get(\"objeto\", \"\"),\n",
    "                \"objeto_compra\": contrato.get(\"compra\", {}).get(\"objeto\", \"\"),\n",
    "                \"dataAssinatura\": contrato.get(\"dataAssinatura\", \"\"),\n",
    "                \"dataPublicacaoDOU\": contrato.get(\"dataPublicacaoDOU\", \"\"),\n",
    "                \"dataInicioVigencia\": contrato.get(\"dataInicioVigencia\", \"\"),\n",
    "                \"dataFimVigencia\": contrato.get(\"dataFimVigencia\", \"\"),\n",
    "                \"tipo_fornecedor\": contrato.get(\"fornecedor\", {}).get(\"tipo\", \"\"),\n",
    "                \"valorInicialCompra\": contrato.get(\"valorInicialCompra\", \"\"),\n",
    "                \"valorFinalCompra\": contrato.get(\"valorFinalCompra\", \"\")\n",
    "            }\n",
    "\n",
    "        except requests.exceptions.RequestException:\n",
    "            continue\n",
    "\n",
    "    return {\"status_validacao\": \"Não encontrado\"}"
   ]
  },
  {
   "cell_type": "code",
   "execution_count": 9,
   "id": "b9731dbd-0e76-4352-b6cb-02d4b074852c",
   "metadata": {},
   "outputs": [
    {
     "name": "stdout",
     "output_type": "stream",
     "text": [
      "🚧 Iniciando processo de validação incremental...\n",
      "\n"
     ]
    },
    {
     "name": "stderr",
     "output_type": "stream",
     "text": [
      "100%|█████████████████████████████████████| 3095/3095 [1:55:11<00:00,  2.23s/it]"
     ]
    },
    {
     "name": "stdout",
     "output_type": "stream",
     "text": [
      "\n",
      "✅ Validação finalizada com sucesso e arquivo salvo!\n"
     ]
    },
    {
     "name": "stderr",
     "output_type": "stream",
     "text": [
      "\n"
     ]
    }
   ],
   "source": [
    "# 🚀 Loop principal\n",
    "print(\"🚧 Iniciando processo de validação incremental...\\n\")\n",
    "for idx, row in tqdm(df_nao_validados.iterrows(), total=len(df_nao_validados)):\n",
    "    resultado = buscar_dados_contrato(\n",
    "        row['nr_contrato'], row['nr_orgao'], row['cnpj']\n",
    "    )\n",
    "    for chave, valor in resultado.items():\n",
    "        df.at[idx, chave] = valor\n",
    "\n",
    "    # Salvamento incremental\n",
    "    df.to_csv(CAMINHO_SAIDA, index=False)\n",
    "\n",
    "print(\"\\n✅ Validação finalizada com sucesso e arquivo salvo!\")"
   ]
  },
  {
   "cell_type": "code",
   "execution_count": null,
   "id": "026330b7-8348-42e2-aa19-ebb2c1aba802",
   "metadata": {},
   "outputs": [],
   "source": []
  }
 ],
 "metadata": {
  "kernelspec": {
   "display_name": "Python 3 (ipykernel)",
   "language": "python",
   "name": "python3"
  },
  "language_info": {
   "codemirror_mode": {
    "name": "ipython",
    "version": 3
   },
   "file_extension": ".py",
   "mimetype": "text/x-python",
   "name": "python",
   "nbconvert_exporter": "python",
   "pygments_lexer": "ipython3",
   "version": "3.9.6"
  }
 },
 "nbformat": 4,
 "nbformat_minor": 5
}
