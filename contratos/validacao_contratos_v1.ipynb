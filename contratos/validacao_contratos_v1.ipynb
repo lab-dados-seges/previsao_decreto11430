{
 "cells": [
  {
   "cell_type": "code",
   "execution_count": 1,
   "id": "f2fd4842-e607-42bc-a980-3369919c3d07",
   "metadata": {},
   "outputs": [],
   "source": [
    "import pandas as pd\n",
    "import requests\n",
    "import os\n",
    "import datetime\n",
    "import time\n",
    "import random\n",
    "from dotenv import load_dotenv"
   ]
  },
  {
   "cell_type": "markdown",
   "id": "e52b96dc-8fae-4033-831b-3cb2f758dd0b",
   "metadata": {},
   "source": [
    "## Validar o número de contrato e extrair informações do objeto do contrato a partir da API"
   ]
  },
  {
   "cell_type": "markdown",
   "id": "0f7a67c2-24be-423a-b9e5-265eb7cf5022",
   "metadata": {},
   "source": [
    "### Carregar o dataframe final tratado"
   ]
  },
  {
   "cell_type": "code",
   "execution_count": 2,
   "id": "8d404ced-4038-4207-b7f3-e4a43658cbd0",
   "metadata": {},
   "outputs": [],
   "source": [
    "df_final = pd.read_csv(\"../data/terceirizados/arquivos_tratados/consolidado_validacao.csv\", dtype=\"str\")\n",
    "\n",
    "# Padronizar os dados antes de chamar a API\n",
    "df_final['nr_contrato'] = df_final['nr_contrato'].astype(str).str.strip()\n",
    "df_final['cd_orgao_siafi'] = df_final['cd_orgao_siafi'].astype(str).str.strip()\n",
    "df_final['cnpj_formatado'] = df_final['cnpj_formatado'].astype(str).str.strip()"
   ]
  },
  {
   "cell_type": "code",
   "execution_count": 3,
   "id": "5fbe8823-079d-4c69-801b-ef823e412fde",
   "metadata": {},
   "outputs": [
    {
     "data": {
      "text/html": [
       "<div>\n",
       "<style scoped>\n",
       "    .dataframe tbody tr th:only-of-type {\n",
       "        vertical-align: middle;\n",
       "    }\n",
       "\n",
       "    .dataframe tbody tr th {\n",
       "        vertical-align: top;\n",
       "    }\n",
       "\n",
       "    .dataframe thead th {\n",
       "        text-align: right;\n",
       "    }\n",
       "</style>\n",
       "<table border=\"1\" class=\"dataframe\">\n",
       "  <thead>\n",
       "    <tr style=\"text-align: right;\">\n",
       "      <th></th>\n",
       "      <th>nr_contrato</th>\n",
       "      <th>cd_orgao_siafi</th>\n",
       "      <th>nm_razao_social</th>\n",
       "      <th>sg_orgao_sup_tabela_ug</th>\n",
       "      <th>cd_ug_gestora</th>\n",
       "      <th>nm_ug_tabela_ug</th>\n",
       "      <th>sg_ug_gestora</th>\n",
       "      <th>nr_cnpj</th>\n",
       "      <th>nm_unidade_prestacao</th>\n",
       "      <th>sg_orgao</th>\n",
       "      <th>nm_orgao</th>\n",
       "      <th>cd_orgao_siape</th>\n",
       "      <th>cnpj_formatado</th>\n",
       "    </tr>\n",
       "  </thead>\n",
       "  <tbody>\n",
       "    <tr>\n",
       "      <th>0</th>\n",
       "      <td>000002019</td>\n",
       "      <td>26273</td>\n",
       "      <td>SULCLEAN SERVICOS LTDA.</td>\n",
       "      <td>MIN.EDUC</td>\n",
       "      <td>154042</td>\n",
       "      <td>UNIVERIDADE FEDERAL DO RIO GRANDE - FURG</td>\n",
       "      <td>FURG</td>\n",
       "      <td>6205427000102</td>\n",
       "      <td>CIDEC / REITORIA</td>\n",
       "      <td>FURG</td>\n",
       "      <td>UNIVERSIDADE FEDERAL DO RIO GRANDE - FURG</td>\n",
       "      <td>26273</td>\n",
       "      <td>06.205.427/0001-02</td>\n",
       "    </tr>\n",
       "    <tr>\n",
       "      <th>1</th>\n",
       "      <td>000002023</td>\n",
       "      <td>20411</td>\n",
       "      <td>XYZ LTDA</td>\n",
       "      <td>MINC</td>\n",
       "      <td>343029</td>\n",
       "      <td>SUPERINTENDENCIA DO IPHAN NO DISTRITO FEDERAL</td>\n",
       "      <td>IPHAN-DF</td>\n",
       "      <td>0</td>\n",
       "      <td>IPHAN - DF</td>\n",
       "      <td>IPHAN</td>\n",
       "      <td>INSTITUTO DO PATRIMONIO HIST. E ART. NACIONAL</td>\n",
       "      <td>24204</td>\n",
       "      <td>00.000.000/0000-00</td>\n",
       "    </tr>\n",
       "    <tr>\n",
       "      <th>2</th>\n",
       "      <td>000012011</td>\n",
       "      <td>20411</td>\n",
       "      <td>POLO SEGURANCA ESPECIALIZADA LTDA.</td>\n",
       "      <td>MINIST.</td>\n",
       "      <td>343002</td>\n",
       "      <td>SUPERINTENDENCIA DO IPHAN NO PARA</td>\n",
       "      <td>IPHAN-PA</td>\n",
       "      <td>02650833000123</td>\n",
       "      <td>PREDIO SEDE/PA</td>\n",
       "      <td>IPHAN</td>\n",
       "      <td>INSTITUTO DO PATRIMONIO HIST. E ART. NACIONAL</td>\n",
       "      <td>24204</td>\n",
       "      <td>02.650.833/0001-23</td>\n",
       "    </tr>\n",
       "    <tr>\n",
       "      <th>3</th>\n",
       "      <td>000012012</td>\n",
       "      <td>20411</td>\n",
       "      <td>ARE SERVICOS LTDA</td>\n",
       "      <td>MINIST.</td>\n",
       "      <td>343003</td>\n",
       "      <td>IPHAN - SUPERINTENDENCIA DO MARANHAO</td>\n",
       "      <td>IPHAN-MA</td>\n",
       "      <td>11873594000161</td>\n",
       "      <td>SUPERINTENDENCIA</td>\n",
       "      <td>IPHAN</td>\n",
       "      <td>INSTITUTO DO PATRIMONIO HIST. E ART. NACIONAL</td>\n",
       "      <td>24204</td>\n",
       "      <td>11.873.594/0001-61</td>\n",
       "    </tr>\n",
       "    <tr>\n",
       "      <th>4</th>\n",
       "      <td>000012012</td>\n",
       "      <td>36212</td>\n",
       "      <td>RM SERVILOS EMPRESARIAIS LTDA-ME</td>\n",
       "      <td>MINISTER</td>\n",
       "      <td>253029</td>\n",
       "      <td>COORDENACAO ESTADUAL DE VIGILANCIA SANITARIA D...</td>\n",
       "      <td>CVSPAF-AC/ANVISA</td>\n",
       "      <td>09646758000176</td>\n",
       "      <td>CVPAF/AC-SEDE</td>\n",
       "      <td>ANVS</td>\n",
       "      <td>AGENCIA NACIONAL DE VIGILANCIA SANITARIA</td>\n",
       "      <td>36207</td>\n",
       "      <td>09.646.758/0001-76</td>\n",
       "    </tr>\n",
       "  </tbody>\n",
       "</table>\n",
       "</div>"
      ],
      "text/plain": [
       "  nr_contrato cd_orgao_siafi                     nm_razao_social  \\\n",
       "0   000002019          26273             SULCLEAN SERVICOS LTDA.   \n",
       "1   000002023          20411                            XYZ LTDA   \n",
       "2   000012011          20411  POLO SEGURANCA ESPECIALIZADA LTDA.   \n",
       "3   000012012          20411                   ARE SERVICOS LTDA   \n",
       "4   000012012          36212    RM SERVILOS EMPRESARIAIS LTDA-ME   \n",
       "\n",
       "  sg_orgao_sup_tabela_ug cd_ug_gestora  \\\n",
       "0               MIN.EDUC        154042   \n",
       "1                   MINC        343029   \n",
       "2               MINIST.         343002   \n",
       "3               MINIST.         343003   \n",
       "4               MINISTER        253029   \n",
       "\n",
       "                                     nm_ug_tabela_ug     sg_ug_gestora  \\\n",
       "0           UNIVERIDADE FEDERAL DO RIO GRANDE - FURG              FURG   \n",
       "1      SUPERINTENDENCIA DO IPHAN NO DISTRITO FEDERAL          IPHAN-DF   \n",
       "2                  SUPERINTENDENCIA DO IPHAN NO PARA          IPHAN-PA   \n",
       "3               IPHAN - SUPERINTENDENCIA DO MARANHAO          IPHAN-MA   \n",
       "4  COORDENACAO ESTADUAL DE VIGILANCIA SANITARIA D...  CVSPAF-AC/ANVISA   \n",
       "\n",
       "          nr_cnpj nm_unidade_prestacao sg_orgao  \\\n",
       "0   6205427000102     CIDEC / REITORIA     FURG   \n",
       "1               0           IPHAN - DF    IPHAN   \n",
       "2  02650833000123       PREDIO SEDE/PA    IPHAN   \n",
       "3  11873594000161     SUPERINTENDENCIA    IPHAN   \n",
       "4  09646758000176        CVPAF/AC-SEDE     ANVS   \n",
       "\n",
       "                                        nm_orgao cd_orgao_siape  \\\n",
       "0      UNIVERSIDADE FEDERAL DO RIO GRANDE - FURG          26273   \n",
       "1  INSTITUTO DO PATRIMONIO HIST. E ART. NACIONAL          24204   \n",
       "2  INSTITUTO DO PATRIMONIO HIST. E ART. NACIONAL          24204   \n",
       "3  INSTITUTO DO PATRIMONIO HIST. E ART. NACIONAL          24204   \n",
       "4       AGENCIA NACIONAL DE VIGILANCIA SANITARIA          36207   \n",
       "\n",
       "       cnpj_formatado  \n",
       "0  06.205.427/0001-02  \n",
       "1  00.000.000/0000-00  \n",
       "2  02.650.833/0001-23  \n",
       "3  11.873.594/0001-61  \n",
       "4  09.646.758/0001-76  "
      ]
     },
     "execution_count": 3,
     "metadata": {},
     "output_type": "execute_result"
    }
   ],
   "source": [
    "df_final.head()"
   ]
  },
  {
   "cell_type": "markdown",
   "id": "cbdc4852-b35f-4f29-9803-c356009bb461",
   "metadata": {},
   "source": [
    "### Configurar a API para requisição e validação"
   ]
  },
  {
   "cell_type": "code",
   "execution_count": 2,
   "id": "3219cd87-affc-4302-8261-ba6e1f5e4d99",
   "metadata": {},
   "outputs": [],
   "source": [
    "load_dotenv()\n",
    "API_KEY = os.getenv(\"API_PORTAL_TRANSPARENCIA\")"
   ]
  },
  {
   "cell_type": "code",
   "execution_count": 3,
   "id": "ed6dac83-d7c8-42b8-b1a0-0d404d70a243",
   "metadata": {},
   "outputs": [],
   "source": [
    "base_url = \"https://api.portaldatransparencia.gov.br/api-de-dados/contratos\"\n",
    "headers = {\n",
    "    \"chave-api-dados\": API_KEY,\n",
    "    \"Accept\": \"application/json\",\n",
    "}"
   ]
  },
  {
   "cell_type": "code",
   "execution_count": 5,
   "id": "edffa485-8c94-4f51-8b47-9672d87d9472",
   "metadata": {},
   "outputs": [],
   "source": [
    "# Criar sessão persistente para melhorar a performance\n",
    "session = requests.Session()\n",
    "session.headers.update(headers)"
   ]
  },
  {
   "cell_type": "code",
   "execution_count": 6,
   "id": "7dbd7794-5e31-4ef5-8f7d-4e5abb1db656",
   "metadata": {},
   "outputs": [],
   "source": [
    "# Limites de requisições por minuto conforme a API\n",
    "max_requisicoes_dia = 90   # 06:00 - 23:59\n",
    "max_requisicoes_madrugada = 300  # 00:00 - 05:59\n",
    "historico_requisicoes = []  # Armazena timestamps das requisições"
   ]
  },
  {
   "cell_type": "code",
   "execution_count": 7,
   "id": "cce35a0b-4dbc-4161-844b-adf775c05683",
   "metadata": {},
   "outputs": [],
   "source": [
    "# Diretórios\n",
    "caminho_checkpoint = \"../data/terceirizados/arquivos_para_validacao/\"\n",
    "caminho_saida_final = \"../data/terceirizados/arquivos_tratados/contratos_validados_completo.csv\""
   ]
  },
  {
   "cell_type": "markdown",
   "id": "6702c8a1-e20f-46ea-a1d4-1b873b81ac51",
   "metadata": {},
   "source": [
    "### Carregar arquivos já validados para não repetir o processo"
   ]
  },
  {
   "cell_type": "code",
   "execution_count": 8,
   "id": "4a710881-8dd2-41a4-8d9f-4ca637496826",
   "metadata": {},
   "outputs": [],
   "source": [
    "arquivos_parciais = [os.path.join(caminho_checkpoint, f) for f in os.listdir(caminho_checkpoint) if f.endswith(\".csv\")]\n",
    "df_parciais = [pd.read_csv(arquivo, dtype=str) for arquivo in arquivos_parciais] if arquivos_parciais else []"
   ]
  },
  {
   "cell_type": "code",
   "execution_count": 9,
   "id": "c696e166-b217-4f4c-ba78-e2d0367b24ed",
   "metadata": {},
   "outputs": [
    {
     "name": "stdout",
     "output_type": "stream",
     "text": [
      "📌 Contratos pendentes para validação: 22055\n"
     ]
    }
   ],
   "source": [
    "# Consolidar arquivos já validados\n",
    "df_validado_parcial = pd.concat(df_parciais, ignore_index=True) if df_parciais else pd.DataFrame()\n",
    "\n",
    "if not df_validado_parcial.empty:\n",
    "    contratos_validados = df_validado_parcial[['nr_contrato', 'cd_orgao_siafi']]\n",
    "    df_faltantes = df_final.merge(contratos_validados, on=['nr_contrato', 'cd_orgao_siafi'], how='left', indicator=True)\n",
    "    df_faltantes = df_faltantes[df_faltantes['_merge'] == 'left_only'].drop(columns=['_merge'])\n",
    "else:\n",
    "    df_faltantes = df_final.copy()\n",
    "\n",
    "print(f\"📌 Contratos pendentes para validação: {len(df_faltantes)}\")\n",
    "df_faltantes.to_csv(\"../data/terceirizados/arquivos_para_validacao/contratos_pendentes.csv\", index=False)"
   ]
  },
  {
   "cell_type": "code",
   "execution_count": 10,
   "id": "ccebe58d-c8b7-4c93-b316-26d5ae368258",
   "metadata": {},
   "outputs": [],
   "source": [
    "def respeitar_limite_requisicoes():\n",
    "    \"\"\"Garante que as requisições respeitam os limites da API.\"\"\"\n",
    "    global historico_requisicoes\n",
    "\n",
    "    agora = datetime.datetime.now()\n",
    "    limite_requisicoes = max_requisicoes_dia if 6 <= agora.hour <= 23 else max_requisicoes_madrugada\n",
    "\n",
    "    # Remover registros mais antigos que 60 segundos\n",
    "    historico_requisicoes = [t for t in historico_requisicoes if (agora - t).seconds < 60]\n",
    "\n",
    "    if len(historico_requisicoes) >= limite_requisicoes:\n",
    "        tempo_espera = 60 - (agora - historico_requisicoes[0]).seconds\n",
    "        print(f\"⏳ Limite de {limite_requisicoes} requisições atingido. Aguardando {tempo_espera} segundos...\")\n",
    "        time.sleep(tempo_espera)\n",
    "\n",
    "    historico_requisicoes.append(datetime.datetime.now())"
   ]
  },
  {
   "cell_type": "markdown",
   "id": "1220101d-1808-49c2-a111-1cda94514029",
   "metadata": {},
   "source": [
    "### Função para buscar os dados na API"
   ]
  },
  {
   "cell_type": "code",
   "execution_count": 11,
   "id": "46fc69aa-1d73-4666-9d83-e0c08876d099",
   "metadata": {},
   "outputs": [],
   "source": [
    "# Variável global para armazenar ocorrências\n",
    "erros_contratos = []\n",
    "\n",
    "def buscar_dados_contrato(row):\n",
    "    numero_contrato = row['nr_contrato']\n",
    "    orgao_siafi = row['cd_orgao_siafi']\n",
    "    cnpj_formatado = row['cnpj_formatado']\n",
    "\n",
    "    tentativas_maximas = 3\n",
    "\n",
    "    for tentativa in range(tentativas_maximas):\n",
    "        respeitar_limite_requisicoes()\n",
    "        time.sleep(random.uniform(0.5, 1.5))\n",
    "        \n",
    "        try:\n",
    "            url = f\"{base_url}?numero={numero_contrato}&codigoOrgao={orgao_siafi}\"\n",
    "            response = session.get(url, timeout=10)\n",
    "\n",
    "            if response.status_code != 200:\n",
    "                continue  \n",
    "\n",
    "            try:\n",
    "                data = response.json()\n",
    "            except ValueError:\n",
    "                continue  \n",
    "\n",
    "            if not data:\n",
    "                erros_contratos.append(f\"{numero_contrato} - Não encontrado\")\n",
    "                return {\"status_validacao\": \"Não encontrado\"}\n",
    "\n",
    "            if len(data) == 1:\n",
    "                contrato = data[0]\n",
    "            else:\n",
    "                contrato = next(\n",
    "                    (contrato for contrato in data \n",
    "                     if cnpj_formatado == contrato['fornecedor'].get('cnpjFormatado', '').strip()),\n",
    "                    None\n",
    "                )\n",
    "\n",
    "                if not contrato:\n",
    "                    erros_contratos.append(f\"{numero_contrato} - CNPJ não corresponde\")\n",
    "                    return {\"status_validacao\": \"CNPJ não corresponde\"}\n",
    "\n",
    "            return {\n",
    "                \"id_contrato\": contrato.get(\"id\", \"\"),\n",
    "                \"objeto_contrato\": contrato.get(\"objeto\", \"\"),\n",
    "                \"objeto_compra\": contrato.get(\"compra\", {}).get(\"objeto\", \"\"),\n",
    "                \"dataAssinatura\": contrato.get(\"dataAssinatura\", \"\"),\n",
    "                \"dataPublicacaoDOU\": contrato.get(\"dataPublicacaoDOU\", \"\"),\n",
    "                \"dataInicioVigencia\": contrato.get(\"dataInicioVigencia\", \"\"),\n",
    "                \"dataFimVigencia\": contrato.get(\"dataFimVigencia\", \"\"),\n",
    "                \"tipo_fornecedor\": contrato.get(\"fornecedor\", {}).get(\"tipo\", \"\"),\n",
    "                \"valorInicialCompra\": contrato.get(\"valorInicialCompra\", \"\"),\n",
    "                \"valorFinalCompra\": contrato.get(\"valorFinalCompra\", \"\")\n",
    "            }\n",
    "\n",
    "        except requests.exceptions.RequestException:\n",
    "            continue  \n",
    "\n",
    "    erros_contratos.append(f\"{numero_contrato} - Erro na API\")\n",
    "    return {\"status_validacao\": \"Erro na API\"}"
   ]
  },
  {
   "cell_type": "markdown",
   "id": "7be9a3dc-0c45-4e52-afa7-92eb3c14b767",
   "metadata": {},
   "source": [
    "### Processar os contratos em lotes"
   ]
  },
  {
   "cell_type": "code",
   "execution_count": 12,
   "id": "6ce60ecc-a408-47ac-be73-f0d7285edcf0",
   "metadata": {},
   "outputs": [
    {
     "name": "stdout",
     "output_type": "stream",
     "text": [
      "🔍 Processando lote 1 de 23...\n",
      "🔍 Processando lote 2 de 23...\n",
      "🔍 Processando lote 3 de 23...\n",
      "🔍 Processando lote 4 de 23...\n",
      "🔍 Processando lote 5 de 23...\n",
      "🔍 Processando lote 6 de 23...\n",
      "🔍 Processando lote 7 de 23...\n",
      "🔍 Processando lote 8 de 23...\n",
      "🔍 Processando lote 9 de 23...\n",
      "🔍 Processando lote 10 de 23...\n",
      "🔍 Processando lote 11 de 23...\n",
      "🔍 Processando lote 12 de 23...\n",
      "🔍 Processando lote 13 de 23...\n",
      "🔍 Processando lote 14 de 23...\n",
      "🔍 Processando lote 15 de 23...\n",
      "🔍 Processando lote 16 de 23...\n",
      "🔍 Processando lote 17 de 23...\n",
      "🔍 Processando lote 18 de 23...\n",
      "🔍 Processando lote 19 de 23...\n",
      "🔍 Processando lote 20 de 23...\n",
      "🔍 Processando lote 21 de 23...\n",
      "🔍 Processando lote 22 de 23...\n",
      "🔍 Processando lote 23 de 23...\n",
      "📄 Log de erros salvo com 21451 inconsistências.\n",
      "✅ Processo concluído! Total de registros processados: 22055\n"
     ]
    }
   ],
   "source": [
    "tamanho_lote = 1000  # Processar 1.000 registros por vez\n",
    "df_corrigido = pd.DataFrame()\n",
    "\n",
    "for i in range(0, len(df_faltantes), tamanho_lote):\n",
    "    print(f\"🔍 Processando lote {i // tamanho_lote + 1} de {len(df_faltantes) // tamanho_lote + 1}...\")\n",
    "\n",
    "    df_lote = df_faltantes.iloc[i:i + tamanho_lote].copy()\n",
    "    dados_api = df_lote.apply(buscar_dados_contrato, axis=1)\n",
    "    df_api = pd.DataFrame(dados_api.tolist())\n",
    "\n",
    "    df_lote = pd.concat([df_lote.reset_index(drop=True), df_api.reset_index(drop=True)], axis=1)\n",
    "    df_lote.to_csv(os.path.join(caminho_checkpoint, f\"contratos_validacao_parcial_{i}.csv\"), index=False)\n",
    "    df_corrigido = pd.concat([df_corrigido, df_lote], ignore_index=True)\n",
    "\n",
    "    respeitar_limite_requisicoes()\n",
    "    time.sleep(random.uniform(1, 3))  # Reduzi para otimizar o tempo sem sobrecarregar a API\n",
    "\n",
    "# Salvar relatório de erros\n",
    "if erros_contratos:\n",
    "    with open(\"erros_validacao.txt\", \"w\") as f:\n",
    "        for erro in erros_contratos:\n",
    "            f.write(f\"{erro}\\n\")\n",
    "    print(f\"📄 Log de erros salvo com {len(erros_contratos)} inconsistências.\")\n",
    "\n",
    "print(f\"✅ Processo concluído! Total de registros processados: {len(df_corrigido)}\")"
   ]
  },
  {
   "cell_type": "markdown",
   "id": "9d0979ad-63b6-43ce-8c47-90dbfebe76da",
   "metadata": {},
   "source": [
    "## Consolidar os arquivos com os contratos validados para verificar as inconsistências"
   ]
  },
  {
   "cell_type": "code",
   "execution_count": 13,
   "id": "e61a7aa2-8d1b-47b4-b279-53c735b88e4a",
   "metadata": {},
   "outputs": [
    {
     "name": "stdout",
     "output_type": "stream",
     "text": [
      "🚀 Arquivo final consolidado salvo em: ../data/terceirizados/arquivos_tratados/contratos_validados_completo.csv\n"
     ]
    }
   ],
   "source": [
    "df_validado_final = pd.concat([df_validado_parcial, df_corrigido], ignore_index=True)\n",
    "df_validado_final.to_csv(caminho_saida_final, index=False, float_format=\"%.2f\")\n",
    "\n",
    "print(f\"🚀 Arquivo final consolidado salvo em: {caminho_saida_final}\")"
   ]
  },
  {
   "cell_type": "code",
   "execution_count": null,
   "id": "5448fa7c-8176-4065-8e47-3fd5edb487e6",
   "metadata": {},
   "outputs": [],
   "source": []
  }
 ],
 "metadata": {
  "kernelspec": {
   "display_name": "Python 3 (ipykernel)",
   "language": "python",
   "name": "python3"
  },
  "language_info": {
   "codemirror_mode": {
    "name": "ipython",
    "version": 3
   },
   "file_extension": ".py",
   "mimetype": "text/x-python",
   "name": "python",
   "nbconvert_exporter": "python",
   "pygments_lexer": "ipython3",
   "version": "3.9.6"
  }
 },
 "nbformat": 4,
 "nbformat_minor": 5
}
