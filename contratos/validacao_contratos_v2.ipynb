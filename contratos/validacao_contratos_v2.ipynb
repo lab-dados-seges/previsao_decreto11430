{
 "cells": [
  {
   "cell_type": "code",
   "execution_count": 1,
   "id": "a9169344-27d0-4ce4-a581-414548dbfab6",
   "metadata": {},
   "outputs": [],
   "source": [
    "import pandas as pd\n",
    "import requests\n",
    "import os\n",
    "import datetime\n",
    "import time\n",
    "import random\n",
    "from dotenv import load_dotenv"
   ]
  },
  {
   "cell_type": "markdown",
   "id": "6099dc86-c395-4a60-839c-ca62cc9697f6",
   "metadata": {},
   "source": [
    "## Validar o número de contrato e extrair informações do objeto do contrato a partir da API"
   ]
  },
  {
   "cell_type": "markdown",
   "id": "87f7bf30-118b-43d3-a83b-b69bbe553b6b",
   "metadata": {},
   "source": [
    "Nessa versão usaremos outra regra do número de contrato: primeiro a validação vai tentar com o nr_contrato padronizado com 9 dígitos, caso não tenha sucesso, vamos retirar o zero à esquerda para ficar apenas os números e tentar novamente. "
   ]
  },
  {
   "cell_type": "markdown",
   "id": "570d85f4-6df7-4907-aae2-faa76b42958c",
   "metadata": {},
   "source": [
    "### Carregar o dataframe final tratado"
   ]
  },
  {
   "cell_type": "code",
   "execution_count": 2,
   "id": "0055252f-fbe3-4641-b3eb-d5dfd97c2b73",
   "metadata": {},
   "outputs": [],
   "source": [
    "df_final = pd.read_csv(\"../data/terceirizados/arquivos_tratados/consolidado_validacao.csv\", dtype=\"str\")\n",
    "\n",
    "# Padronizar os dados antes de chamar a API\n",
    "df_final['nr_contrato'] = df_final['nr_contrato'].astype(str).str.strip()\n",
    "df_final['cd_orgao_siafi'] = df_final['cd_orgao_siafi'].astype(str).str.strip()\n",
    "df_final['cnpj_formatado'] = df_final['cnpj_formatado'].astype(str).str.strip()"
   ]
  },
  {
   "cell_type": "code",
   "execution_count": 3,
   "id": "566cdaec-bb96-46be-9a47-cb47105de705",
   "metadata": {},
   "outputs": [
    {
     "data": {
      "text/html": [
       "<div>\n",
       "<style scoped>\n",
       "    .dataframe tbody tr th:only-of-type {\n",
       "        vertical-align: middle;\n",
       "    }\n",
       "\n",
       "    .dataframe tbody tr th {\n",
       "        vertical-align: top;\n",
       "    }\n",
       "\n",
       "    .dataframe thead th {\n",
       "        text-align: right;\n",
       "    }\n",
       "</style>\n",
       "<table border=\"1\" class=\"dataframe\">\n",
       "  <thead>\n",
       "    <tr style=\"text-align: right;\">\n",
       "      <th></th>\n",
       "      <th>nr_contrato</th>\n",
       "      <th>cd_orgao_siafi</th>\n",
       "      <th>nm_razao_social</th>\n",
       "      <th>sg_orgao_sup_tabela_ug</th>\n",
       "      <th>cd_ug_gestora</th>\n",
       "      <th>nm_ug_tabela_ug</th>\n",
       "      <th>sg_ug_gestora</th>\n",
       "      <th>nr_cnpj</th>\n",
       "      <th>nm_unidade_prestacao</th>\n",
       "      <th>sg_orgao</th>\n",
       "      <th>nm_orgao</th>\n",
       "      <th>cd_orgao_siape</th>\n",
       "      <th>cnpj_formatado</th>\n",
       "    </tr>\n",
       "  </thead>\n",
       "  <tbody>\n",
       "    <tr>\n",
       "      <th>0</th>\n",
       "      <td>000002019</td>\n",
       "      <td>26273</td>\n",
       "      <td>SULCLEAN SERVICOS LTDA.</td>\n",
       "      <td>MIN.EDUC</td>\n",
       "      <td>154042</td>\n",
       "      <td>UNIVERIDADE FEDERAL DO RIO GRANDE - FURG</td>\n",
       "      <td>FURG</td>\n",
       "      <td>6205427000102</td>\n",
       "      <td>CIDEC / REITORIA</td>\n",
       "      <td>FURG</td>\n",
       "      <td>UNIVERSIDADE FEDERAL DO RIO GRANDE - FURG</td>\n",
       "      <td>26273</td>\n",
       "      <td>06.205.427/0001-02</td>\n",
       "    </tr>\n",
       "    <tr>\n",
       "      <th>1</th>\n",
       "      <td>000002023</td>\n",
       "      <td>20411</td>\n",
       "      <td>XYZ LTDA</td>\n",
       "      <td>MINC</td>\n",
       "      <td>343029</td>\n",
       "      <td>SUPERINTENDENCIA DO IPHAN NO DISTRITO FEDERAL</td>\n",
       "      <td>IPHAN-DF</td>\n",
       "      <td>0</td>\n",
       "      <td>IPHAN - DF</td>\n",
       "      <td>IPHAN</td>\n",
       "      <td>INSTITUTO DO PATRIMONIO HIST. E ART. NACIONAL</td>\n",
       "      <td>24204</td>\n",
       "      <td>00.000.000/0000-00</td>\n",
       "    </tr>\n",
       "    <tr>\n",
       "      <th>2</th>\n",
       "      <td>000012011</td>\n",
       "      <td>20411</td>\n",
       "      <td>POLO SEGURANCA ESPECIALIZADA LTDA.</td>\n",
       "      <td>MINIST.</td>\n",
       "      <td>343002</td>\n",
       "      <td>SUPERINTENDENCIA DO IPHAN NO PARA</td>\n",
       "      <td>IPHAN-PA</td>\n",
       "      <td>02650833000123</td>\n",
       "      <td>PREDIO SEDE/PA</td>\n",
       "      <td>IPHAN</td>\n",
       "      <td>INSTITUTO DO PATRIMONIO HIST. E ART. NACIONAL</td>\n",
       "      <td>24204</td>\n",
       "      <td>02.650.833/0001-23</td>\n",
       "    </tr>\n",
       "    <tr>\n",
       "      <th>3</th>\n",
       "      <td>000012012</td>\n",
       "      <td>20411</td>\n",
       "      <td>ARE SERVICOS LTDA</td>\n",
       "      <td>MINIST.</td>\n",
       "      <td>343003</td>\n",
       "      <td>IPHAN - SUPERINTENDENCIA DO MARANHAO</td>\n",
       "      <td>IPHAN-MA</td>\n",
       "      <td>11873594000161</td>\n",
       "      <td>SUPERINTENDENCIA</td>\n",
       "      <td>IPHAN</td>\n",
       "      <td>INSTITUTO DO PATRIMONIO HIST. E ART. NACIONAL</td>\n",
       "      <td>24204</td>\n",
       "      <td>11.873.594/0001-61</td>\n",
       "    </tr>\n",
       "    <tr>\n",
       "      <th>4</th>\n",
       "      <td>000012012</td>\n",
       "      <td>36212</td>\n",
       "      <td>RM SERVILOS EMPRESARIAIS LTDA-ME</td>\n",
       "      <td>MINISTER</td>\n",
       "      <td>253029</td>\n",
       "      <td>COORDENACAO ESTADUAL DE VIGILANCIA SANITARIA D...</td>\n",
       "      <td>CVSPAF-AC/ANVISA</td>\n",
       "      <td>09646758000176</td>\n",
       "      <td>CVPAF/AC-SEDE</td>\n",
       "      <td>ANVS</td>\n",
       "      <td>AGENCIA NACIONAL DE VIGILANCIA SANITARIA</td>\n",
       "      <td>36207</td>\n",
       "      <td>09.646.758/0001-76</td>\n",
       "    </tr>\n",
       "  </tbody>\n",
       "</table>\n",
       "</div>"
      ],
      "text/plain": [
       "  nr_contrato cd_orgao_siafi                     nm_razao_social  \\\n",
       "0   000002019          26273             SULCLEAN SERVICOS LTDA.   \n",
       "1   000002023          20411                            XYZ LTDA   \n",
       "2   000012011          20411  POLO SEGURANCA ESPECIALIZADA LTDA.   \n",
       "3   000012012          20411                   ARE SERVICOS LTDA   \n",
       "4   000012012          36212    RM SERVILOS EMPRESARIAIS LTDA-ME   \n",
       "\n",
       "  sg_orgao_sup_tabela_ug cd_ug_gestora  \\\n",
       "0               MIN.EDUC        154042   \n",
       "1                   MINC        343029   \n",
       "2               MINIST.         343002   \n",
       "3               MINIST.         343003   \n",
       "4               MINISTER        253029   \n",
       "\n",
       "                                     nm_ug_tabela_ug     sg_ug_gestora  \\\n",
       "0           UNIVERIDADE FEDERAL DO RIO GRANDE - FURG              FURG   \n",
       "1      SUPERINTENDENCIA DO IPHAN NO DISTRITO FEDERAL          IPHAN-DF   \n",
       "2                  SUPERINTENDENCIA DO IPHAN NO PARA          IPHAN-PA   \n",
       "3               IPHAN - SUPERINTENDENCIA DO MARANHAO          IPHAN-MA   \n",
       "4  COORDENACAO ESTADUAL DE VIGILANCIA SANITARIA D...  CVSPAF-AC/ANVISA   \n",
       "\n",
       "          nr_cnpj nm_unidade_prestacao sg_orgao  \\\n",
       "0   6205427000102     CIDEC / REITORIA     FURG   \n",
       "1               0           IPHAN - DF    IPHAN   \n",
       "2  02650833000123       PREDIO SEDE/PA    IPHAN   \n",
       "3  11873594000161     SUPERINTENDENCIA    IPHAN   \n",
       "4  09646758000176        CVPAF/AC-SEDE     ANVS   \n",
       "\n",
       "                                        nm_orgao cd_orgao_siape  \\\n",
       "0      UNIVERSIDADE FEDERAL DO RIO GRANDE - FURG          26273   \n",
       "1  INSTITUTO DO PATRIMONIO HIST. E ART. NACIONAL          24204   \n",
       "2  INSTITUTO DO PATRIMONIO HIST. E ART. NACIONAL          24204   \n",
       "3  INSTITUTO DO PATRIMONIO HIST. E ART. NACIONAL          24204   \n",
       "4       AGENCIA NACIONAL DE VIGILANCIA SANITARIA          36207   \n",
       "\n",
       "       cnpj_formatado  \n",
       "0  06.205.427/0001-02  \n",
       "1  00.000.000/0000-00  \n",
       "2  02.650.833/0001-23  \n",
       "3  11.873.594/0001-61  \n",
       "4  09.646.758/0001-76  "
      ]
     },
     "execution_count": 3,
     "metadata": {},
     "output_type": "execute_result"
    }
   ],
   "source": [
    "df_final.head()"
   ]
  },
  {
   "cell_type": "markdown",
   "id": "6e331dcb-6c2c-4555-a4d2-83ad1c4facc7",
   "metadata": {},
   "source": [
    "### Configurar a API para requisição e validação"
   ]
  },
  {
   "cell_type": "code",
   "execution_count": 2,
   "id": "5fe1599a-51c8-46e2-90f0-95bb09e7fd22",
   "metadata": {},
   "outputs": [],
   "source": [
    "load_dotenv()\n",
    "API_KEY = os.getenv(\"API_PORTAL_TRANSPARENCIA\")"
   ]
  },
  {
   "cell_type": "code",
   "execution_count": 3,
   "id": "e99d27f3-a73e-40fa-b74b-8b9bacafa546",
   "metadata": {},
   "outputs": [],
   "source": [
    "base_url = \"https://api.portaldatransparencia.gov.br/api-de-dados/contratos\"\n",
    "headers = {\n",
    "    \"chave-api-dados\": API_KEY,\n",
    "    \"Accept\": \"application/json\",\n",
    "}"
   ]
  },
  {
   "cell_type": "code",
   "execution_count": 5,
   "id": "2e6942fc-be33-49ff-b137-18af68ecf7da",
   "metadata": {},
   "outputs": [],
   "source": [
    "# Criar sessão persistente para melhorar a performance\n",
    "session = requests.Session()\n",
    "session.headers.update(headers)"
   ]
  },
  {
   "cell_type": "code",
   "execution_count": 6,
   "id": "b014cd25-9e88-48b4-a6a7-50474b724001",
   "metadata": {},
   "outputs": [],
   "source": [
    "# Limites de requisições por minuto conforme a API\n",
    "max_requisicoes_dia = 90   # 06:00 - 23:59\n",
    "max_requisicoes_madrugada = 300  # 00:00 - 05:59\n",
    "historico_requisicoes = []  # Armazena timestamps das requisições"
   ]
  },
  {
   "cell_type": "code",
   "execution_count": 7,
   "id": "6e5e4696-4d5d-40e7-aa99-0716afe331e1",
   "metadata": {},
   "outputs": [],
   "source": [
    "# Diretórios\n",
    "caminho_checkpoint = \"../data/terceirizados/arquivos_para_validacao_v2/\"\n",
    "caminho_saida_final = \"../data/terceirizados/arquivos_tratados_v2/contratos_validados_completo_v2.csv\""
   ]
  },
  {
   "cell_type": "markdown",
   "id": "b0043a7e-c0c0-44b1-8ff1-9d853e48bd98",
   "metadata": {},
   "source": [
    "### Carregar arquivos já validados para não repetir o processo"
   ]
  },
  {
   "cell_type": "code",
   "execution_count": 8,
   "id": "e6878bd2-0e6a-4b3d-b16b-f5b2d5a9ec13",
   "metadata": {},
   "outputs": [],
   "source": [
    "arquivos_parciais = [os.path.join(caminho_checkpoint, f) for f in os.listdir(caminho_checkpoint) if f.endswith(\".csv\")]\n",
    "df_parciais = [pd.read_csv(arquivo, dtype=str) for arquivo in arquivos_parciais] if arquivos_parciais else []"
   ]
  },
  {
   "cell_type": "code",
   "execution_count": 9,
   "id": "d699224a-a50a-4534-8996-a5b98bfe19e5",
   "metadata": {},
   "outputs": [
    {
     "name": "stdout",
     "output_type": "stream",
     "text": [
      "📌 Contratos pendentes para validação: 8998\n"
     ]
    }
   ],
   "source": [
    "# Consolidar arquivos já validados\n",
    "df_validado_parcial = pd.concat(df_parciais, ignore_index=True) if df_parciais else pd.DataFrame()\n",
    "\n",
    "if not df_validado_parcial.empty:\n",
    "    contratos_validados = df_validado_parcial[['nr_contrato', 'cd_orgao_siafi']]\n",
    "    df_faltantes = df_final.merge(contratos_validados, on=['nr_contrato', 'cd_orgao_siafi'], how='left', indicator=True)\n",
    "    df_faltantes = df_faltantes[df_faltantes['_merge'] == 'left_only'].drop(columns=['_merge'])\n",
    "else:\n",
    "    df_faltantes = df_final.copy()\n",
    "\n",
    "print(f\"📌 Contratos pendentes para validação: {len(df_faltantes)}\")\n",
    "df_faltantes.to_csv(\"../data/terceirizados/arquivos_para_validacao_v2/contratos_pendentes_v2.csv\", index=False)"
   ]
  },
  {
   "cell_type": "code",
   "execution_count": 10,
   "id": "eebd78f8-cbcf-403a-a04c-aa2fb78a86af",
   "metadata": {},
   "outputs": [],
   "source": [
    "def respeitar_limite_requisicoes():\n",
    "    \"\"\"Garante que as requisições respeitam os limites da API.\"\"\"\n",
    "    global historico_requisicoes\n",
    "\n",
    "    agora = datetime.datetime.now()\n",
    "    limite_requisicoes = max_requisicoes_dia if 6 <= agora.hour <= 23 else max_requisicoes_madrugada\n",
    "\n",
    "    # Remover registros mais antigos que 60 segundos\n",
    "    historico_requisicoes = [t for t in historico_requisicoes if (agora - t).seconds < 60]\n",
    "\n",
    "    if len(historico_requisicoes) >= limite_requisicoes:\n",
    "        tempo_espera = 60 - (agora - historico_requisicoes[0]).seconds\n",
    "        print(f\"⏳ Limite de {limite_requisicoes} requisições atingido. Aguardando {tempo_espera} segundos...\")\n",
    "        time.sleep(tempo_espera)\n",
    "\n",
    "    historico_requisicoes.append(datetime.datetime.now())"
   ]
  },
  {
   "cell_type": "markdown",
   "id": "38b68d55-8e38-4a93-9fd1-d3ccab56c3cb",
   "metadata": {},
   "source": [
    "### Função para buscar os dados na API"
   ]
  },
  {
   "cell_type": "code",
   "execution_count": 11,
   "id": "c31e6090-f4e8-4271-a3c9-e8deaa7171c4",
   "metadata": {},
   "outputs": [],
   "source": [
    "# Variável global para armazenar ocorrências\n",
    "erros_contratos = []\n",
    "\n",
    "def buscar_dados_contrato(row):\n",
    "    numero_contrato_original = str(row['nr_contrato']).strip()\n",
    "    orgao_siafi = str(row['cd_orgao_siafi']).strip()\n",
    "    cnpj_formatado = str(row['cnpj_formatado']).strip()\n",
    "\n",
    "    tentativas_maximas = 3\n",
    "\n",
    "    for tentativa in range(tentativas_maximas):\n",
    "        respeitar_limite_requisicoes()\n",
    "        time.sleep(random.uniform(0.5, 1.5))\n",
    "\n",
    "        for numero_contrato in [numero_contrato_original, numero_contrato_original.lstrip(\"0\")]:\n",
    "            try:\n",
    "                url = f\"{base_url}?numero={numero_contrato}&codigoOrgao={orgao_siafi}\"\n",
    "                response = session.get(url, timeout=10)\n",
    "\n",
    "                if response.status_code != 200:\n",
    "                    continue  # Tenta novamente com o mesmo número (em outra iteração)\n",
    "\n",
    "                try:\n",
    "                    data = response.json()\n",
    "                except ValueError:\n",
    "                    continue  # Tenta novamente\n",
    "\n",
    "                if not data:\n",
    "                    continue  # Tenta a próxima versão do número (sem zero)\n",
    "\n",
    "                # Caso encontre resultados\n",
    "                if len(data) == 1:\n",
    "                    contrato = data[0]\n",
    "                else:\n",
    "                    contrato = next(\n",
    "                        (contrato for contrato in data\n",
    "                         if cnpj_formatado == contrato['fornecedor'].get('cnpjFormatado', '').strip()),\n",
    "                        None\n",
    "                    )\n",
    "\n",
    "                    if not contrato:\n",
    "                        erros_contratos.append(f\"{numero_contrato} - CNPJ não corresponde\")\n",
    "                        return {\"status_validacao\": \"CNPJ não corresponde\"}\n",
    "\n",
    "                return {\n",
    "                    \"id_contrato\": contrato.get(\"id\", \"\"),\n",
    "                    \"objeto_contrato\": contrato.get(\"objeto\", \"\"),\n",
    "                    \"objeto_compra\": contrato.get(\"compra\", {}).get(\"objeto\", \"\"),\n",
    "                    \"dataAssinatura\": contrato.get(\"dataAssinatura\", \"\"),\n",
    "                    \"dataPublicacaoDOU\": contrato.get(\"dataPublicacaoDOU\", \"\"),\n",
    "                    \"dataInicioVigencia\": contrato.get(\"dataInicioVigencia\", \"\"),\n",
    "                    \"dataFimVigencia\": contrato.get(\"dataFimVigencia\", \"\"),\n",
    "                    \"tipo_fornecedor\": contrato.get(\"fornecedor\", {}).get(\"tipo\", \"\"),\n",
    "                    \"valorInicialCompra\": contrato.get(\"valorInicialCompra\", \"\"),\n",
    "                    \"valorFinalCompra\": contrato.get(\"valorFinalCompra\", \"\")\n",
    "                }\n",
    "\n",
    "            except requests.exceptions.RequestException:\n",
    "                continue  # Tenta novamente\n",
    "\n",
    "    erros_contratos.append(f\"{numero_contrato_original} - Erro na API ou sem correspondência\")\n",
    "    return {\"status_validacao\": \"Erro na API ou sem correspondência\"}"
   ]
  },
  {
   "cell_type": "markdown",
   "id": "0b2e5839-1e43-4eff-a6c9-0ecd1e3fca4d",
   "metadata": {},
   "source": [
    "### Processar os contratos em lotes"
   ]
  },
  {
   "cell_type": "code",
   "execution_count": null,
   "id": "c44d8c99-0bdd-450b-9d29-cccd96dd3079",
   "metadata": {},
   "outputs": [
    {
     "name": "stdout",
     "output_type": "stream",
     "text": [
      "🔍 Processando lote 1 de 9...\n"
     ]
    }
   ],
   "source": [
    "tamanho_lote = 1000  # Processar 1.000 registros por vez\n",
    "df_corrigido = pd.DataFrame()\n",
    "\n",
    "for i in range(0, len(df_faltantes), tamanho_lote):\n",
    "    print(f\"🔍 Processando lote {i // tamanho_lote + 1} de {len(df_faltantes) // tamanho_lote + 1}...\")\n",
    "\n",
    "    df_lote = df_faltantes.iloc[i:i + tamanho_lote].copy()\n",
    "    dados_api = df_lote.apply(buscar_dados_contrato, axis=1)\n",
    "    df_api = pd.DataFrame(dados_api.tolist())\n",
    "\n",
    "    df_lote = pd.concat([df_lote.reset_index(drop=True), df_api.reset_index(drop=True)], axis=1)\n",
    "    df_lote.to_csv(os.path.join(caminho_checkpoint, f\"contratos_validacao_parcial_{i}.csv\"), index=False)\n",
    "    df_corrigido = pd.concat([df_corrigido, df_lote], ignore_index=True)\n",
    "\n",
    "    respeitar_limite_requisicoes()\n",
    "    time.sleep(random.uniform(1, 3))\n",
    "\n",
    "# Salvar relatório de erros\n",
    "if erros_contratos:\n",
    "    with open(\"erros_validacao.txt\", \"w\") as f:\n",
    "        for erro in erros_contratos:\n",
    "            f.write(f\"{erro}\\n\")\n",
    "    print(f\"📄 Log de erros salvo com {len(erros_contratos)} inconsistências.\")\n",
    "\n",
    "print(f\"✅ Processo concluído! Total de registros processados: {len(df_corrigido)}\")"
   ]
  },
  {
   "cell_type": "markdown",
   "id": "08f34cb0-8761-40b4-896d-9a44c17c80e9",
   "metadata": {},
   "source": [
    "## Consolidar os arquivos com os contratos validados para verificar as inconsistências"
   ]
  },
  {
   "cell_type": "code",
   "execution_count": null,
   "id": "25ce8368-e054-472e-b4df-3edec33a1998",
   "metadata": {},
   "outputs": [],
   "source": [
    "df_validado_final = pd.concat([df_validado_parcial, df_corrigido], ignore_index=True)\n",
    "df_validado_final.to_csv(caminho_saida_final, index=False, float_format=\"%.2f\")\n",
    "\n",
    "print(f\"🚀 Arquivo final consolidado salvo em: {caminho_saida_final}\")"
   ]
  },
  {
   "cell_type": "code",
   "execution_count": null,
   "id": "44e99d1c-5746-4da6-926e-fb237e4cfcd4",
   "metadata": {},
   "outputs": [],
   "source": []
  }
 ],
 "metadata": {
  "kernelspec": {
   "display_name": "Python 3 (ipykernel)",
   "language": "python",
   "name": "python3"
  },
  "language_info": {
   "codemirror_mode": {
    "name": "ipython",
    "version": 3
   },
   "file_extension": ".py",
   "mimetype": "text/x-python",
   "name": "python",
   "nbconvert_exporter": "python",
   "pygments_lexer": "ipython3",
   "version": "3.9.6"
  }
 },
 "nbformat": 4,
 "nbformat_minor": 5
}
