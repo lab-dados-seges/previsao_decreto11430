{
 "cells": [
  {
   "cell_type": "code",
   "execution_count": 1,
   "id": "6f34dd9e-ea1f-450e-bb5f-a394ae6abc7c",
   "metadata": {},
   "outputs": [],
   "source": [
    "import pandas as pd\n",
    "import numpy as np\n",
    "import matplotlib.pyplot as plt\n",
    "import seaborn as sns\n",
    "from sklearn.model_selection import train_test_split\n",
    "from sklearn.pipeline import Pipeline\n",
    "from sklearn.compose import ColumnTransformer\n",
    "from sklearn.preprocessing import OneHotEncoder, StandardScaler\n",
    "from sklearn.feature_extraction.text import TfidfVectorizer\n",
    "from sklearn.metrics import root_mean_squared_error, r2_score\n",
    "from sklearn.linear_model import LinearRegression\n",
    "from sklearn.ensemble import RandomForestRegressor, GradientBoostingRegressor\n",
    "from sklearn.neighbors import KNeighborsRegressor\n",
    "from xgboost import XGBRegressor\n",
    "import nltk\n",
    "from nltk.corpus import stopwords\n",
    "from datetime import datetime\n",
    "import unicodedata"
   ]
  },
  {
   "cell_type": "markdown",
   "id": "1d0d2dce-38bf-4312-8601-4adc28c7b095",
   "metadata": {},
   "source": [
    "## Agregar o quantitativo de terceirizados por contrato"
   ]
  },
  {
   "cell_type": "markdown",
   "id": "e41c45b4-0758-464c-a4b9-521cb764b116",
   "metadata": {},
   "source": [
    "Como o foco é o quantitativo total por contrato, já que o percentual será aplicado nas vagas totais, vamos agregar o quantitativo de terceirizados por contrato."
   ]
  },
  {
   "cell_type": "code",
   "execution_count": 2,
   "id": "ebdbe214-f62a-4be5-a0fd-cac0c5bff79f",
   "metadata": {},
   "outputs": [],
   "source": [
    "df_contratos = pd.read_csv('../data/contratos/categoria_contrato_v2.csv', low_memory=False, dtype='str')"
   ]
  },
  {
   "cell_type": "code",
   "execution_count": 3,
   "id": "e5bc6b88-d3db-4841-9b73-27d28da75323",
   "metadata": {},
   "outputs": [
    {
     "data": {
      "text/html": [
       "<div>\n",
       "<style scoped>\n",
       "    .dataframe tbody tr th:only-of-type {\n",
       "        vertical-align: middle;\n",
       "    }\n",
       "\n",
       "    .dataframe tbody tr th {\n",
       "        vertical-align: top;\n",
       "    }\n",
       "\n",
       "    .dataframe thead th {\n",
       "        text-align: right;\n",
       "    }\n",
       "</style>\n",
       "<table border=\"1\" class=\"dataframe\">\n",
       "  <thead>\n",
       "    <tr style=\"text-align: right;\">\n",
       "      <th></th>\n",
       "      <th>nr_contrato</th>\n",
       "      <th>nm_categoria_profissional</th>\n",
       "      <th>vl_mensal_salario_mean</th>\n",
       "      <th>vl_mensal_salario_median</th>\n",
       "      <th>vl_mensal_custo_mean</th>\n",
       "      <th>vl_mensal_custo_median</th>\n",
       "      <th>nr_jornada_mean</th>\n",
       "      <th>nr_jornada_median</th>\n",
       "      <th>id_terc_count</th>\n",
       "      <th>sg_orgao_sup_tabela_ug_x</th>\n",
       "      <th>...</th>\n",
       "      <th>id_contrato</th>\n",
       "      <th>objeto_contrato</th>\n",
       "      <th>objeto_compra</th>\n",
       "      <th>dataAssinatura</th>\n",
       "      <th>dataPublicacaoDOU</th>\n",
       "      <th>dataInicioVigencia</th>\n",
       "      <th>dataFimVigencia</th>\n",
       "      <th>tipo_fornecedor</th>\n",
       "      <th>valorInicialCompra</th>\n",
       "      <th>valorFinalCompra</th>\n",
       "    </tr>\n",
       "  </thead>\n",
       "  <tbody>\n",
       "    <tr>\n",
       "      <th>0</th>\n",
       "      <td>000012012</td>\n",
       "      <td>517330 - VIGILANTE</td>\n",
       "      <td>1775.2800000000002</td>\n",
       "      <td>1775.28</td>\n",
       "      <td>3923.92</td>\n",
       "      <td>3923.92</td>\n",
       "      <td>40.0</td>\n",
       "      <td>40.0</td>\n",
       "      <td>46</td>\n",
       "      <td>MINIST.</td>\n",
       "      <td>...</td>\n",
       "      <td>668336396.0</td>\n",
       "      <td>Objeto: Prestação de serviço de vigilancia   d...</td>\n",
       "      <td>Objeto: Pregão Eletrônico -  Contratação de em...</td>\n",
       "      <td>2012-06-18</td>\n",
       "      <td>2012-07-05</td>\n",
       "      <td>2012-06-18</td>\n",
       "      <td>2013-06-18</td>\n",
       "      <td>Entidades Empresariais Privadas</td>\n",
       "      <td>687542.0</td>\n",
       "      <td>2660693.36</td>\n",
       "    </tr>\n",
       "    <tr>\n",
       "      <th>1</th>\n",
       "      <td>000012014</td>\n",
       "      <td>513315 - CAMAREIRO DE HOTEL</td>\n",
       "      <td>1549.11</td>\n",
       "      <td>1549.11</td>\n",
       "      <td>4281.87</td>\n",
       "      <td>4281.87</td>\n",
       "      <td>44.0</td>\n",
       "      <td>44.0</td>\n",
       "      <td>4</td>\n",
       "      <td>MP.</td>\n",
       "      <td>...</td>\n",
       "      <td>668318167.0</td>\n",
       "      <td>Objeto: Contratação de empresa especializada n...</td>\n",
       "      <td>Objeto: Pregão Eletrônico -  Contratação de em...</td>\n",
       "      <td>2009-01-12</td>\n",
       "      <td>2009-01-13</td>\n",
       "      <td>2009-01-12</td>\n",
       "      <td>2010-01-11</td>\n",
       "      <td>Entidades Empresariais Privadas</td>\n",
       "      <td>913810.56</td>\n",
       "      <td>5687893.2</td>\n",
       "    </tr>\n",
       "    <tr>\n",
       "      <th>2</th>\n",
       "      <td>000012014</td>\n",
       "      <td>514315 - LIMPADOR DE FACHADAS</td>\n",
       "      <td>1549.11</td>\n",
       "      <td>1549.11</td>\n",
       "      <td>4281.87</td>\n",
       "      <td>4281.87</td>\n",
       "      <td>44.0</td>\n",
       "      <td>44.0</td>\n",
       "      <td>1</td>\n",
       "      <td>MP.</td>\n",
       "      <td>...</td>\n",
       "      <td>668318167.0</td>\n",
       "      <td>Objeto: Contratação de empresa especializada n...</td>\n",
       "      <td>Objeto: Pregão Eletrônico -  Contratação de em...</td>\n",
       "      <td>2009-01-12</td>\n",
       "      <td>2009-01-13</td>\n",
       "      <td>2009-01-12</td>\n",
       "      <td>2010-01-11</td>\n",
       "      <td>Entidades Empresariais Privadas</td>\n",
       "      <td>913810.56</td>\n",
       "      <td>5687893.2</td>\n",
       "    </tr>\n",
       "    <tr>\n",
       "      <th>3</th>\n",
       "      <td>000012014</td>\n",
       "      <td>622015 - TRABALHADOR NA PRODUCAO DE MUDAS E SE...</td>\n",
       "      <td>1549.11</td>\n",
       "      <td>1549.11</td>\n",
       "      <td>4281.87</td>\n",
       "      <td>4281.87</td>\n",
       "      <td>44.0</td>\n",
       "      <td>44.0</td>\n",
       "      <td>1</td>\n",
       "      <td>MP.</td>\n",
       "      <td>...</td>\n",
       "      <td>668318167.0</td>\n",
       "      <td>Objeto: Contratação de empresa especializada n...</td>\n",
       "      <td>Objeto: Pregão Eletrônico -  Contratação de em...</td>\n",
       "      <td>2009-01-12</td>\n",
       "      <td>2009-01-13</td>\n",
       "      <td>2009-01-12</td>\n",
       "      <td>2010-01-11</td>\n",
       "      <td>Entidades Empresariais Privadas</td>\n",
       "      <td>913810.56</td>\n",
       "      <td>5687893.2</td>\n",
       "    </tr>\n",
       "    <tr>\n",
       "      <th>4</th>\n",
       "      <td>000012016</td>\n",
       "      <td>313120 - TECNICO DE MANUTENCAO ELETRICA</td>\n",
       "      <td>4131.04</td>\n",
       "      <td>4131.04</td>\n",
       "      <td>9030.21</td>\n",
       "      <td>9030.21</td>\n",
       "      <td>30.0</td>\n",
       "      <td>30.0</td>\n",
       "      <td>5</td>\n",
       "      <td>MCTI</td>\n",
       "      <td>...</td>\n",
       "      <td>668296909.0</td>\n",
       "      <td>Objeto: Prestação de serviços de Limpeza e Con...</td>\n",
       "      <td>Objeto: Pregão Eletrônico -  Contratação,em re...</td>\n",
       "      <td>2011-01-03</td>\n",
       "      <td>2011-02-11</td>\n",
       "      <td>2011-01-03</td>\n",
       "      <td>2012-01-03</td>\n",
       "      <td>Entidades Empresariais Privadas</td>\n",
       "      <td>764634.12</td>\n",
       "      <td>4775950.54</td>\n",
       "    </tr>\n",
       "  </tbody>\n",
       "</table>\n",
       "<p>5 rows × 41 columns</p>\n",
       "</div>"
      ],
      "text/plain": [
       "  nr_contrato                          nm_categoria_profissional  \\\n",
       "0   000012012                                 517330 - VIGILANTE   \n",
       "1   000012014                        513315 - CAMAREIRO DE HOTEL   \n",
       "2   000012014                      514315 - LIMPADOR DE FACHADAS   \n",
       "3   000012014  622015 - TRABALHADOR NA PRODUCAO DE MUDAS E SE...   \n",
       "4   000012016            313120 - TECNICO DE MANUTENCAO ELETRICA   \n",
       "\n",
       "  vl_mensal_salario_mean vl_mensal_salario_median vl_mensal_custo_mean  \\\n",
       "0     1775.2800000000002                  1775.28              3923.92   \n",
       "1                1549.11                  1549.11              4281.87   \n",
       "2                1549.11                  1549.11              4281.87   \n",
       "3                1549.11                  1549.11              4281.87   \n",
       "4                4131.04                  4131.04              9030.21   \n",
       "\n",
       "  vl_mensal_custo_median nr_jornada_mean nr_jornada_median id_terc_count  \\\n",
       "0                3923.92            40.0              40.0            46   \n",
       "1                4281.87            44.0              44.0             4   \n",
       "2                4281.87            44.0              44.0             1   \n",
       "3                4281.87            44.0              44.0             1   \n",
       "4                9030.21            30.0              30.0             5   \n",
       "\n",
       "  sg_orgao_sup_tabela_ug_x  ...  id_contrato  \\\n",
       "0                 MINIST.   ...  668336396.0   \n",
       "1                      MP.  ...  668318167.0   \n",
       "2                      MP.  ...  668318167.0   \n",
       "3                      MP.  ...  668318167.0   \n",
       "4                     MCTI  ...  668296909.0   \n",
       "\n",
       "                                     objeto_contrato  \\\n",
       "0  Objeto: Prestação de serviço de vigilancia   d...   \n",
       "1  Objeto: Contratação de empresa especializada n...   \n",
       "2  Objeto: Contratação de empresa especializada n...   \n",
       "3  Objeto: Contratação de empresa especializada n...   \n",
       "4  Objeto: Prestação de serviços de Limpeza e Con...   \n",
       "\n",
       "                                       objeto_compra dataAssinatura  \\\n",
       "0  Objeto: Pregão Eletrônico -  Contratação de em...     2012-06-18   \n",
       "1  Objeto: Pregão Eletrônico -  Contratação de em...     2009-01-12   \n",
       "2  Objeto: Pregão Eletrônico -  Contratação de em...     2009-01-12   \n",
       "3  Objeto: Pregão Eletrônico -  Contratação de em...     2009-01-12   \n",
       "4  Objeto: Pregão Eletrônico -  Contratação,em re...     2011-01-03   \n",
       "\n",
       "  dataPublicacaoDOU dataInicioVigencia dataFimVigencia  \\\n",
       "0        2012-07-05         2012-06-18      2013-06-18   \n",
       "1        2009-01-13         2009-01-12      2010-01-11   \n",
       "2        2009-01-13         2009-01-12      2010-01-11   \n",
       "3        2009-01-13         2009-01-12      2010-01-11   \n",
       "4        2011-02-11         2011-01-03      2012-01-03   \n",
       "\n",
       "                   tipo_fornecedor valorInicialCompra valorFinalCompra  \n",
       "0  Entidades Empresariais Privadas           687542.0       2660693.36  \n",
       "1  Entidades Empresariais Privadas          913810.56        5687893.2  \n",
       "2  Entidades Empresariais Privadas          913810.56        5687893.2  \n",
       "3  Entidades Empresariais Privadas          913810.56        5687893.2  \n",
       "4  Entidades Empresariais Privadas          764634.12       4775950.54  \n",
       "\n",
       "[5 rows x 41 columns]"
      ]
     },
     "execution_count": 3,
     "metadata": {},
     "output_type": "execute_result"
    }
   ],
   "source": [
    "df_contratos.head()"
   ]
  },
  {
   "cell_type": "code",
   "execution_count": 4,
   "id": "e2d1c524-d96c-4368-ab53-8ea24184f289",
   "metadata": {},
   "outputs": [
    {
     "data": {
      "text/plain": [
       "(918, 41)"
      ]
     },
     "execution_count": 4,
     "metadata": {},
     "output_type": "execute_result"
    }
   ],
   "source": [
    "df_contratos.shape"
   ]
  },
  {
   "cell_type": "code",
   "execution_count": 5,
   "id": "9e31a218-df67-4a8a-9594-74c48f1012e3",
   "metadata": {},
   "outputs": [
    {
     "data": {
      "text/plain": [
       "Index(['nr_contrato', 'nm_categoria_profissional', 'vl_mensal_salario_mean',\n",
       "       'vl_mensal_salario_median', 'vl_mensal_custo_mean',\n",
       "       'vl_mensal_custo_median', 'nr_jornada_mean', 'nr_jornada_median',\n",
       "       'id_terc_count', 'sg_orgao_sup_tabela_ug_x', 'cd_ug_gestora_x',\n",
       "       'nm_ug_tabela_ug_x', 'sg_ug_gestora_x', 'nm_razao_social',\n",
       "       'nm_unidade_prestacao_x', 'sg_orgao_x', 'nm_orgao_x', 'cd_orgao_siafi',\n",
       "       'cd_orgao_siape_x', 'cnpj_formatado_x', 'sg_orgao_sup_tabela_ug_y',\n",
       "       'cd_ug_gestora_y', 'nm_ug_tabela_ug_y', 'sg_ug_gestora_y', 'nr_cnpj',\n",
       "       'nm_unidade_prestacao_y', 'sg_orgao_y', 'nm_orgao_y',\n",
       "       'cd_orgao_siape_y', 'cnpj_formatado_y', 'status_validacao',\n",
       "       'id_contrato', 'objeto_contrato', 'objeto_compra', 'dataAssinatura',\n",
       "       'dataPublicacaoDOU', 'dataInicioVigencia', 'dataFimVigencia',\n",
       "       'tipo_fornecedor', 'valorInicialCompra', 'valorFinalCompra'],\n",
       "      dtype='object')"
      ]
     },
     "execution_count": 5,
     "metadata": {},
     "output_type": "execute_result"
    }
   ],
   "source": [
    "df_contratos.columns"
   ]
  },
  {
   "cell_type": "code",
   "execution_count": 6,
   "id": "f23bb801-a730-44e9-8a8e-a410635c35bd",
   "metadata": {},
   "outputs": [
    {
     "name": "stdout",
     "output_type": "stream",
     "text": [
      "<class 'pandas.core.frame.DataFrame'>\n",
      "RangeIndex: 918 entries, 0 to 917\n",
      "Data columns (total 41 columns):\n",
      " #   Column                     Non-Null Count  Dtype \n",
      "---  ------                     --------------  ----- \n",
      " 0   nr_contrato                918 non-null    object\n",
      " 1   nm_categoria_profissional  918 non-null    object\n",
      " 2   vl_mensal_salario_mean     918 non-null    object\n",
      " 3   vl_mensal_salario_median   918 non-null    object\n",
      " 4   vl_mensal_custo_mean       918 non-null    object\n",
      " 5   vl_mensal_custo_median     918 non-null    object\n",
      " 6   nr_jornada_mean            918 non-null    object\n",
      " 7   nr_jornada_median          918 non-null    object\n",
      " 8   id_terc_count              918 non-null    object\n",
      " 9   sg_orgao_sup_tabela_ug_x   918 non-null    object\n",
      " 10  cd_ug_gestora_x            918 non-null    object\n",
      " 11  nm_ug_tabela_ug_x          918 non-null    object\n",
      " 12  sg_ug_gestora_x            912 non-null    object\n",
      " 13  nm_razao_social            918 non-null    object\n",
      " 14  nm_unidade_prestacao_x     917 non-null    object\n",
      " 15  sg_orgao_x                 918 non-null    object\n",
      " 16  nm_orgao_x                 918 non-null    object\n",
      " 17  cd_orgao_siafi             918 non-null    object\n",
      " 18  cd_orgao_siape_x           918 non-null    object\n",
      " 19  cnpj_formatado_x           918 non-null    object\n",
      " 20  sg_orgao_sup_tabela_ug_y   918 non-null    object\n",
      " 21  cd_ug_gestora_y            918 non-null    object\n",
      " 22  nm_ug_tabela_ug_y          918 non-null    object\n",
      " 23  sg_ug_gestora_y            912 non-null    object\n",
      " 24  nr_cnpj                    918 non-null    object\n",
      " 25  nm_unidade_prestacao_y     917 non-null    object\n",
      " 26  sg_orgao_y                 918 non-null    object\n",
      " 27  nm_orgao_y                 918 non-null    object\n",
      " 28  cd_orgao_siape_y           918 non-null    object\n",
      " 29  cnpj_formatado_y           918 non-null    object\n",
      " 30  status_validacao           0 non-null      object\n",
      " 31  id_contrato                918 non-null    object\n",
      " 32  objeto_contrato            918 non-null    object\n",
      " 33  objeto_compra              918 non-null    object\n",
      " 34  dataAssinatura             918 non-null    object\n",
      " 35  dataPublicacaoDOU          918 non-null    object\n",
      " 36  dataInicioVigencia         918 non-null    object\n",
      " 37  dataFimVigencia            918 non-null    object\n",
      " 38  tipo_fornecedor            918 non-null    object\n",
      " 39  valorInicialCompra         918 non-null    object\n",
      " 40  valorFinalCompra           918 non-null    object\n",
      "dtypes: object(41)\n",
      "memory usage: 294.2+ KB\n"
     ]
    }
   ],
   "source": [
    "df_contratos.info()"
   ]
  },
  {
   "cell_type": "code",
   "execution_count": 7,
   "id": "2098f08c-5894-455d-af53-6814d3ae78b4",
   "metadata": {},
   "outputs": [],
   "source": [
    "# Remove espaços e converte diretamente para int, usando erros='coerce' para NaNs\n",
    "df_contratos['id_terc_count'] = (\n",
    "    df_contratos['id_terc_count']\n",
    "    .astype(str)  # garante string\n",
    "    .str.replace(r'\\D', '', regex=True)  # remove tudo que não for dígito\n",
    "    .replace('', np.nan)  # evita strings vazias após regex\n",
    "    .astype(float)  # ainda float, para aceitar NaN\n",
    "    .astype('Int64')  # pandas nullable integer\n",
    ")"
   ]
  },
  {
   "cell_type": "code",
   "execution_count": 8,
   "id": "62a6ccba-2d34-40cc-9353-e2b06716ced8",
   "metadata": {},
   "outputs": [
    {
     "data": {
      "text/plain": [
       "595    2312\n",
       "241    1961\n",
       "442    1920\n",
       "357    1843\n",
       "284    1240\n",
       "391    1144\n",
       "574    1000\n",
       "153     952\n",
       "804     881\n",
       "267     840\n",
       "Name: id_terc_count, dtype: Int64"
      ]
     },
     "execution_count": 8,
     "metadata": {},
     "output_type": "execute_result"
    }
   ],
   "source": [
    "df_contratos['id_terc_count'].nlargest(10)"
   ]
  },
  {
   "cell_type": "code",
   "execution_count": 9,
   "id": "a76b569a-4961-40c4-9b59-d628940df537",
   "metadata": {},
   "outputs": [],
   "source": [
    "df_contrato_agg = df_contratos.groupby(['nr_contrato', 'cd_orgao_siafi']).agg({\n",
    "    'id_terc_count': 'sum',\n",
    "    'objeto_contrato': 'first',\n",
    "    'valorInicialCompra': 'first',\n",
    "    'valorFinalCompra': 'first',\n",
    "    'dataAssinatura': 'first',\n",
    "    'dataInicioVigencia': 'first',\n",
    "    'dataFimVigencia': 'first'\n",
    "}).reset_index()"
   ]
  },
  {
   "cell_type": "code",
   "execution_count": 10,
   "id": "acd99218-0899-4c57-bfc2-7b6a53b0a2f4",
   "metadata": {},
   "outputs": [
    {
     "data": {
      "text/html": [
       "<div>\n",
       "<style scoped>\n",
       "    .dataframe tbody tr th:only-of-type {\n",
       "        vertical-align: middle;\n",
       "    }\n",
       "\n",
       "    .dataframe tbody tr th {\n",
       "        vertical-align: top;\n",
       "    }\n",
       "\n",
       "    .dataframe thead th {\n",
       "        text-align: right;\n",
       "    }\n",
       "</style>\n",
       "<table border=\"1\" class=\"dataframe\">\n",
       "  <thead>\n",
       "    <tr style=\"text-align: right;\">\n",
       "      <th></th>\n",
       "      <th>nr_contrato</th>\n",
       "      <th>cd_orgao_siafi</th>\n",
       "      <th>id_terc_count</th>\n",
       "      <th>objeto_contrato</th>\n",
       "      <th>valorInicialCompra</th>\n",
       "      <th>valorFinalCompra</th>\n",
       "      <th>dataAssinatura</th>\n",
       "      <th>dataInicioVigencia</th>\n",
       "      <th>dataFimVigencia</th>\n",
       "    </tr>\n",
       "  </thead>\n",
       "  <tbody>\n",
       "    <tr>\n",
       "      <th>0</th>\n",
       "      <td>000012012</td>\n",
       "      <td>42207</td>\n",
       "      <td>46</td>\n",
       "      <td>Objeto: Prestação de serviço de vigilancia   d...</td>\n",
       "      <td>687542.0</td>\n",
       "      <td>2660693.36</td>\n",
       "      <td>2012-06-18</td>\n",
       "      <td>2012-06-18</td>\n",
       "      <td>2013-06-18</td>\n",
       "    </tr>\n",
       "    <tr>\n",
       "      <th>1</th>\n",
       "      <td>000012014</td>\n",
       "      <td>20202</td>\n",
       "      <td>6</td>\n",
       "      <td>Objeto: Contratação de empresa especializada n...</td>\n",
       "      <td>913810.56</td>\n",
       "      <td>5687893.2</td>\n",
       "      <td>2009-01-12</td>\n",
       "      <td>2009-01-12</td>\n",
       "      <td>2010-01-11</td>\n",
       "    </tr>\n",
       "    <tr>\n",
       "      <th>2</th>\n",
       "      <td>000012016</td>\n",
       "      <td>20301</td>\n",
       "      <td>15</td>\n",
       "      <td>Objeto: Prestação de serviços de Limpeza e Con...</td>\n",
       "      <td>764634.12</td>\n",
       "      <td>4775950.54</td>\n",
       "      <td>2011-01-03</td>\n",
       "      <td>2011-01-03</td>\n",
       "      <td>2012-01-03</td>\n",
       "    </tr>\n",
       "    <tr>\n",
       "      <th>3</th>\n",
       "      <td>000012016</td>\n",
       "      <td>26438</td>\n",
       "      <td>6</td>\n",
       "      <td>Objeto: Servicos especializados de Recepcao pa...</td>\n",
       "      <td>118666.32</td>\n",
       "      <td>129217.44</td>\n",
       "      <td>2010-11-03</td>\n",
       "      <td>2010-11-22</td>\n",
       "      <td>2011-11-21</td>\n",
       "    </tr>\n",
       "    <tr>\n",
       "      <th>4</th>\n",
       "      <td>000012017</td>\n",
       "      <td>20301</td>\n",
       "      <td>68</td>\n",
       "      <td>Objeto: Prestação de serviços de Limpeza e Con...</td>\n",
       "      <td>764634.12</td>\n",
       "      <td>4775950.54</td>\n",
       "      <td>2011-01-03</td>\n",
       "      <td>2011-01-03</td>\n",
       "      <td>2012-01-03</td>\n",
       "    </tr>\n",
       "    <tr>\n",
       "      <th>5</th>\n",
       "      <td>000012017</td>\n",
       "      <td>26416</td>\n",
       "      <td>28</td>\n",
       "      <td>Objeto: Contratação de empresa para prestação ...</td>\n",
       "      <td>280709.88</td>\n",
       "      <td>280709.88</td>\n",
       "      <td>2013-12-06</td>\n",
       "      <td>2013-12-06</td>\n",
       "      <td>2014-12-06</td>\n",
       "    </tr>\n",
       "    <tr>\n",
       "      <th>6</th>\n",
       "      <td>000012017</td>\n",
       "      <td>26437</td>\n",
       "      <td>102</td>\n",
       "      <td>Objeto: Contratacao de empresa especializada n...</td>\n",
       "      <td>640741.94</td>\n",
       "      <td>4015923.0</td>\n",
       "      <td>2010-07-01</td>\n",
       "      <td>2010-07-01</td>\n",
       "      <td>2011-07-01</td>\n",
       "    </tr>\n",
       "    <tr>\n",
       "      <th>7</th>\n",
       "      <td>000012018</td>\n",
       "      <td>26201</td>\n",
       "      <td>2</td>\n",
       "      <td>Objeto: Limpeza e higienização e conservação d...</td>\n",
       "      <td>7900.0</td>\n",
       "      <td>7900.0</td>\n",
       "      <td>2013-09-09</td>\n",
       "      <td>2013-09-09</td>\n",
       "      <td>2013-10-23</td>\n",
       "    </tr>\n",
       "    <tr>\n",
       "      <th>8</th>\n",
       "      <td>000012018</td>\n",
       "      <td>26405</td>\n",
       "      <td>62</td>\n",
       "      <td>Objeto: Contratação de empresa especializada p...</td>\n",
       "      <td>110054.88</td>\n",
       "      <td>110054.88</td>\n",
       "      <td>2012-08-06</td>\n",
       "      <td>2012-08-06</td>\n",
       "      <td>2013-08-05</td>\n",
       "    </tr>\n",
       "    <tr>\n",
       "      <th>9</th>\n",
       "      <td>000012019</td>\n",
       "      <td>26406</td>\n",
       "      <td>7</td>\n",
       "      <td>Objeto: Contratação dos serviços de recepcioni...</td>\n",
       "      <td>69408.0</td>\n",
       "      <td>313801.94</td>\n",
       "      <td>2011-05-11</td>\n",
       "      <td>2011-05-11</td>\n",
       "      <td>2015-08-26</td>\n",
       "    </tr>\n",
       "  </tbody>\n",
       "</table>\n",
       "</div>"
      ],
      "text/plain": [
       "  nr_contrato cd_orgao_siafi  id_terc_count  \\\n",
       "0   000012012          42207             46   \n",
       "1   000012014          20202              6   \n",
       "2   000012016          20301             15   \n",
       "3   000012016          26438              6   \n",
       "4   000012017          20301             68   \n",
       "5   000012017          26416             28   \n",
       "6   000012017          26437            102   \n",
       "7   000012018          26201              2   \n",
       "8   000012018          26405             62   \n",
       "9   000012019          26406              7   \n",
       "\n",
       "                                     objeto_contrato valorInicialCompra  \\\n",
       "0  Objeto: Prestação de serviço de vigilancia   d...           687542.0   \n",
       "1  Objeto: Contratação de empresa especializada n...          913810.56   \n",
       "2  Objeto: Prestação de serviços de Limpeza e Con...          764634.12   \n",
       "3  Objeto: Servicos especializados de Recepcao pa...          118666.32   \n",
       "4  Objeto: Prestação de serviços de Limpeza e Con...          764634.12   \n",
       "5  Objeto: Contratação de empresa para prestação ...          280709.88   \n",
       "6  Objeto: Contratacao de empresa especializada n...          640741.94   \n",
       "7  Objeto: Limpeza e higienização e conservação d...             7900.0   \n",
       "8  Objeto: Contratação de empresa especializada p...          110054.88   \n",
       "9  Objeto: Contratação dos serviços de recepcioni...            69408.0   \n",
       "\n",
       "  valorFinalCompra dataAssinatura dataInicioVigencia dataFimVigencia  \n",
       "0       2660693.36     2012-06-18         2012-06-18      2013-06-18  \n",
       "1        5687893.2     2009-01-12         2009-01-12      2010-01-11  \n",
       "2       4775950.54     2011-01-03         2011-01-03      2012-01-03  \n",
       "3        129217.44     2010-11-03         2010-11-22      2011-11-21  \n",
       "4       4775950.54     2011-01-03         2011-01-03      2012-01-03  \n",
       "5        280709.88     2013-12-06         2013-12-06      2014-12-06  \n",
       "6        4015923.0     2010-07-01         2010-07-01      2011-07-01  \n",
       "7           7900.0     2013-09-09         2013-09-09      2013-10-23  \n",
       "8        110054.88     2012-08-06         2012-08-06      2013-08-05  \n",
       "9        313801.94     2011-05-11         2011-05-11      2015-08-26  "
      ]
     },
     "execution_count": 10,
     "metadata": {},
     "output_type": "execute_result"
    }
   ],
   "source": [
    "df_contrato_agg.head(10)"
   ]
  },
  {
   "cell_type": "code",
   "execution_count": 11,
   "id": "483c5d2d-eeb9-4b98-8d74-6e4b4449221e",
   "metadata": {},
   "outputs": [
    {
     "data": {
      "text/plain": [
       "(368, 9)"
      ]
     },
     "execution_count": 11,
     "metadata": {},
     "output_type": "execute_result"
    }
   ],
   "source": [
    "df_contrato_agg.shape"
   ]
  },
  {
   "cell_type": "markdown",
   "id": "38ba4f17-20d1-4be9-8bbd-7b18f6f5b031",
   "metadata": {},
   "source": [
    "## Tratamento dos dados para os modelos"
   ]
  },
  {
   "cell_type": "markdown",
   "id": "05d083f2-3b24-4d62-ac66-b21664560f04",
   "metadata": {},
   "source": [
    "#### Tratar valores nulos e com string"
   ]
  },
  {
   "cell_type": "code",
   "execution_count": 12,
   "id": "96814e81-8e7d-4cab-833e-80fd8fd9f5c3",
   "metadata": {},
   "outputs": [],
   "source": [
    "df_contrato_agg.drop(columns=['nr_contrato'], inplace=True)"
   ]
  },
  {
   "cell_type": "code",
   "execution_count": 13,
   "id": "5660bbaf-bd32-4f80-8c8c-2e4b1e56341a",
   "metadata": {},
   "outputs": [
    {
     "name": "stdout",
     "output_type": "stream",
     "text": [
      "<class 'pandas.core.frame.DataFrame'>\n",
      "RangeIndex: 368 entries, 0 to 367\n",
      "Data columns (total 8 columns):\n",
      " #   Column              Non-Null Count  Dtype \n",
      "---  ------              --------------  ----- \n",
      " 0   cd_orgao_siafi      368 non-null    object\n",
      " 1   id_terc_count       368 non-null    Int64 \n",
      " 2   objeto_contrato     368 non-null    object\n",
      " 3   valorInicialCompra  368 non-null    object\n",
      " 4   valorFinalCompra    368 non-null    object\n",
      " 5   dataAssinatura      368 non-null    object\n",
      " 6   dataInicioVigencia  368 non-null    object\n",
      " 7   dataFimVigencia     368 non-null    object\n",
      "dtypes: Int64(1), object(7)\n",
      "memory usage: 23.5+ KB\n"
     ]
    }
   ],
   "source": [
    "df_contrato_agg.info()"
   ]
  },
  {
   "cell_type": "code",
   "execution_count": 14,
   "id": "f9f46841-8c9c-4dd1-9050-b829534d98c3",
   "metadata": {},
   "outputs": [],
   "source": [
    "# Conversão de colunas numéricas\n",
    "for col in ['valorInicialCompra', 'valorFinalCompra']:\n",
    "    df_contrato_agg[col] = pd.to_numeric(df_contrato_agg[col], errors='coerce')\n",
    "    \n",
    "# Conversão de datas\n",
    "for col in ['dataAssinatura', 'dataInicioVigencia', 'dataFimVigencia']:\n",
    "    df_contrato_agg[col] = pd.to_datetime(df_contrato_agg[col], errors='coerce')"
   ]
  },
  {
   "cell_type": "code",
   "execution_count": 15,
   "id": "20774f08-5799-4b80-bccf-84c7930d0579",
   "metadata": {},
   "outputs": [
    {
     "name": "stdout",
     "output_type": "stream",
     "text": [
      "<class 'pandas.core.frame.DataFrame'>\n",
      "RangeIndex: 368 entries, 0 to 367\n",
      "Data columns (total 8 columns):\n",
      " #   Column              Non-Null Count  Dtype         \n",
      "---  ------              --------------  -----         \n",
      " 0   cd_orgao_siafi      368 non-null    object        \n",
      " 1   id_terc_count       368 non-null    Int64         \n",
      " 2   objeto_contrato     368 non-null    object        \n",
      " 3   valorInicialCompra  368 non-null    float64       \n",
      " 4   valorFinalCompra    368 non-null    float64       \n",
      " 5   dataAssinatura      368 non-null    datetime64[ns]\n",
      " 6   dataInicioVigencia  368 non-null    datetime64[ns]\n",
      " 7   dataFimVigencia     368 non-null    datetime64[ns]\n",
      "dtypes: Int64(1), datetime64[ns](3), float64(2), object(2)\n",
      "memory usage: 23.5+ KB\n"
     ]
    }
   ],
   "source": [
    "df_contrato_agg.info()"
   ]
  },
  {
   "cell_type": "markdown",
   "id": "0fb2539b-d977-4a23-8a84-4b1db4db3aa8",
   "metadata": {},
   "source": [
    "#### Filtrar pelos contratos com mais de 25 contratações"
   ]
  },
  {
   "cell_type": "markdown",
   "id": "6bd132a8-0816-4cbb-af1e-5ab75a47f008",
   "metadata": {},
   "source": [
    "Segundo o § 1º do Art. 3º do Decreto nº 11.430/2023, o percentual de 8% será aplicável apenas a contratos com mais de 25 colaboradores."
   ]
  },
  {
   "cell_type": "code",
   "execution_count": 16,
   "id": "06896359-be91-40fc-bebf-f26b2b196e82",
   "metadata": {},
   "outputs": [],
   "source": [
    "# Filtra apenas contratos com mais de 25 terceirizados\n",
    "df_contrato_agg = df_contrato_agg[df_contrato_agg['id_terc_count'] > 25]"
   ]
  },
  {
   "cell_type": "code",
   "execution_count": 17,
   "id": "bdb555c2-3659-4194-aae1-f573d02faa99",
   "metadata": {},
   "outputs": [
    {
     "data": {
      "text/plain": [
       "(154, 8)"
      ]
     },
     "execution_count": 17,
     "metadata": {},
     "output_type": "execute_result"
    }
   ],
   "source": [
    "df_contrato_agg.shape"
   ]
  },
  {
   "cell_type": "markdown",
   "id": "af6a8d1b-fb66-4cd9-8b9f-f6a922907d62",
   "metadata": {},
   "source": [
    "#### Criação de novas variáveis"
   ]
  },
  {
   "cell_type": "code",
   "execution_count": 18,
   "id": "5613f2ad-5371-4030-ad2a-3dacd3760ba3",
   "metadata": {},
   "outputs": [],
   "source": [
    "# Feature de data: ano, mês e intervalo\n",
    "df_contrato_agg['ano_assinatura'] = df_contrato_agg['dataAssinatura'].dt.year\n",
    "df_contrato_agg['mes_assinatura'] = df_contrato_agg['dataAssinatura'].dt.month"
   ]
  },
  {
   "cell_type": "code",
   "execution_count": 19,
   "id": "2a6496ca-0079-41ad-85bf-1f517c2d2319",
   "metadata": {},
   "outputs": [],
   "source": [
    "# Diferença entre assinatura e início da vigência\n",
    "df_contrato_agg['dias_ate_inicio_vigencia'] = (df_contrato_agg['dataInicioVigencia'] - df_contrato_agg['dataAssinatura']).dt.days"
   ]
  },
  {
   "cell_type": "code",
   "execution_count": 20,
   "id": "8af31b41-6781-4e42-a4fe-c5438deef58d",
   "metadata": {},
   "outputs": [
    {
     "data": {
      "text/plain": [
       "Index(['cd_orgao_siafi', 'id_terc_count', 'objeto_contrato',\n",
       "       'valorInicialCompra', 'valorFinalCompra', 'dataAssinatura',\n",
       "       'dataInicioVigencia', 'dataFimVigencia', 'ano_assinatura',\n",
       "       'mes_assinatura', 'dias_ate_inicio_vigencia'],\n",
       "      dtype='object')"
      ]
     },
     "execution_count": 20,
     "metadata": {},
     "output_type": "execute_result"
    }
   ],
   "source": [
    "df_contrato_agg.columns"
   ]
  },
  {
   "cell_type": "markdown",
   "id": "a94f9923-5d60-46df-8b14-db42cfc49039",
   "metadata": {},
   "source": [
    "#### Tratar as stopwords para não influenciarem o modelo"
   ]
  },
  {
   "cell_type": "code",
   "execution_count": 19,
   "id": "0cd71978-1e56-4163-bcca-d7a39ab456b2",
   "metadata": {},
   "outputs": [],
   "source": [
    "# Preencher nulos e limpar texto do campo de objeto\n",
    "df_contrato_agg['objeto_contrato'] = df_contrato_agg['objeto_contrato'].fillna(\"\")\n",
    "df_contrato_agg['objeto_contrato'] = (\n",
    "    df_contrato_agg['objeto_contrato']\n",
    "    .str.replace(r\"(?i)^objeto:\\s*\", \"\", regex=True)  # Remove \"Objeto:\"\n",
    "    .str.replace(r\"[^a-zA-Záéíóúâêîôûãõç\\s]\", \" \", regex=True)  # Remove pontuação e números\n",
    "    .str.lower()\n",
    "    .str.strip()\n",
    ")"
   ]
  },
  {
   "cell_type": "code",
   "execution_count": 20,
   "id": "b846af88-ebd8-4f69-9faf-d79b8b0c893c",
   "metadata": {},
   "outputs": [
    {
     "name": "stderr",
     "output_type": "stream",
     "text": [
      "[nltk_data] Downloading package stopwords to\n",
      "[nltk_data]     /Users/rislamiranda/nltk_data...\n",
      "[nltk_data]   Package stopwords is already up-to-date!\n"
     ]
    },
    {
     "data": {
      "text/plain": [
       "True"
      ]
     },
     "execution_count": 20,
     "metadata": {},
     "output_type": "execute_result"
    }
   ],
   "source": [
    "nltk.download('stopwords')"
   ]
  },
  {
   "cell_type": "code",
   "execution_count": 21,
   "id": "8e5e5a9f-54c5-4c8c-80a0-a0e8e8a61581",
   "metadata": {},
   "outputs": [],
   "source": [
    "# Remove acentos e padroniza para lower\n",
    "def normalize(text):\n",
    "    return unicodedata.normalize(\"NFKD\", text).encode(\"ascii\", \"ignore\").decode(\"utf-8\").lower()\n",
    "\n",
    "# Stopwords do NLTK\n",
    "stopwords_custom = [normalize(w) for w in stopwords.words('portuguese')]\n",
    "\n",
    "# Adicionar stopwords específicas e normalizar\n",
    "palavras_personalizadas = [\n",
    "    \"objeto\", \"serviços\", \"prestação\", \"empresa\", \"serviço\",\n",
    "    \"especializada\", \"contratação\", \"edital\", \"fornecimento\",\n",
    "    \"campus\", \"conforme\", \"deste\", \"termo\", \"anexo\", \"referencia\",\n",
    "    \"ifsc\", \"especializados\", \"referente\", \"especificacoes\",\n",
    "    \"porto\", \"ifrs\", \"terceirizados\", \"alegre\", \"item\",\n",
    "    \"florianopolis\", \"ibiruba\", \"erechim\", \"sertao\", \"restinga\",\n",
    "    \"pregao\", \"seguir\", \"aositens\", \"tabela\", \"atividades\",\n",
    "    \"mg\", \"federal\", \"contrato\", \"areas\", \"12x36\", \"serem\",\n",
    "    \"incluindo\", \"executados\", \"pessoa\", \"especificacao\",\n",
    "    \"joinville\", \"editaldeste\", \"execucao\", \"instituto\",\n",
    "    \"forma\", \"meses\", \"referencia\"\n",
    "]\n",
    "\n",
    "stopwords_custom.extend([normalize(p) for p in palavras_personalizadas])\n",
    "stopwords_custom = list(set(stopwords_custom))  # remove duplicadas"
   ]
  },
  {
   "cell_type": "markdown",
   "id": "4ea64607-b4ff-4258-9244-14d3e1738f3d",
   "metadata": {},
   "source": [
    "## Pipeline de treinamento de modelos"
   ]
  },
  {
   "cell_type": "code",
   "execution_count": 22,
   "id": "55f0d6db-4985-40e5-8b71-5f165a3653f7",
   "metadata": {},
   "outputs": [],
   "source": [
    "# Features\n",
    "text_col = 'objeto_contrato'\n",
    "num_cols = ['valorInicialCompra', 'valorFinalCompra', 'ano_assinatura', 'mes_assinatura', 'dias_ate_inicio_vigencia']\n",
    "target = 'id_terc_count'"
   ]
  },
  {
   "cell_type": "code",
   "execution_count": 23,
   "id": "192c026a-225a-4d59-911b-4b0dc4f33dee",
   "metadata": {},
   "outputs": [],
   "source": [
    "# Separar X e y\n",
    "X = df_contrato_agg[[text_col] + num_cols].copy()\n",
    "y = df_contrato_agg[target].copy()"
   ]
  },
  {
   "cell_type": "code",
   "execution_count": 24,
   "id": "b798d6da-3e87-4cb7-9142-21954d67a7c5",
   "metadata": {},
   "outputs": [],
   "source": [
    "# Força o TF-IDF a gerar saída densa\n",
    "tfidf = TfidfVectorizer(max_features=50, stop_words=stopwords_custom)\n",
    "\n",
    "preprocessor = ColumnTransformer(transformers=[\n",
    "    ('tfidf', tfidf, text_col),\n",
    "    ('num', StandardScaler(), num_cols)\n",
    "], sparse_threshold=0)  # <- força a saída densa no final"
   ]
  },
  {
   "cell_type": "code",
   "execution_count": 25,
   "id": "728cc108-8de1-4bec-812f-b84d159bb4ee",
   "metadata": {},
   "outputs": [],
   "source": [
    "# Pré-processamento\n",
    "preprocessor = ColumnTransformer([\n",
    "    ('tfidf', TfidfVectorizer(stop_words=stopwords_custom), text_col),\n",
    "    ('num', StandardScaler(), num_cols)\n",
    "])"
   ]
  },
  {
   "cell_type": "code",
   "execution_count": 26,
   "id": "b8663b03-c1ce-4495-8e93-7be6ff7bb3f6",
   "metadata": {},
   "outputs": [
    {
     "name": "stdout",
     "output_type": "stream",
     "text": [
      "y min: 26.0\n",
      "y max: 1.2201314165446125e+46\n",
      "Valores infinitos: 0\n"
     ]
    }
   ],
   "source": [
    "print(\"y min:\", y.min())\n",
    "print(\"y max:\", y.max())\n",
    "print(\"Valores infinitos:\", np.isinf(y).sum())"
   ]
  },
  {
   "cell_type": "code",
   "execution_count": 24,
   "id": "13695701-43f2-4d11-9892-c19a21e5fe6e",
   "metadata": {},
   "outputs": [],
   "source": [
    "# Função para treinar e avaliar modelos\n",
    "def treinar_modelos(X, y):\n",
    "    X_train, X_test, y_train, y_test = train_test_split(X, y, test_size=0.2, random_state=42)\n",
    "    modelos = {\n",
    "        'Linear Regression': LinearRegression(),\n",
    "        'Random Forest': RandomForestRegressor(random_state=42),\n",
    "        'Gradient Boosting': GradientBoostingRegressor(random_state=42),\n",
    "        'KNN': KNeighborsRegressor(),\n",
    "        'XGBoost': XGBRegressor(random_state=42)\n",
    "    }\n",
    "    resultados = {}\n",
    "    for nome, modelo in modelos.items():\n",
    "        pipeline = Pipeline([\n",
    "            ('preprocessamento', preprocessor),\n",
    "            ('regressor', modelo)\n",
    "        ])\n",
    "        pipeline.fit(X_train, y_train)\n",
    "        y_pred = pipeline.predict(X_test)\n",
    "        resultados[nome] = {\n",
    "            'r2_score': r2_score(y_test, y_pred),\n",
    "            'rmse': root_mean_squared_error(y_test, y_pred),\n",
    "            'pipeline': pipeline\n",
    "        }\n",
    "        print(f\"\\n📊 Modelo: {nome}\")\n",
    "        print(f\"R² Score: {resultados[nome]['r2_score']:.4f}\")\n",
    "        print(f\"RMSE: {resultados[nome]['rmse']:.2f}\")\n",
    "\n",
    "        # Importância das variáveis se aplicável\n",
    "        if hasattr(modelo, 'feature_importances_'):\n",
    "            feature_names = (\n",
    "                preprocessor.named_transformers_['tfidf'].get_feature_names_out().tolist()\n",
    "                + num_cols\n",
    "            )\n",
    "            importancias = modelo.feature_importances_\n",
    "            imp_df = pd.DataFrame({\n",
    "                'Variavel': feature_names,\n",
    "                'Importancia': importancias\n",
    "            }).sort_values(by='Importancia', ascending=False).head(10)\n",
    "            print(\"\\n🔍 Top 10 Variáveis mais importantes:\")\n",
    "            print(imp_df)\n",
    "\n",
    "    return resultados"
   ]
  },
  {
   "cell_type": "code",
   "execution_count": 25,
   "id": "6b0da42b-e4b6-4f7a-b262-3c02a7165eee",
   "metadata": {},
   "outputs": [
    {
     "name": "stdout",
     "output_type": "stream",
     "text": [
      "\n",
      "📊 Modelo: Linear Regression\n",
      "R² Score: -0.0159\n",
      "RMSE: 1525164270681903805319304246876811176341680422912.00\n",
      "\n",
      "📊 Modelo: Random Forest\n",
      "R² Score: -0.0159\n",
      "RMSE: 1525164270681295008512641038337365975647079366656.00\n",
      "\n",
      "🔍 Top 10 Variáveis mais importantes:\n",
      "               Variavel  Importancia\n",
      "378       produtividade     0.157816\n",
      "98           construção     0.148765\n",
      "94         considerando     0.119485\n",
      "74                civil     0.119396\n",
      "325                 não     0.109401\n",
      "231                hora     0.090000\n",
      "34           associados     0.060110\n",
      "452          trabalhada     0.049775\n",
      "500  valorInicialCompra     0.039884\n",
      "133        dependências     0.022505\n",
      "\n",
      "📊 Modelo: Gradient Boosting\n",
      "R² Score: -0.0159\n",
      "RMSE: 1525164270680999372110258211589266520512334397440.00\n",
      "\n",
      "🔍 Top 10 Variáveis mais importantes:\n",
      "          Variavel   Importancia\n",
      "452     trabalhada  2.626505e-01\n",
      "98      construção  2.244038e-01\n",
      "34      associados  1.937474e-01\n",
      "74           civil  1.905300e-01\n",
      "94    considerando  1.011370e-01\n",
      "231           hora  1.333991e-02\n",
      "325            não  1.035695e-02\n",
      "378  produtividade  3.834504e-03\n",
      "469         unifal  4.377513e-17\n",
      "151       diversos  3.436834e-17\n",
      "\n",
      "📊 Modelo: KNN\n",
      "R² Score: -0.0159\n",
      "RMSE: 1525164270681503349424089748295960761812289323008.00\n"
     ]
    },
    {
     "name": "stderr",
     "output_type": "stream",
     "text": [
      "/Users/rislamiranda/Library/Python/3.9/lib/python/site-packages/pandas/core/base.py:535: RuntimeWarning: overflow encountered in cast\n",
      "  result = np.asarray(self._values, dtype=dtype)\n"
     ]
    },
    {
     "ename": "XGBoostError",
     "evalue": "[15:51:18] /Users/runner/work/xgboost/xgboost/src/data/data.cc:514: Check failed: valid: Label contains NaN, infinity or a value too large.\nStack trace:\n  [bt] (0) 1   libxgboost.dylib                    0x0000000158684428 dmlc::LogMessageFatal::~LogMessageFatal() + 124\n  [bt] (1) 2   libxgboost.dylib                    0x00000001587e2450 xgboost::MetaInfo::SetInfoFromHost(xgboost::Context const&, xgboost::StringView, xgboost::Json) + 2776\n  [bt] (2) 3   libxgboost.dylib                    0x00000001587e17ec xgboost::MetaInfo::SetInfo(xgboost::Context const&, xgboost::StringView, xgboost::StringView) + 464\n  [bt] (3) 4   libxgboost.dylib                    0x000000015869ba60 XGDMatrixSetInfoFromInterface + 228\n  [bt] (4) 5   libffi.dylib                        0x00000001ae022050 ffi_call_SYSV + 80\n  [bt] (5) 6   libffi.dylib                        0x00000001ae02aaf0 ffi_call_int + 1220\n  [bt] (6) 7   _ctypes.cpython-39-darwin.so        0x0000000102913170 PyInit__ctypes + 25364\n  [bt] (7) 8   _ctypes.cpython-39-darwin.so        0x000000010290bbe0 _ctypes.cpython-39-darwin.so + 15328\n  [bt] (8) 9   Python3                             0x0000000100397370 _PyObject_MakeTpCall + 356\n\n",
     "output_type": "error",
     "traceback": [
      "\u001b[0;31m---------------------------------------------------------------------------\u001b[0m",
      "\u001b[0;31mXGBoostError\u001b[0m                              Traceback (most recent call last)",
      "Cell \u001b[0;32mIn[25], line 2\u001b[0m\n\u001b[1;32m      1\u001b[0m \u001b[38;5;66;03m# Executar\u001b[39;00m\n\u001b[0;32m----> 2\u001b[0m resultados_modelos \u001b[38;5;241m=\u001b[39m \u001b[43mtreinar_modelos\u001b[49m\u001b[43m(\u001b[49m\u001b[43mX\u001b[49m\u001b[43m,\u001b[49m\u001b[43m \u001b[49m\u001b[43my\u001b[49m\u001b[43m)\u001b[49m\n",
      "Cell \u001b[0;32mIn[24], line 17\u001b[0m, in \u001b[0;36mtreinar_modelos\u001b[0;34m(X, y)\u001b[0m\n\u001b[1;32m     12\u001b[0m \u001b[38;5;28;01mfor\u001b[39;00m nome, modelo \u001b[38;5;129;01min\u001b[39;00m modelos\u001b[38;5;241m.\u001b[39mitems():\n\u001b[1;32m     13\u001b[0m     pipeline \u001b[38;5;241m=\u001b[39m Pipeline([\n\u001b[1;32m     14\u001b[0m         (\u001b[38;5;124m'\u001b[39m\u001b[38;5;124mpreprocessamento\u001b[39m\u001b[38;5;124m'\u001b[39m, preprocessor),\n\u001b[1;32m     15\u001b[0m         (\u001b[38;5;124m'\u001b[39m\u001b[38;5;124mregressor\u001b[39m\u001b[38;5;124m'\u001b[39m, modelo)\n\u001b[1;32m     16\u001b[0m     ])\n\u001b[0;32m---> 17\u001b[0m     \u001b[43mpipeline\u001b[49m\u001b[38;5;241;43m.\u001b[39;49m\u001b[43mfit\u001b[49m\u001b[43m(\u001b[49m\u001b[43mX_train\u001b[49m\u001b[43m,\u001b[49m\u001b[43m \u001b[49m\u001b[43my_train\u001b[49m\u001b[43m)\u001b[49m\n\u001b[1;32m     18\u001b[0m     y_pred \u001b[38;5;241m=\u001b[39m pipeline\u001b[38;5;241m.\u001b[39mpredict(X_test)\n\u001b[1;32m     19\u001b[0m     resultados[nome] \u001b[38;5;241m=\u001b[39m {\n\u001b[1;32m     20\u001b[0m         \u001b[38;5;124m'\u001b[39m\u001b[38;5;124mr2_score\u001b[39m\u001b[38;5;124m'\u001b[39m: r2_score(y_test, y_pred),\n\u001b[1;32m     21\u001b[0m         \u001b[38;5;124m'\u001b[39m\u001b[38;5;124mrmse\u001b[39m\u001b[38;5;124m'\u001b[39m: root_mean_squared_error(y_test, y_pred),\n\u001b[1;32m     22\u001b[0m         \u001b[38;5;124m'\u001b[39m\u001b[38;5;124mpipeline\u001b[39m\u001b[38;5;124m'\u001b[39m: pipeline\n\u001b[1;32m     23\u001b[0m     }\n",
      "File \u001b[0;32m~/Library/Python/3.9/lib/python/site-packages/sklearn/base.py:1473\u001b[0m, in \u001b[0;36m_fit_context.<locals>.decorator.<locals>.wrapper\u001b[0;34m(estimator, *args, **kwargs)\u001b[0m\n\u001b[1;32m   1466\u001b[0m     estimator\u001b[38;5;241m.\u001b[39m_validate_params()\n\u001b[1;32m   1468\u001b[0m \u001b[38;5;28;01mwith\u001b[39;00m config_context(\n\u001b[1;32m   1469\u001b[0m     skip_parameter_validation\u001b[38;5;241m=\u001b[39m(\n\u001b[1;32m   1470\u001b[0m         prefer_skip_nested_validation \u001b[38;5;129;01mor\u001b[39;00m global_skip_validation\n\u001b[1;32m   1471\u001b[0m     )\n\u001b[1;32m   1472\u001b[0m ):\n\u001b[0;32m-> 1473\u001b[0m     \u001b[38;5;28;01mreturn\u001b[39;00m \u001b[43mfit_method\u001b[49m\u001b[43m(\u001b[49m\u001b[43mestimator\u001b[49m\u001b[43m,\u001b[49m\u001b[43m \u001b[49m\u001b[38;5;241;43m*\u001b[39;49m\u001b[43margs\u001b[49m\u001b[43m,\u001b[49m\u001b[43m \u001b[49m\u001b[38;5;241;43m*\u001b[39;49m\u001b[38;5;241;43m*\u001b[39;49m\u001b[43mkwargs\u001b[49m\u001b[43m)\u001b[49m\n",
      "File \u001b[0;32m~/Library/Python/3.9/lib/python/site-packages/sklearn/pipeline.py:473\u001b[0m, in \u001b[0;36mPipeline.fit\u001b[0;34m(self, X, y, **params)\u001b[0m\n\u001b[1;32m    471\u001b[0m     \u001b[38;5;28;01mif\u001b[39;00m \u001b[38;5;28mself\u001b[39m\u001b[38;5;241m.\u001b[39m_final_estimator \u001b[38;5;241m!=\u001b[39m \u001b[38;5;124m\"\u001b[39m\u001b[38;5;124mpassthrough\u001b[39m\u001b[38;5;124m\"\u001b[39m:\n\u001b[1;32m    472\u001b[0m         last_step_params \u001b[38;5;241m=\u001b[39m routed_params[\u001b[38;5;28mself\u001b[39m\u001b[38;5;241m.\u001b[39msteps[\u001b[38;5;241m-\u001b[39m\u001b[38;5;241m1\u001b[39m][\u001b[38;5;241m0\u001b[39m]]\n\u001b[0;32m--> 473\u001b[0m         \u001b[38;5;28;43mself\u001b[39;49m\u001b[38;5;241;43m.\u001b[39;49m\u001b[43m_final_estimator\u001b[49m\u001b[38;5;241;43m.\u001b[39;49m\u001b[43mfit\u001b[49m\u001b[43m(\u001b[49m\u001b[43mXt\u001b[49m\u001b[43m,\u001b[49m\u001b[43m \u001b[49m\u001b[43my\u001b[49m\u001b[43m,\u001b[49m\u001b[43m \u001b[49m\u001b[38;5;241;43m*\u001b[39;49m\u001b[38;5;241;43m*\u001b[39;49m\u001b[43mlast_step_params\u001b[49m\u001b[43m[\u001b[49m\u001b[38;5;124;43m\"\u001b[39;49m\u001b[38;5;124;43mfit\u001b[39;49m\u001b[38;5;124;43m\"\u001b[39;49m\u001b[43m]\u001b[49m\u001b[43m)\u001b[49m\n\u001b[1;32m    475\u001b[0m \u001b[38;5;28;01mreturn\u001b[39;00m \u001b[38;5;28mself\u001b[39m\n",
      "File \u001b[0;32m~/Library/Python/3.9/lib/python/site-packages/xgboost/core.py:726\u001b[0m, in \u001b[0;36mrequire_keyword_args.<locals>.throw_if.<locals>.inner_f\u001b[0;34m(*args, **kwargs)\u001b[0m\n\u001b[1;32m    724\u001b[0m \u001b[38;5;28;01mfor\u001b[39;00m k, arg \u001b[38;5;129;01min\u001b[39;00m \u001b[38;5;28mzip\u001b[39m(sig\u001b[38;5;241m.\u001b[39mparameters, args):\n\u001b[1;32m    725\u001b[0m     kwargs[k] \u001b[38;5;241m=\u001b[39m arg\n\u001b[0;32m--> 726\u001b[0m \u001b[38;5;28;01mreturn\u001b[39;00m \u001b[43mfunc\u001b[49m\u001b[43m(\u001b[49m\u001b[38;5;241;43m*\u001b[39;49m\u001b[38;5;241;43m*\u001b[39;49m\u001b[43mkwargs\u001b[49m\u001b[43m)\u001b[49m\n",
      "File \u001b[0;32m~/Library/Python/3.9/lib/python/site-packages/xgboost/sklearn.py:1143\u001b[0m, in \u001b[0;36mXGBModel.fit\u001b[0;34m(self, X, y, sample_weight, base_margin, eval_set, verbose, xgb_model, sample_weight_eval_set, base_margin_eval_set, feature_weights)\u001b[0m\n\u001b[1;32m   1141\u001b[0m \u001b[38;5;28;01mwith\u001b[39;00m config_context(verbosity\u001b[38;5;241m=\u001b[39m\u001b[38;5;28mself\u001b[39m\u001b[38;5;241m.\u001b[39mverbosity):\n\u001b[1;32m   1142\u001b[0m     evals_result: TrainingCallback\u001b[38;5;241m.\u001b[39mEvalsLog \u001b[38;5;241m=\u001b[39m {}\n\u001b[0;32m-> 1143\u001b[0m     train_dmatrix, evals \u001b[38;5;241m=\u001b[39m \u001b[43m_wrap_evaluation_matrices\u001b[49m\u001b[43m(\u001b[49m\n\u001b[1;32m   1144\u001b[0m \u001b[43m        \u001b[49m\u001b[43mmissing\u001b[49m\u001b[38;5;241;43m=\u001b[39;49m\u001b[38;5;28;43mself\u001b[39;49m\u001b[38;5;241;43m.\u001b[39;49m\u001b[43mmissing\u001b[49m\u001b[43m,\u001b[49m\n\u001b[1;32m   1145\u001b[0m \u001b[43m        \u001b[49m\u001b[43mX\u001b[49m\u001b[38;5;241;43m=\u001b[39;49m\u001b[43mX\u001b[49m\u001b[43m,\u001b[49m\n\u001b[1;32m   1146\u001b[0m \u001b[43m        \u001b[49m\u001b[43my\u001b[49m\u001b[38;5;241;43m=\u001b[39;49m\u001b[43my\u001b[49m\u001b[43m,\u001b[49m\n\u001b[1;32m   1147\u001b[0m \u001b[43m        \u001b[49m\u001b[43mgroup\u001b[49m\u001b[38;5;241;43m=\u001b[39;49m\u001b[38;5;28;43;01mNone\u001b[39;49;00m\u001b[43m,\u001b[49m\n\u001b[1;32m   1148\u001b[0m \u001b[43m        \u001b[49m\u001b[43mqid\u001b[49m\u001b[38;5;241;43m=\u001b[39;49m\u001b[38;5;28;43;01mNone\u001b[39;49;00m\u001b[43m,\u001b[49m\n\u001b[1;32m   1149\u001b[0m \u001b[43m        \u001b[49m\u001b[43msample_weight\u001b[49m\u001b[38;5;241;43m=\u001b[39;49m\u001b[43msample_weight\u001b[49m\u001b[43m,\u001b[49m\n\u001b[1;32m   1150\u001b[0m \u001b[43m        \u001b[49m\u001b[43mbase_margin\u001b[49m\u001b[38;5;241;43m=\u001b[39;49m\u001b[43mbase_margin\u001b[49m\u001b[43m,\u001b[49m\n\u001b[1;32m   1151\u001b[0m \u001b[43m        \u001b[49m\u001b[43mfeature_weights\u001b[49m\u001b[38;5;241;43m=\u001b[39;49m\u001b[43mfeature_weights\u001b[49m\u001b[43m,\u001b[49m\n\u001b[1;32m   1152\u001b[0m \u001b[43m        \u001b[49m\u001b[43meval_set\u001b[49m\u001b[38;5;241;43m=\u001b[39;49m\u001b[43meval_set\u001b[49m\u001b[43m,\u001b[49m\n\u001b[1;32m   1153\u001b[0m \u001b[43m        \u001b[49m\u001b[43msample_weight_eval_set\u001b[49m\u001b[38;5;241;43m=\u001b[39;49m\u001b[43msample_weight_eval_set\u001b[49m\u001b[43m,\u001b[49m\n\u001b[1;32m   1154\u001b[0m \u001b[43m        \u001b[49m\u001b[43mbase_margin_eval_set\u001b[49m\u001b[38;5;241;43m=\u001b[39;49m\u001b[43mbase_margin_eval_set\u001b[49m\u001b[43m,\u001b[49m\n\u001b[1;32m   1155\u001b[0m \u001b[43m        \u001b[49m\u001b[43meval_group\u001b[49m\u001b[38;5;241;43m=\u001b[39;49m\u001b[38;5;28;43;01mNone\u001b[39;49;00m\u001b[43m,\u001b[49m\n\u001b[1;32m   1156\u001b[0m \u001b[43m        \u001b[49m\u001b[43meval_qid\u001b[49m\u001b[38;5;241;43m=\u001b[39;49m\u001b[38;5;28;43;01mNone\u001b[39;49;00m\u001b[43m,\u001b[49m\n\u001b[1;32m   1157\u001b[0m \u001b[43m        \u001b[49m\u001b[43mcreate_dmatrix\u001b[49m\u001b[38;5;241;43m=\u001b[39;49m\u001b[38;5;28;43mself\u001b[39;49m\u001b[38;5;241;43m.\u001b[39;49m\u001b[43m_create_dmatrix\u001b[49m\u001b[43m,\u001b[49m\n\u001b[1;32m   1158\u001b[0m \u001b[43m        \u001b[49m\u001b[43menable_categorical\u001b[49m\u001b[38;5;241;43m=\u001b[39;49m\u001b[38;5;28;43mself\u001b[39;49m\u001b[38;5;241;43m.\u001b[39;49m\u001b[43menable_categorical\u001b[49m\u001b[43m,\u001b[49m\n\u001b[1;32m   1159\u001b[0m \u001b[43m        \u001b[49m\u001b[43mfeature_types\u001b[49m\u001b[38;5;241;43m=\u001b[39;49m\u001b[38;5;28;43mself\u001b[39;49m\u001b[38;5;241;43m.\u001b[39;49m\u001b[43mfeature_types\u001b[49m\u001b[43m,\u001b[49m\n\u001b[1;32m   1160\u001b[0m \u001b[43m    \u001b[49m\u001b[43m)\u001b[49m\n\u001b[1;32m   1161\u001b[0m     params \u001b[38;5;241m=\u001b[39m \u001b[38;5;28mself\u001b[39m\u001b[38;5;241m.\u001b[39mget_xgb_params()\n\u001b[1;32m   1163\u001b[0m     \u001b[38;5;28;01mif\u001b[39;00m \u001b[38;5;28mcallable\u001b[39m(\u001b[38;5;28mself\u001b[39m\u001b[38;5;241m.\u001b[39mobjective):\n",
      "File \u001b[0;32m~/Library/Python/3.9/lib/python/site-packages/xgboost/sklearn.py:603\u001b[0m, in \u001b[0;36m_wrap_evaluation_matrices\u001b[0;34m(missing, X, y, group, qid, sample_weight, base_margin, feature_weights, eval_set, sample_weight_eval_set, base_margin_eval_set, eval_group, eval_qid, create_dmatrix, enable_categorical, feature_types)\u001b[0m\n\u001b[1;32m    583\u001b[0m \u001b[38;5;28;01mdef\u001b[39;00m \u001b[38;5;21m_wrap_evaluation_matrices\u001b[39m(\n\u001b[1;32m    584\u001b[0m     missing: \u001b[38;5;28mfloat\u001b[39m,\n\u001b[1;32m    585\u001b[0m     X: Any,\n\u001b[0;32m   (...)\u001b[0m\n\u001b[1;32m    599\u001b[0m     feature_types: Optional[FeatureTypes],\n\u001b[1;32m    600\u001b[0m ) \u001b[38;5;241m-\u001b[39m\u001b[38;5;241m>\u001b[39m Tuple[Any, List[Tuple[Any, \u001b[38;5;28mstr\u001b[39m]]]:\n\u001b[1;32m    601\u001b[0m \u001b[38;5;250m    \u001b[39m\u001b[38;5;124;03m\"\"\"Convert array_like evaluation matrices into DMatrix.  Perform validation on the\u001b[39;00m\n\u001b[1;32m    602\u001b[0m \u001b[38;5;124;03m    way.\"\"\"\u001b[39;00m\n\u001b[0;32m--> 603\u001b[0m     train_dmatrix \u001b[38;5;241m=\u001b[39m \u001b[43mcreate_dmatrix\u001b[49m\u001b[43m(\u001b[49m\n\u001b[1;32m    604\u001b[0m \u001b[43m        \u001b[49m\u001b[43mdata\u001b[49m\u001b[38;5;241;43m=\u001b[39;49m\u001b[43mX\u001b[49m\u001b[43m,\u001b[49m\n\u001b[1;32m    605\u001b[0m \u001b[43m        \u001b[49m\u001b[43mlabel\u001b[49m\u001b[38;5;241;43m=\u001b[39;49m\u001b[43my\u001b[49m\u001b[43m,\u001b[49m\n\u001b[1;32m    606\u001b[0m \u001b[43m        \u001b[49m\u001b[43mgroup\u001b[49m\u001b[38;5;241;43m=\u001b[39;49m\u001b[43mgroup\u001b[49m\u001b[43m,\u001b[49m\n\u001b[1;32m    607\u001b[0m \u001b[43m        \u001b[49m\u001b[43mqid\u001b[49m\u001b[38;5;241;43m=\u001b[39;49m\u001b[43mqid\u001b[49m\u001b[43m,\u001b[49m\n\u001b[1;32m    608\u001b[0m \u001b[43m        \u001b[49m\u001b[43mweight\u001b[49m\u001b[38;5;241;43m=\u001b[39;49m\u001b[43msample_weight\u001b[49m\u001b[43m,\u001b[49m\n\u001b[1;32m    609\u001b[0m \u001b[43m        \u001b[49m\u001b[43mbase_margin\u001b[49m\u001b[38;5;241;43m=\u001b[39;49m\u001b[43mbase_margin\u001b[49m\u001b[43m,\u001b[49m\n\u001b[1;32m    610\u001b[0m \u001b[43m        \u001b[49m\u001b[43mfeature_weights\u001b[49m\u001b[38;5;241;43m=\u001b[39;49m\u001b[43mfeature_weights\u001b[49m\u001b[43m,\u001b[49m\n\u001b[1;32m    611\u001b[0m \u001b[43m        \u001b[49m\u001b[43mmissing\u001b[49m\u001b[38;5;241;43m=\u001b[39;49m\u001b[43mmissing\u001b[49m\u001b[43m,\u001b[49m\n\u001b[1;32m    612\u001b[0m \u001b[43m        \u001b[49m\u001b[43menable_categorical\u001b[49m\u001b[38;5;241;43m=\u001b[39;49m\u001b[43menable_categorical\u001b[49m\u001b[43m,\u001b[49m\n\u001b[1;32m    613\u001b[0m \u001b[43m        \u001b[49m\u001b[43mfeature_types\u001b[49m\u001b[38;5;241;43m=\u001b[39;49m\u001b[43mfeature_types\u001b[49m\u001b[43m,\u001b[49m\n\u001b[1;32m    614\u001b[0m \u001b[43m        \u001b[49m\u001b[43mref\u001b[49m\u001b[38;5;241;43m=\u001b[39;49m\u001b[38;5;28;43;01mNone\u001b[39;49;00m\u001b[43m,\u001b[49m\n\u001b[1;32m    615\u001b[0m \u001b[43m    \u001b[49m\u001b[43m)\u001b[49m\n\u001b[1;32m    617\u001b[0m     n_validation \u001b[38;5;241m=\u001b[39m \u001b[38;5;241m0\u001b[39m \u001b[38;5;28;01mif\u001b[39;00m eval_set \u001b[38;5;129;01mis\u001b[39;00m \u001b[38;5;28;01mNone\u001b[39;00m \u001b[38;5;28;01melse\u001b[39;00m \u001b[38;5;28mlen\u001b[39m(eval_set)\n\u001b[1;32m    619\u001b[0m     \u001b[38;5;28;01mdef\u001b[39;00m \u001b[38;5;21mvalidate_or_none\u001b[39m(meta: Optional[Sequence], name: \u001b[38;5;28mstr\u001b[39m) \u001b[38;5;241m-\u001b[39m\u001b[38;5;241m>\u001b[39m Sequence:\n",
      "File \u001b[0;32m~/Library/Python/3.9/lib/python/site-packages/xgboost/sklearn.py:1065\u001b[0m, in \u001b[0;36mXGBModel._create_dmatrix\u001b[0;34m(self, ref, **kwargs)\u001b[0m\n\u001b[1;32m   1063\u001b[0m \u001b[38;5;28;01mif\u001b[39;00m _can_use_qdm(\u001b[38;5;28mself\u001b[39m\u001b[38;5;241m.\u001b[39mtree_method) \u001b[38;5;129;01mand\u001b[39;00m \u001b[38;5;28mself\u001b[39m\u001b[38;5;241m.\u001b[39mbooster \u001b[38;5;241m!=\u001b[39m \u001b[38;5;124m\"\u001b[39m\u001b[38;5;124mgblinear\u001b[39m\u001b[38;5;124m\"\u001b[39m:\n\u001b[1;32m   1064\u001b[0m     \u001b[38;5;28;01mtry\u001b[39;00m:\n\u001b[0;32m-> 1065\u001b[0m         \u001b[38;5;28;01mreturn\u001b[39;00m \u001b[43mQuantileDMatrix\u001b[49m\u001b[43m(\u001b[49m\n\u001b[1;32m   1066\u001b[0m \u001b[43m            \u001b[49m\u001b[38;5;241;43m*\u001b[39;49m\u001b[38;5;241;43m*\u001b[39;49m\u001b[43mkwargs\u001b[49m\u001b[43m,\u001b[49m\u001b[43m \u001b[49m\u001b[43mref\u001b[49m\u001b[38;5;241;43m=\u001b[39;49m\u001b[43mref\u001b[49m\u001b[43m,\u001b[49m\u001b[43m \u001b[49m\u001b[43mnthread\u001b[49m\u001b[38;5;241;43m=\u001b[39;49m\u001b[38;5;28;43mself\u001b[39;49m\u001b[38;5;241;43m.\u001b[39;49m\u001b[43mn_jobs\u001b[49m\u001b[43m,\u001b[49m\u001b[43m \u001b[49m\u001b[43mmax_bin\u001b[49m\u001b[38;5;241;43m=\u001b[39;49m\u001b[38;5;28;43mself\u001b[39;49m\u001b[38;5;241;43m.\u001b[39;49m\u001b[43mmax_bin\u001b[49m\n\u001b[1;32m   1067\u001b[0m \u001b[43m        \u001b[49m\u001b[43m)\u001b[49m\n\u001b[1;32m   1068\u001b[0m     \u001b[38;5;28;01mexcept\u001b[39;00m \u001b[38;5;167;01mTypeError\u001b[39;00m:  \u001b[38;5;66;03m# `QuantileDMatrix` supports lesser types than DMatrix\u001b[39;00m\n\u001b[1;32m   1069\u001b[0m         \u001b[38;5;28;01mpass\u001b[39;00m\n",
      "File \u001b[0;32m~/Library/Python/3.9/lib/python/site-packages/xgboost/core.py:726\u001b[0m, in \u001b[0;36mrequire_keyword_args.<locals>.throw_if.<locals>.inner_f\u001b[0;34m(*args, **kwargs)\u001b[0m\n\u001b[1;32m    724\u001b[0m \u001b[38;5;28;01mfor\u001b[39;00m k, arg \u001b[38;5;129;01min\u001b[39;00m \u001b[38;5;28mzip\u001b[39m(sig\u001b[38;5;241m.\u001b[39mparameters, args):\n\u001b[1;32m    725\u001b[0m     kwargs[k] \u001b[38;5;241m=\u001b[39m arg\n\u001b[0;32m--> 726\u001b[0m \u001b[38;5;28;01mreturn\u001b[39;00m \u001b[43mfunc\u001b[49m\u001b[43m(\u001b[49m\u001b[38;5;241;43m*\u001b[39;49m\u001b[38;5;241;43m*\u001b[39;49m\u001b[43mkwargs\u001b[49m\u001b[43m)\u001b[49m\n",
      "File \u001b[0;32m~/Library/Python/3.9/lib/python/site-packages/xgboost/core.py:1573\u001b[0m, in \u001b[0;36mQuantileDMatrix.__init__\u001b[0;34m(self, data, label, weight, base_margin, missing, silent, feature_names, feature_types, nthread, max_bin, ref, group, qid, label_lower_bound, label_upper_bound, feature_weights, enable_categorical, data_split_mode)\u001b[0m\n\u001b[1;32m   1553\u001b[0m     \u001b[38;5;28;01mif\u001b[39;00m \u001b[38;5;28many\u001b[39m(\n\u001b[1;32m   1554\u001b[0m         info \u001b[38;5;129;01mis\u001b[39;00m \u001b[38;5;129;01mnot\u001b[39;00m \u001b[38;5;28;01mNone\u001b[39;00m\n\u001b[1;32m   1555\u001b[0m         \u001b[38;5;28;01mfor\u001b[39;00m info \u001b[38;5;129;01min\u001b[39;00m (\n\u001b[0;32m   (...)\u001b[0m\n\u001b[1;32m   1566\u001b[0m         )\n\u001b[1;32m   1567\u001b[0m     ):\n\u001b[1;32m   1568\u001b[0m         \u001b[38;5;28;01mraise\u001b[39;00m \u001b[38;5;167;01mValueError\u001b[39;00m(\n\u001b[1;32m   1569\u001b[0m             \u001b[38;5;124m\"\u001b[39m\u001b[38;5;124mIf data iterator is used as input, data like label should be \u001b[39m\u001b[38;5;124m\"\u001b[39m\n\u001b[1;32m   1570\u001b[0m             \u001b[38;5;124m\"\u001b[39m\u001b[38;5;124mspecified as batch argument.\u001b[39m\u001b[38;5;124m\"\u001b[39m\n\u001b[1;32m   1571\u001b[0m         )\n\u001b[0;32m-> 1573\u001b[0m \u001b[38;5;28;43mself\u001b[39;49m\u001b[38;5;241;43m.\u001b[39;49m\u001b[43m_init\u001b[49m\u001b[43m(\u001b[49m\n\u001b[1;32m   1574\u001b[0m \u001b[43m    \u001b[49m\u001b[43mdata\u001b[49m\u001b[43m,\u001b[49m\n\u001b[1;32m   1575\u001b[0m \u001b[43m    \u001b[49m\u001b[43mref\u001b[49m\u001b[38;5;241;43m=\u001b[39;49m\u001b[43mref\u001b[49m\u001b[43m,\u001b[49m\n\u001b[1;32m   1576\u001b[0m \u001b[43m    \u001b[49m\u001b[43mlabel\u001b[49m\u001b[38;5;241;43m=\u001b[39;49m\u001b[43mlabel\u001b[49m\u001b[43m,\u001b[49m\n\u001b[1;32m   1577\u001b[0m \u001b[43m    \u001b[49m\u001b[43mweight\u001b[49m\u001b[38;5;241;43m=\u001b[39;49m\u001b[43mweight\u001b[49m\u001b[43m,\u001b[49m\n\u001b[1;32m   1578\u001b[0m \u001b[43m    \u001b[49m\u001b[43mbase_margin\u001b[49m\u001b[38;5;241;43m=\u001b[39;49m\u001b[43mbase_margin\u001b[49m\u001b[43m,\u001b[49m\n\u001b[1;32m   1579\u001b[0m \u001b[43m    \u001b[49m\u001b[43mgroup\u001b[49m\u001b[38;5;241;43m=\u001b[39;49m\u001b[43mgroup\u001b[49m\u001b[43m,\u001b[49m\n\u001b[1;32m   1580\u001b[0m \u001b[43m    \u001b[49m\u001b[43mqid\u001b[49m\u001b[38;5;241;43m=\u001b[39;49m\u001b[43mqid\u001b[49m\u001b[43m,\u001b[49m\n\u001b[1;32m   1581\u001b[0m \u001b[43m    \u001b[49m\u001b[43mlabel_lower_bound\u001b[49m\u001b[38;5;241;43m=\u001b[39;49m\u001b[43mlabel_lower_bound\u001b[49m\u001b[43m,\u001b[49m\n\u001b[1;32m   1582\u001b[0m \u001b[43m    \u001b[49m\u001b[43mlabel_upper_bound\u001b[49m\u001b[38;5;241;43m=\u001b[39;49m\u001b[43mlabel_upper_bound\u001b[49m\u001b[43m,\u001b[49m\n\u001b[1;32m   1583\u001b[0m \u001b[43m    \u001b[49m\u001b[43mfeature_weights\u001b[49m\u001b[38;5;241;43m=\u001b[39;49m\u001b[43mfeature_weights\u001b[49m\u001b[43m,\u001b[49m\n\u001b[1;32m   1584\u001b[0m \u001b[43m    \u001b[49m\u001b[43mfeature_names\u001b[49m\u001b[38;5;241;43m=\u001b[39;49m\u001b[43mfeature_names\u001b[49m\u001b[43m,\u001b[49m\n\u001b[1;32m   1585\u001b[0m \u001b[43m    \u001b[49m\u001b[43mfeature_types\u001b[49m\u001b[38;5;241;43m=\u001b[39;49m\u001b[43mfeature_types\u001b[49m\u001b[43m,\u001b[49m\n\u001b[1;32m   1586\u001b[0m \u001b[43m    \u001b[49m\u001b[43menable_categorical\u001b[49m\u001b[38;5;241;43m=\u001b[39;49m\u001b[43menable_categorical\u001b[49m\u001b[43m,\u001b[49m\n\u001b[1;32m   1587\u001b[0m \u001b[43m\u001b[49m\u001b[43m)\u001b[49m\n",
      "File \u001b[0;32m~/Library/Python/3.9/lib/python/site-packages/xgboost/core.py:1632\u001b[0m, in \u001b[0;36mQuantileDMatrix._init\u001b[0;34m(self, data, ref, enable_categorical, **meta)\u001b[0m\n\u001b[1;32m   1620\u001b[0m config \u001b[38;5;241m=\u001b[39m make_jcargs(\n\u001b[1;32m   1621\u001b[0m     nthread\u001b[38;5;241m=\u001b[39m\u001b[38;5;28mself\u001b[39m\u001b[38;5;241m.\u001b[39mnthread, missing\u001b[38;5;241m=\u001b[39m\u001b[38;5;28mself\u001b[39m\u001b[38;5;241m.\u001b[39mmissing, max_bin\u001b[38;5;241m=\u001b[39m\u001b[38;5;28mself\u001b[39m\u001b[38;5;241m.\u001b[39mmax_bin\n\u001b[1;32m   1622\u001b[0m )\n\u001b[1;32m   1623\u001b[0m ret \u001b[38;5;241m=\u001b[39m _LIB\u001b[38;5;241m.\u001b[39mXGQuantileDMatrixCreateFromCallback(\n\u001b[1;32m   1624\u001b[0m     \u001b[38;5;28;01mNone\u001b[39;00m,\n\u001b[1;32m   1625\u001b[0m     it\u001b[38;5;241m.\u001b[39mproxy\u001b[38;5;241m.\u001b[39mhandle,\n\u001b[0;32m   (...)\u001b[0m\n\u001b[1;32m   1630\u001b[0m     ctypes\u001b[38;5;241m.\u001b[39mbyref(handle),\n\u001b[1;32m   1631\u001b[0m )\n\u001b[0;32m-> 1632\u001b[0m \u001b[43mit\u001b[49m\u001b[38;5;241;43m.\u001b[39;49m\u001b[43mreraise\u001b[49m\u001b[43m(\u001b[49m\u001b[43m)\u001b[49m\n\u001b[1;32m   1633\u001b[0m \u001b[38;5;66;03m# delay check_call to throw intermediate exception first\u001b[39;00m\n\u001b[1;32m   1634\u001b[0m _check_call(ret)\n",
      "File \u001b[0;32m~/Library/Python/3.9/lib/python/site-packages/xgboost/core.py:569\u001b[0m, in \u001b[0;36mDataIter.reraise\u001b[0;34m(self)\u001b[0m\n\u001b[1;32m    567\u001b[0m exc \u001b[38;5;241m=\u001b[39m \u001b[38;5;28mself\u001b[39m\u001b[38;5;241m.\u001b[39m_exception\n\u001b[1;32m    568\u001b[0m \u001b[38;5;28mself\u001b[39m\u001b[38;5;241m.\u001b[39m_exception \u001b[38;5;241m=\u001b[39m \u001b[38;5;28;01mNone\u001b[39;00m\n\u001b[0;32m--> 569\u001b[0m \u001b[38;5;28;01mraise\u001b[39;00m exc\n",
      "File \u001b[0;32m~/Library/Python/3.9/lib/python/site-packages/xgboost/core.py:550\u001b[0m, in \u001b[0;36mDataIter._handle_exception\u001b[0;34m(self, fn, dft_ret)\u001b[0m\n\u001b[1;32m    547\u001b[0m     \u001b[38;5;28;01mreturn\u001b[39;00m dft_ret\n\u001b[1;32m    549\u001b[0m \u001b[38;5;28;01mtry\u001b[39;00m:\n\u001b[0;32m--> 550\u001b[0m     \u001b[38;5;28;01mreturn\u001b[39;00m \u001b[43mfn\u001b[49m\u001b[43m(\u001b[49m\u001b[43m)\u001b[49m\n\u001b[1;32m    551\u001b[0m \u001b[38;5;28;01mexcept\u001b[39;00m \u001b[38;5;167;01mException\u001b[39;00m \u001b[38;5;28;01mas\u001b[39;00m e:  \u001b[38;5;66;03m# pylint: disable=broad-except\u001b[39;00m\n\u001b[1;32m    552\u001b[0m     \u001b[38;5;66;03m# Defer the exception in order to return 0 and stop the iteration.\u001b[39;00m\n\u001b[1;32m    553\u001b[0m     \u001b[38;5;66;03m# Exception inside a ctype callback function has no effect except\u001b[39;00m\n\u001b[1;32m    554\u001b[0m     \u001b[38;5;66;03m# for printing to stderr (doesn't stop the execution).\u001b[39;00m\n\u001b[1;32m    555\u001b[0m     tb \u001b[38;5;241m=\u001b[39m sys\u001b[38;5;241m.\u001b[39mexc_info()[\u001b[38;5;241m2\u001b[39m]\n",
      "File \u001b[0;32m~/Library/Python/3.9/lib/python/site-packages/xgboost/core.py:637\u001b[0m, in \u001b[0;36mDataIter._next_wrapper.<locals>.<lambda>\u001b[0;34m()\u001b[0m\n\u001b[1;32m    635\u001b[0m     \u001b[38;5;28mself\u001b[39m\u001b[38;5;241m.\u001b[39m_temporary_data \u001b[38;5;241m=\u001b[39m \u001b[38;5;28;01mNone\u001b[39;00m\n\u001b[1;32m    636\u001b[0m \u001b[38;5;66;03m# pylint: disable=not-callable\u001b[39;00m\n\u001b[0;32m--> 637\u001b[0m \u001b[38;5;28;01mreturn\u001b[39;00m \u001b[38;5;28mself\u001b[39m\u001b[38;5;241m.\u001b[39m_handle_exception(\u001b[38;5;28;01mlambda\u001b[39;00m: \u001b[38;5;28;43mself\u001b[39;49m\u001b[38;5;241;43m.\u001b[39;49m\u001b[43mnext\u001b[49m\u001b[43m(\u001b[49m\u001b[43minput_data\u001b[49m\u001b[43m)\u001b[49m, \u001b[38;5;241m0\u001b[39m)\n",
      "File \u001b[0;32m~/Library/Python/3.9/lib/python/site-packages/xgboost/data.py:1402\u001b[0m, in \u001b[0;36mSingleBatchInternalIter.next\u001b[0;34m(self, input_data)\u001b[0m\n\u001b[1;32m   1400\u001b[0m     \u001b[38;5;28;01mreturn\u001b[39;00m \u001b[38;5;241m0\u001b[39m\n\u001b[1;32m   1401\u001b[0m \u001b[38;5;28mself\u001b[39m\u001b[38;5;241m.\u001b[39mit \u001b[38;5;241m+\u001b[39m\u001b[38;5;241m=\u001b[39m \u001b[38;5;241m1\u001b[39m\n\u001b[0;32m-> 1402\u001b[0m \u001b[43minput_data\u001b[49m\u001b[43m(\u001b[49m\u001b[38;5;241;43m*\u001b[39;49m\u001b[38;5;241;43m*\u001b[39;49m\u001b[38;5;28;43mself\u001b[39;49m\u001b[38;5;241;43m.\u001b[39;49m\u001b[43mkwargs\u001b[49m\u001b[43m)\u001b[49m\n\u001b[1;32m   1403\u001b[0m \u001b[38;5;28;01mreturn\u001b[39;00m \u001b[38;5;241m1\u001b[39m\n",
      "File \u001b[0;32m~/Library/Python/3.9/lib/python/site-packages/xgboost/core.py:726\u001b[0m, in \u001b[0;36mrequire_keyword_args.<locals>.throw_if.<locals>.inner_f\u001b[0;34m(*args, **kwargs)\u001b[0m\n\u001b[1;32m    724\u001b[0m \u001b[38;5;28;01mfor\u001b[39;00m k, arg \u001b[38;5;129;01min\u001b[39;00m \u001b[38;5;28mzip\u001b[39m(sig\u001b[38;5;241m.\u001b[39mparameters, args):\n\u001b[1;32m    725\u001b[0m     kwargs[k] \u001b[38;5;241m=\u001b[39m arg\n\u001b[0;32m--> 726\u001b[0m \u001b[38;5;28;01mreturn\u001b[39;00m \u001b[43mfunc\u001b[49m\u001b[43m(\u001b[49m\u001b[38;5;241;43m*\u001b[39;49m\u001b[38;5;241;43m*\u001b[39;49m\u001b[43mkwargs\u001b[49m\u001b[43m)\u001b[49m\n",
      "File \u001b[0;32m~/Library/Python/3.9/lib/python/site-packages/xgboost/core.py:626\u001b[0m, in \u001b[0;36mDataIter._next_wrapper.<locals>.input_data\u001b[0;34m(data, feature_names, feature_types, **kwargs)\u001b[0m\n\u001b[1;32m    624\u001b[0m \u001b[38;5;28mself\u001b[39m\u001b[38;5;241m.\u001b[39m_temporary_data \u001b[38;5;241m=\u001b[39m (new, cat_codes, feature_names, feature_types)\n\u001b[1;32m    625\u001b[0m dispatch_proxy_set_data(\u001b[38;5;28mself\u001b[39m\u001b[38;5;241m.\u001b[39mproxy, new, cat_codes)\n\u001b[0;32m--> 626\u001b[0m \u001b[38;5;28;43mself\u001b[39;49m\u001b[38;5;241;43m.\u001b[39;49m\u001b[43mproxy\u001b[49m\u001b[38;5;241;43m.\u001b[39;49m\u001b[43mset_info\u001b[49m\u001b[43m(\u001b[49m\n\u001b[1;32m    627\u001b[0m \u001b[43m    \u001b[49m\u001b[43mfeature_names\u001b[49m\u001b[38;5;241;43m=\u001b[39;49m\u001b[43mfeature_names\u001b[49m\u001b[43m,\u001b[49m\n\u001b[1;32m    628\u001b[0m \u001b[43m    \u001b[49m\u001b[43mfeature_types\u001b[49m\u001b[38;5;241;43m=\u001b[39;49m\u001b[43mfeature_types\u001b[49m\u001b[43m,\u001b[49m\n\u001b[1;32m    629\u001b[0m \u001b[43m    \u001b[49m\u001b[38;5;241;43m*\u001b[39;49m\u001b[38;5;241;43m*\u001b[39;49m\u001b[43mkwargs\u001b[49m\u001b[43m,\u001b[49m\n\u001b[1;32m    630\u001b[0m \u001b[43m\u001b[49m\u001b[43m)\u001b[49m\n\u001b[1;32m    631\u001b[0m \u001b[38;5;28mself\u001b[39m\u001b[38;5;241m.\u001b[39m_data_ref \u001b[38;5;241m=\u001b[39m ref\n",
      "File \u001b[0;32m~/Library/Python/3.9/lib/python/site-packages/xgboost/core.py:726\u001b[0m, in \u001b[0;36mrequire_keyword_args.<locals>.throw_if.<locals>.inner_f\u001b[0;34m(*args, **kwargs)\u001b[0m\n\u001b[1;32m    724\u001b[0m \u001b[38;5;28;01mfor\u001b[39;00m k, arg \u001b[38;5;129;01min\u001b[39;00m \u001b[38;5;28mzip\u001b[39m(sig\u001b[38;5;241m.\u001b[39mparameters, args):\n\u001b[1;32m    725\u001b[0m     kwargs[k] \u001b[38;5;241m=\u001b[39m arg\n\u001b[0;32m--> 726\u001b[0m \u001b[38;5;28;01mreturn\u001b[39;00m \u001b[43mfunc\u001b[49m\u001b[43m(\u001b[49m\u001b[38;5;241;43m*\u001b[39;49m\u001b[38;5;241;43m*\u001b[39;49m\u001b[43mkwargs\u001b[49m\u001b[43m)\u001b[49m\n",
      "File \u001b[0;32m~/Library/Python/3.9/lib/python/site-packages/xgboost/core.py:954\u001b[0m, in \u001b[0;36mDMatrix.set_info\u001b[0;34m(self, label, weight, base_margin, group, qid, label_lower_bound, label_upper_bound, feature_names, feature_types, feature_weights)\u001b[0m\n\u001b[1;32m    951\u001b[0m \u001b[38;5;28;01mfrom\u001b[39;00m \u001b[38;5;21;01m.\u001b[39;00m\u001b[38;5;21;01mdata\u001b[39;00m \u001b[38;5;28;01mimport\u001b[39;00m dispatch_meta_backend\n\u001b[1;32m    953\u001b[0m \u001b[38;5;28;01mif\u001b[39;00m label \u001b[38;5;129;01mis\u001b[39;00m \u001b[38;5;129;01mnot\u001b[39;00m \u001b[38;5;28;01mNone\u001b[39;00m:\n\u001b[0;32m--> 954\u001b[0m     \u001b[38;5;28;43mself\u001b[39;49m\u001b[38;5;241;43m.\u001b[39;49m\u001b[43mset_label\u001b[49m\u001b[43m(\u001b[49m\u001b[43mlabel\u001b[49m\u001b[43m)\u001b[49m\n\u001b[1;32m    955\u001b[0m \u001b[38;5;28;01mif\u001b[39;00m weight \u001b[38;5;129;01mis\u001b[39;00m \u001b[38;5;129;01mnot\u001b[39;00m \u001b[38;5;28;01mNone\u001b[39;00m:\n\u001b[1;32m    956\u001b[0m     \u001b[38;5;28mself\u001b[39m\u001b[38;5;241m.\u001b[39mset_weight(weight)\n",
      "File \u001b[0;32m~/Library/Python/3.9/lib/python/site-packages/xgboost/core.py:1092\u001b[0m, in \u001b[0;36mDMatrix.set_label\u001b[0;34m(self, label)\u001b[0m\n\u001b[1;32m   1083\u001b[0m \u001b[38;5;250m\u001b[39m\u001b[38;5;124;03m\"\"\"Set label of dmatrix\u001b[39;00m\n\u001b[1;32m   1084\u001b[0m \n\u001b[1;32m   1085\u001b[0m \u001b[38;5;124;03mParameters\u001b[39;00m\n\u001b[0;32m   (...)\u001b[0m\n\u001b[1;32m   1088\u001b[0m \u001b[38;5;124;03m    The label information to be set into DMatrix\u001b[39;00m\n\u001b[1;32m   1089\u001b[0m \u001b[38;5;124;03m\"\"\"\u001b[39;00m\n\u001b[1;32m   1090\u001b[0m \u001b[38;5;28;01mfrom\u001b[39;00m \u001b[38;5;21;01m.\u001b[39;00m\u001b[38;5;21;01mdata\u001b[39;00m \u001b[38;5;28;01mimport\u001b[39;00m dispatch_meta_backend\n\u001b[0;32m-> 1092\u001b[0m \u001b[43mdispatch_meta_backend\u001b[49m\u001b[43m(\u001b[49m\u001b[38;5;28;43mself\u001b[39;49m\u001b[43m,\u001b[49m\u001b[43m \u001b[49m\u001b[43mlabel\u001b[49m\u001b[43m,\u001b[49m\u001b[43m \u001b[49m\u001b[38;5;124;43m\"\u001b[39;49m\u001b[38;5;124;43mlabel\u001b[39;49m\u001b[38;5;124;43m\"\u001b[39;49m\u001b[43m,\u001b[49m\u001b[43m \u001b[49m\u001b[38;5;124;43m\"\u001b[39;49m\u001b[38;5;124;43mfloat\u001b[39;49m\u001b[38;5;124;43m\"\u001b[39;49m\u001b[43m)\u001b[49m\n",
      "File \u001b[0;32m~/Library/Python/3.9/lib/python/site-packages/xgboost/data.py:1348\u001b[0m, in \u001b[0;36mdispatch_meta_backend\u001b[0;34m(matrix, data, name, dtype)\u001b[0m\n\u001b[1;32m   1346\u001b[0m     \u001b[38;5;28;01mreturn\u001b[39;00m\n\u001b[1;32m   1347\u001b[0m \u001b[38;5;28;01mif\u001b[39;00m _is_pandas_series(data):\n\u001b[0;32m-> 1348\u001b[0m     \u001b[43m_meta_from_pandas_series\u001b[49m\u001b[43m(\u001b[49m\u001b[43mdata\u001b[49m\u001b[43m,\u001b[49m\u001b[43m \u001b[49m\u001b[43mname\u001b[49m\u001b[43m,\u001b[49m\u001b[43m \u001b[49m\u001b[43mdtype\u001b[49m\u001b[43m,\u001b[49m\u001b[43m \u001b[49m\u001b[43mhandle\u001b[49m\u001b[43m)\u001b[49m\n\u001b[1;32m   1349\u001b[0m     \u001b[38;5;28;01mreturn\u001b[39;00m\n\u001b[1;32m   1350\u001b[0m \u001b[38;5;28;01mif\u001b[39;00m _is_dlpack(data):\n",
      "File \u001b[0;32m~/Library/Python/3.9/lib/python/site-packages/xgboost/data.py:679\u001b[0m, in \u001b[0;36m_meta_from_pandas_series\u001b[0;34m(data, name, dtype, handle)\u001b[0m\n\u001b[1;32m    677\u001b[0m     data \u001b[38;5;241m=\u001b[39m data\u001b[38;5;241m.\u001b[39mto_dense()  \u001b[38;5;66;03m# type: ignore\u001b[39;00m\n\u001b[1;32m    678\u001b[0m \u001b[38;5;28;01massert\u001b[39;00m \u001b[38;5;28mlen\u001b[39m(data\u001b[38;5;241m.\u001b[39mshape) \u001b[38;5;241m==\u001b[39m \u001b[38;5;241m1\u001b[39m \u001b[38;5;129;01mor\u001b[39;00m data\u001b[38;5;241m.\u001b[39mshape[\u001b[38;5;241m1\u001b[39m] \u001b[38;5;241m==\u001b[39m \u001b[38;5;241m0\u001b[39m \u001b[38;5;129;01mor\u001b[39;00m data\u001b[38;5;241m.\u001b[39mshape[\u001b[38;5;241m1\u001b[39m] \u001b[38;5;241m==\u001b[39m \u001b[38;5;241m1\u001b[39m\n\u001b[0;32m--> 679\u001b[0m \u001b[43m_meta_from_numpy\u001b[49m\u001b[43m(\u001b[49m\u001b[43mdata\u001b[49m\u001b[43m,\u001b[49m\u001b[43m \u001b[49m\u001b[43mname\u001b[49m\u001b[43m,\u001b[49m\u001b[43m \u001b[49m\u001b[43mdtype\u001b[49m\u001b[43m,\u001b[49m\u001b[43m \u001b[49m\u001b[43mhandle\u001b[49m\u001b[43m)\u001b[49m\n",
      "File \u001b[0;32m~/Library/Python/3.9/lib/python/site-packages/xgboost/data.py:1279\u001b[0m, in \u001b[0;36m_meta_from_numpy\u001b[0;34m(data, field, dtype, handle)\u001b[0m\n\u001b[1;32m   1277\u001b[0m     \u001b[38;5;28;01mraise\u001b[39;00m \u001b[38;5;167;01mValueError\u001b[39;00m(\u001b[38;5;124m\"\u001b[39m\u001b[38;5;124mMasked array is not supported.\u001b[39m\u001b[38;5;124m\"\u001b[39m)\n\u001b[1;32m   1278\u001b[0m interface_str \u001b[38;5;241m=\u001b[39m _array_interface(data)\n\u001b[0;32m-> 1279\u001b[0m \u001b[43m_check_call\u001b[49m\u001b[43m(\u001b[49m\u001b[43m_LIB\u001b[49m\u001b[38;5;241;43m.\u001b[39;49m\u001b[43mXGDMatrixSetInfoFromInterface\u001b[49m\u001b[43m(\u001b[49m\u001b[43mhandle\u001b[49m\u001b[43m,\u001b[49m\u001b[43m \u001b[49m\u001b[43mc_str\u001b[49m\u001b[43m(\u001b[49m\u001b[43mfield\u001b[49m\u001b[43m)\u001b[49m\u001b[43m,\u001b[49m\u001b[43m \u001b[49m\u001b[43minterface_str\u001b[49m\u001b[43m)\u001b[49m\u001b[43m)\u001b[49m\n",
      "File \u001b[0;32m~/Library/Python/3.9/lib/python/site-packages/xgboost/core.py:284\u001b[0m, in \u001b[0;36m_check_call\u001b[0;34m(ret)\u001b[0m\n\u001b[1;32m    273\u001b[0m \u001b[38;5;250m\u001b[39m\u001b[38;5;124;03m\"\"\"Check the return value of C API call\u001b[39;00m\n\u001b[1;32m    274\u001b[0m \n\u001b[1;32m    275\u001b[0m \u001b[38;5;124;03mThis function will raise exception when error occurs.\u001b[39;00m\n\u001b[0;32m   (...)\u001b[0m\n\u001b[1;32m    281\u001b[0m \u001b[38;5;124;03m    return value from API calls\u001b[39;00m\n\u001b[1;32m    282\u001b[0m \u001b[38;5;124;03m\"\"\"\u001b[39;00m\n\u001b[1;32m    283\u001b[0m \u001b[38;5;28;01mif\u001b[39;00m ret \u001b[38;5;241m!=\u001b[39m \u001b[38;5;241m0\u001b[39m:\n\u001b[0;32m--> 284\u001b[0m     \u001b[38;5;28;01mraise\u001b[39;00m XGBoostError(py_str(_LIB\u001b[38;5;241m.\u001b[39mXGBGetLastError()))\n",
      "\u001b[0;31mXGBoostError\u001b[0m: [15:51:18] /Users/runner/work/xgboost/xgboost/src/data/data.cc:514: Check failed: valid: Label contains NaN, infinity or a value too large.\nStack trace:\n  [bt] (0) 1   libxgboost.dylib                    0x0000000158684428 dmlc::LogMessageFatal::~LogMessageFatal() + 124\n  [bt] (1) 2   libxgboost.dylib                    0x00000001587e2450 xgboost::MetaInfo::SetInfoFromHost(xgboost::Context const&, xgboost::StringView, xgboost::Json) + 2776\n  [bt] (2) 3   libxgboost.dylib                    0x00000001587e17ec xgboost::MetaInfo::SetInfo(xgboost::Context const&, xgboost::StringView, xgboost::StringView) + 464\n  [bt] (3) 4   libxgboost.dylib                    0x000000015869ba60 XGDMatrixSetInfoFromInterface + 228\n  [bt] (4) 5   libffi.dylib                        0x00000001ae022050 ffi_call_SYSV + 80\n  [bt] (5) 6   libffi.dylib                        0x00000001ae02aaf0 ffi_call_int + 1220\n  [bt] (6) 7   _ctypes.cpython-39-darwin.so        0x0000000102913170 PyInit__ctypes + 25364\n  [bt] (7) 8   _ctypes.cpython-39-darwin.so        0x000000010290bbe0 _ctypes.cpython-39-darwin.so + 15328\n  [bt] (8) 9   Python3                             0x0000000100397370 _PyObject_MakeTpCall + 356\n\n"
     ]
    }
   ],
   "source": [
    "# Executar\n",
    "resultados_modelos = treinar_modelos(X, y)"
   ]
  },
  {
   "cell_type": "code",
   "execution_count": null,
   "id": "40858557-2ff7-493a-9127-b3b98ee1e450",
   "metadata": {},
   "outputs": [],
   "source": []
  }
 ],
 "metadata": {
  "kernelspec": {
   "display_name": "Python 3 (ipykernel)",
   "language": "python",
   "name": "python3"
  },
  "language_info": {
   "codemirror_mode": {
    "name": "ipython",
    "version": 3
   },
   "file_extension": ".py",
   "mimetype": "text/x-python",
   "name": "python",
   "nbconvert_exporter": "python",
   "pygments_lexer": "ipython3",
   "version": "3.9.6"
  }
 },
 "nbformat": 4,
 "nbformat_minor": 5
}
