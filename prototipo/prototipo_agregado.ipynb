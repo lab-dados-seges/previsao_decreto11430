{
 "cells": [
  {
   "cell_type": "code",
   "execution_count": 1,
   "id": "6f34dd9e-ea1f-450e-bb5f-a394ae6abc7c",
   "metadata": {},
   "outputs": [],
   "source": [
    "import pandas as pd\n",
    "import numpy as np\n",
    "import matplotlib.pyplot as plt\n",
    "import seaborn as sns\n",
    "from sklearn.model_selection import train_test_split\n",
    "from sklearn.pipeline import Pipeline\n",
    "from sklearn.compose import ColumnTransformer\n",
    "from sklearn.model_selection import cross_val_score, GridSearchCV\n",
    "from sklearn.preprocessing import OneHotEncoder, StandardScaler\n",
    "from sklearn.feature_extraction.text import TfidfVectorizer\n",
    "from sklearn.metrics import make_scorer, root_mean_squared_error, r2_score\n",
    "from sklearn.linear_model import LinearRegression\n",
    "from sklearn.ensemble import RandomForestRegressor, GradientBoostingRegressor\n",
    "from sklearn.neighbors import KNeighborsRegressor\n",
    "from xgboost import XGBRegressor\n",
    "import nltk\n",
    "from nltk.corpus import stopwords\n",
    "from datetime import datetime\n",
    "import unicodedata"
   ]
  },
  {
   "cell_type": "markdown",
   "id": "1d0d2dce-38bf-4312-8601-4adc28c7b095",
   "metadata": {},
   "source": [
    "## Agregar o quantitativo de terceirizados por contrato"
   ]
  },
  {
   "cell_type": "markdown",
   "id": "e41c45b4-0758-464c-a4b9-521cb764b116",
   "metadata": {},
   "source": [
    "Como o foco é o quantitativo total por contrato, já que o percentual será aplicado nas vagas totais, vamos agregar o quantitativo de terceirizados por contrato."
   ]
  },
  {
   "cell_type": "code",
   "execution_count": 2,
   "id": "ebdbe214-f62a-4be5-a0fd-cac0c5bff79f",
   "metadata": {},
   "outputs": [],
   "source": [
    "df_contratos = pd.read_csv('../data/contratos/categoria_contrato_v2.csv', low_memory=False, dtype='str')"
   ]
  },
  {
   "cell_type": "code",
   "execution_count": 3,
   "id": "e5bc6b88-d3db-4841-9b73-27d28da75323",
   "metadata": {},
   "outputs": [
    {
     "data": {
      "text/html": [
       "<div>\n",
       "<style scoped>\n",
       "    .dataframe tbody tr th:only-of-type {\n",
       "        vertical-align: middle;\n",
       "    }\n",
       "\n",
       "    .dataframe tbody tr th {\n",
       "        vertical-align: top;\n",
       "    }\n",
       "\n",
       "    .dataframe thead th {\n",
       "        text-align: right;\n",
       "    }\n",
       "</style>\n",
       "<table border=\"1\" class=\"dataframe\">\n",
       "  <thead>\n",
       "    <tr style=\"text-align: right;\">\n",
       "      <th></th>\n",
       "      <th>nr_contrato</th>\n",
       "      <th>nm_categoria_profissional</th>\n",
       "      <th>vl_mensal_salario_mean</th>\n",
       "      <th>vl_mensal_salario_median</th>\n",
       "      <th>vl_mensal_custo_mean</th>\n",
       "      <th>vl_mensal_custo_median</th>\n",
       "      <th>nr_jornada_mean</th>\n",
       "      <th>nr_jornada_median</th>\n",
       "      <th>id_terc_count</th>\n",
       "      <th>sg_orgao_sup_tabela_ug_x</th>\n",
       "      <th>...</th>\n",
       "      <th>id_contrato</th>\n",
       "      <th>objeto_contrato</th>\n",
       "      <th>objeto_compra</th>\n",
       "      <th>dataAssinatura</th>\n",
       "      <th>dataPublicacaoDOU</th>\n",
       "      <th>dataInicioVigencia</th>\n",
       "      <th>dataFimVigencia</th>\n",
       "      <th>tipo_fornecedor</th>\n",
       "      <th>valorInicialCompra</th>\n",
       "      <th>valorFinalCompra</th>\n",
       "    </tr>\n",
       "  </thead>\n",
       "  <tbody>\n",
       "    <tr>\n",
       "      <th>0</th>\n",
       "      <td>000012012</td>\n",
       "      <td>517330 - VIGILANTE</td>\n",
       "      <td>1775.2800000000002</td>\n",
       "      <td>1775.28</td>\n",
       "      <td>3923.92</td>\n",
       "      <td>3923.92</td>\n",
       "      <td>40.0</td>\n",
       "      <td>40.0</td>\n",
       "      <td>46</td>\n",
       "      <td>MINIST.</td>\n",
       "      <td>...</td>\n",
       "      <td>668336396.0</td>\n",
       "      <td>Objeto: Prestação de serviço de vigilancia   d...</td>\n",
       "      <td>Objeto: Pregão Eletrônico -  Contratação de em...</td>\n",
       "      <td>2012-06-18</td>\n",
       "      <td>2012-07-05</td>\n",
       "      <td>2012-06-18</td>\n",
       "      <td>2013-06-18</td>\n",
       "      <td>Entidades Empresariais Privadas</td>\n",
       "      <td>687542.0</td>\n",
       "      <td>2660693.36</td>\n",
       "    </tr>\n",
       "    <tr>\n",
       "      <th>1</th>\n",
       "      <td>000012014</td>\n",
       "      <td>513315 - CAMAREIRO DE HOTEL</td>\n",
       "      <td>1549.11</td>\n",
       "      <td>1549.11</td>\n",
       "      <td>4281.87</td>\n",
       "      <td>4281.87</td>\n",
       "      <td>44.0</td>\n",
       "      <td>44.0</td>\n",
       "      <td>4</td>\n",
       "      <td>MP.</td>\n",
       "      <td>...</td>\n",
       "      <td>668318167.0</td>\n",
       "      <td>Objeto: Contratação de empresa especializada n...</td>\n",
       "      <td>Objeto: Pregão Eletrônico -  Contratação de em...</td>\n",
       "      <td>2009-01-12</td>\n",
       "      <td>2009-01-13</td>\n",
       "      <td>2009-01-12</td>\n",
       "      <td>2010-01-11</td>\n",
       "      <td>Entidades Empresariais Privadas</td>\n",
       "      <td>913810.56</td>\n",
       "      <td>5687893.2</td>\n",
       "    </tr>\n",
       "    <tr>\n",
       "      <th>2</th>\n",
       "      <td>000012014</td>\n",
       "      <td>514315 - LIMPADOR DE FACHADAS</td>\n",
       "      <td>1549.11</td>\n",
       "      <td>1549.11</td>\n",
       "      <td>4281.87</td>\n",
       "      <td>4281.87</td>\n",
       "      <td>44.0</td>\n",
       "      <td>44.0</td>\n",
       "      <td>1</td>\n",
       "      <td>MP.</td>\n",
       "      <td>...</td>\n",
       "      <td>668318167.0</td>\n",
       "      <td>Objeto: Contratação de empresa especializada n...</td>\n",
       "      <td>Objeto: Pregão Eletrônico -  Contratação de em...</td>\n",
       "      <td>2009-01-12</td>\n",
       "      <td>2009-01-13</td>\n",
       "      <td>2009-01-12</td>\n",
       "      <td>2010-01-11</td>\n",
       "      <td>Entidades Empresariais Privadas</td>\n",
       "      <td>913810.56</td>\n",
       "      <td>5687893.2</td>\n",
       "    </tr>\n",
       "    <tr>\n",
       "      <th>3</th>\n",
       "      <td>000012014</td>\n",
       "      <td>622015 - TRABALHADOR NA PRODUCAO DE MUDAS E SE...</td>\n",
       "      <td>1549.11</td>\n",
       "      <td>1549.11</td>\n",
       "      <td>4281.87</td>\n",
       "      <td>4281.87</td>\n",
       "      <td>44.0</td>\n",
       "      <td>44.0</td>\n",
       "      <td>1</td>\n",
       "      <td>MP.</td>\n",
       "      <td>...</td>\n",
       "      <td>668318167.0</td>\n",
       "      <td>Objeto: Contratação de empresa especializada n...</td>\n",
       "      <td>Objeto: Pregão Eletrônico -  Contratação de em...</td>\n",
       "      <td>2009-01-12</td>\n",
       "      <td>2009-01-13</td>\n",
       "      <td>2009-01-12</td>\n",
       "      <td>2010-01-11</td>\n",
       "      <td>Entidades Empresariais Privadas</td>\n",
       "      <td>913810.56</td>\n",
       "      <td>5687893.2</td>\n",
       "    </tr>\n",
       "    <tr>\n",
       "      <th>4</th>\n",
       "      <td>000012016</td>\n",
       "      <td>313120 - TECNICO DE MANUTENCAO ELETRICA</td>\n",
       "      <td>4131.04</td>\n",
       "      <td>4131.04</td>\n",
       "      <td>9030.21</td>\n",
       "      <td>9030.21</td>\n",
       "      <td>30.0</td>\n",
       "      <td>30.0</td>\n",
       "      <td>5</td>\n",
       "      <td>MCTI</td>\n",
       "      <td>...</td>\n",
       "      <td>668296909.0</td>\n",
       "      <td>Objeto: Prestação de serviços de Limpeza e Con...</td>\n",
       "      <td>Objeto: Pregão Eletrônico -  Contratação,em re...</td>\n",
       "      <td>2011-01-03</td>\n",
       "      <td>2011-02-11</td>\n",
       "      <td>2011-01-03</td>\n",
       "      <td>2012-01-03</td>\n",
       "      <td>Entidades Empresariais Privadas</td>\n",
       "      <td>764634.12</td>\n",
       "      <td>4775950.54</td>\n",
       "    </tr>\n",
       "  </tbody>\n",
       "</table>\n",
       "<p>5 rows × 41 columns</p>\n",
       "</div>"
      ],
      "text/plain": [
       "  nr_contrato                          nm_categoria_profissional  \\\n",
       "0   000012012                                 517330 - VIGILANTE   \n",
       "1   000012014                        513315 - CAMAREIRO DE HOTEL   \n",
       "2   000012014                      514315 - LIMPADOR DE FACHADAS   \n",
       "3   000012014  622015 - TRABALHADOR NA PRODUCAO DE MUDAS E SE...   \n",
       "4   000012016            313120 - TECNICO DE MANUTENCAO ELETRICA   \n",
       "\n",
       "  vl_mensal_salario_mean vl_mensal_salario_median vl_mensal_custo_mean  \\\n",
       "0     1775.2800000000002                  1775.28              3923.92   \n",
       "1                1549.11                  1549.11              4281.87   \n",
       "2                1549.11                  1549.11              4281.87   \n",
       "3                1549.11                  1549.11              4281.87   \n",
       "4                4131.04                  4131.04              9030.21   \n",
       "\n",
       "  vl_mensal_custo_median nr_jornada_mean nr_jornada_median id_terc_count  \\\n",
       "0                3923.92            40.0              40.0            46   \n",
       "1                4281.87            44.0              44.0             4   \n",
       "2                4281.87            44.0              44.0             1   \n",
       "3                4281.87            44.0              44.0             1   \n",
       "4                9030.21            30.0              30.0             5   \n",
       "\n",
       "  sg_orgao_sup_tabela_ug_x  ...  id_contrato  \\\n",
       "0                 MINIST.   ...  668336396.0   \n",
       "1                      MP.  ...  668318167.0   \n",
       "2                      MP.  ...  668318167.0   \n",
       "3                      MP.  ...  668318167.0   \n",
       "4                     MCTI  ...  668296909.0   \n",
       "\n",
       "                                     objeto_contrato  \\\n",
       "0  Objeto: Prestação de serviço de vigilancia   d...   \n",
       "1  Objeto: Contratação de empresa especializada n...   \n",
       "2  Objeto: Contratação de empresa especializada n...   \n",
       "3  Objeto: Contratação de empresa especializada n...   \n",
       "4  Objeto: Prestação de serviços de Limpeza e Con...   \n",
       "\n",
       "                                       objeto_compra dataAssinatura  \\\n",
       "0  Objeto: Pregão Eletrônico -  Contratação de em...     2012-06-18   \n",
       "1  Objeto: Pregão Eletrônico -  Contratação de em...     2009-01-12   \n",
       "2  Objeto: Pregão Eletrônico -  Contratação de em...     2009-01-12   \n",
       "3  Objeto: Pregão Eletrônico -  Contratação de em...     2009-01-12   \n",
       "4  Objeto: Pregão Eletrônico -  Contratação,em re...     2011-01-03   \n",
       "\n",
       "  dataPublicacaoDOU dataInicioVigencia dataFimVigencia  \\\n",
       "0        2012-07-05         2012-06-18      2013-06-18   \n",
       "1        2009-01-13         2009-01-12      2010-01-11   \n",
       "2        2009-01-13         2009-01-12      2010-01-11   \n",
       "3        2009-01-13         2009-01-12      2010-01-11   \n",
       "4        2011-02-11         2011-01-03      2012-01-03   \n",
       "\n",
       "                   tipo_fornecedor valorInicialCompra valorFinalCompra  \n",
       "0  Entidades Empresariais Privadas           687542.0       2660693.36  \n",
       "1  Entidades Empresariais Privadas          913810.56        5687893.2  \n",
       "2  Entidades Empresariais Privadas          913810.56        5687893.2  \n",
       "3  Entidades Empresariais Privadas          913810.56        5687893.2  \n",
       "4  Entidades Empresariais Privadas          764634.12       4775950.54  \n",
       "\n",
       "[5 rows x 41 columns]"
      ]
     },
     "execution_count": 3,
     "metadata": {},
     "output_type": "execute_result"
    }
   ],
   "source": [
    "df_contratos.head()"
   ]
  },
  {
   "cell_type": "code",
   "execution_count": 4,
   "id": "e2d1c524-d96c-4368-ab53-8ea24184f289",
   "metadata": {},
   "outputs": [
    {
     "data": {
      "text/plain": [
       "(918, 41)"
      ]
     },
     "execution_count": 4,
     "metadata": {},
     "output_type": "execute_result"
    }
   ],
   "source": [
    "df_contratos.shape"
   ]
  },
  {
   "cell_type": "code",
   "execution_count": 5,
   "id": "9e31a218-df67-4a8a-9594-74c48f1012e3",
   "metadata": {},
   "outputs": [
    {
     "data": {
      "text/plain": [
       "Index(['nr_contrato', 'nm_categoria_profissional', 'vl_mensal_salario_mean',\n",
       "       'vl_mensal_salario_median', 'vl_mensal_custo_mean',\n",
       "       'vl_mensal_custo_median', 'nr_jornada_mean', 'nr_jornada_median',\n",
       "       'id_terc_count', 'sg_orgao_sup_tabela_ug_x', 'cd_ug_gestora_x',\n",
       "       'nm_ug_tabela_ug_x', 'sg_ug_gestora_x', 'nm_razao_social',\n",
       "       'nm_unidade_prestacao_x', 'sg_orgao_x', 'nm_orgao_x', 'cd_orgao_siafi',\n",
       "       'cd_orgao_siape_x', 'cnpj_formatado_x', 'sg_orgao_sup_tabela_ug_y',\n",
       "       'cd_ug_gestora_y', 'nm_ug_tabela_ug_y', 'sg_ug_gestora_y', 'nr_cnpj',\n",
       "       'nm_unidade_prestacao_y', 'sg_orgao_y', 'nm_orgao_y',\n",
       "       'cd_orgao_siape_y', 'cnpj_formatado_y', 'status_validacao',\n",
       "       'id_contrato', 'objeto_contrato', 'objeto_compra', 'dataAssinatura',\n",
       "       'dataPublicacaoDOU', 'dataInicioVigencia', 'dataFimVigencia',\n",
       "       'tipo_fornecedor', 'valorInicialCompra', 'valorFinalCompra'],\n",
       "      dtype='object')"
      ]
     },
     "execution_count": 5,
     "metadata": {},
     "output_type": "execute_result"
    }
   ],
   "source": [
    "df_contratos.columns"
   ]
  },
  {
   "cell_type": "code",
   "execution_count": 6,
   "id": "f23bb801-a730-44e9-8a8e-a410635c35bd",
   "metadata": {},
   "outputs": [
    {
     "name": "stdout",
     "output_type": "stream",
     "text": [
      "<class 'pandas.core.frame.DataFrame'>\n",
      "RangeIndex: 918 entries, 0 to 917\n",
      "Data columns (total 41 columns):\n",
      " #   Column                     Non-Null Count  Dtype \n",
      "---  ------                     --------------  ----- \n",
      " 0   nr_contrato                918 non-null    object\n",
      " 1   nm_categoria_profissional  918 non-null    object\n",
      " 2   vl_mensal_salario_mean     918 non-null    object\n",
      " 3   vl_mensal_salario_median   918 non-null    object\n",
      " 4   vl_mensal_custo_mean       918 non-null    object\n",
      " 5   vl_mensal_custo_median     918 non-null    object\n",
      " 6   nr_jornada_mean            918 non-null    object\n",
      " 7   nr_jornada_median          918 non-null    object\n",
      " 8   id_terc_count              918 non-null    object\n",
      " 9   sg_orgao_sup_tabela_ug_x   918 non-null    object\n",
      " 10  cd_ug_gestora_x            918 non-null    object\n",
      " 11  nm_ug_tabela_ug_x          918 non-null    object\n",
      " 12  sg_ug_gestora_x            912 non-null    object\n",
      " 13  nm_razao_social            918 non-null    object\n",
      " 14  nm_unidade_prestacao_x     917 non-null    object\n",
      " 15  sg_orgao_x                 918 non-null    object\n",
      " 16  nm_orgao_x                 918 non-null    object\n",
      " 17  cd_orgao_siafi             918 non-null    object\n",
      " 18  cd_orgao_siape_x           918 non-null    object\n",
      " 19  cnpj_formatado_x           918 non-null    object\n",
      " 20  sg_orgao_sup_tabela_ug_y   918 non-null    object\n",
      " 21  cd_ug_gestora_y            918 non-null    object\n",
      " 22  nm_ug_tabela_ug_y          918 non-null    object\n",
      " 23  sg_ug_gestora_y            912 non-null    object\n",
      " 24  nr_cnpj                    918 non-null    object\n",
      " 25  nm_unidade_prestacao_y     917 non-null    object\n",
      " 26  sg_orgao_y                 918 non-null    object\n",
      " 27  nm_orgao_y                 918 non-null    object\n",
      " 28  cd_orgao_siape_y           918 non-null    object\n",
      " 29  cnpj_formatado_y           918 non-null    object\n",
      " 30  status_validacao           0 non-null      object\n",
      " 31  id_contrato                918 non-null    object\n",
      " 32  objeto_contrato            918 non-null    object\n",
      " 33  objeto_compra              918 non-null    object\n",
      " 34  dataAssinatura             918 non-null    object\n",
      " 35  dataPublicacaoDOU          918 non-null    object\n",
      " 36  dataInicioVigencia         918 non-null    object\n",
      " 37  dataFimVigencia            918 non-null    object\n",
      " 38  tipo_fornecedor            918 non-null    object\n",
      " 39  valorInicialCompra         918 non-null    object\n",
      " 40  valorFinalCompra           918 non-null    object\n",
      "dtypes: object(41)\n",
      "memory usage: 294.2+ KB\n"
     ]
    }
   ],
   "source": [
    "df_contratos.info()"
   ]
  },
  {
   "cell_type": "code",
   "execution_count": 7,
   "id": "2098f08c-5894-455d-af53-6814d3ae78b4",
   "metadata": {},
   "outputs": [],
   "source": [
    "# Remove espaços e converte diretamente para int, usando erros='coerce' para NaNs\n",
    "df_contratos['id_terc_count'] = (\n",
    "    df_contratos['id_terc_count']\n",
    "    .astype(str)  # garante string\n",
    "    .str.replace(r'\\D', '', regex=True)  # remove tudo que não for dígito\n",
    "    .replace('', np.nan)  # evita strings vazias após regex\n",
    "    .astype(float)  # ainda float, para aceitar NaN\n",
    "    .astype('Int64')  # pandas nullable integer\n",
    ")"
   ]
  },
  {
   "cell_type": "code",
   "execution_count": 8,
   "id": "62a6ccba-2d34-40cc-9353-e2b06716ced8",
   "metadata": {},
   "outputs": [
    {
     "data": {
      "text/plain": [
       "595    2312\n",
       "241    1961\n",
       "442    1920\n",
       "357    1843\n",
       "284    1240\n",
       "391    1144\n",
       "574    1000\n",
       "153     952\n",
       "804     881\n",
       "267     840\n",
       "Name: id_terc_count, dtype: Int64"
      ]
     },
     "execution_count": 8,
     "metadata": {},
     "output_type": "execute_result"
    }
   ],
   "source": [
    "df_contratos['id_terc_count'].nlargest(10)"
   ]
  },
  {
   "cell_type": "code",
   "execution_count": 9,
   "id": "a76b569a-4961-40c4-9b59-d628940df537",
   "metadata": {},
   "outputs": [],
   "source": [
    "df_contrato_agg = df_contratos.groupby(['nr_contrato', 'cd_orgao_siafi']).agg({\n",
    "    'id_terc_count': 'sum',\n",
    "    'objeto_contrato': 'first',\n",
    "    'valorInicialCompra': 'first',\n",
    "    'valorFinalCompra': 'first',\n",
    "    'dataAssinatura': 'first',\n",
    "    'dataInicioVigencia': 'first',\n",
    "    'dataFimVigencia': 'first'\n",
    "}).reset_index()"
   ]
  },
  {
   "cell_type": "code",
   "execution_count": 10,
   "id": "acd99218-0899-4c57-bfc2-7b6a53b0a2f4",
   "metadata": {},
   "outputs": [
    {
     "data": {
      "text/html": [
       "<div>\n",
       "<style scoped>\n",
       "    .dataframe tbody tr th:only-of-type {\n",
       "        vertical-align: middle;\n",
       "    }\n",
       "\n",
       "    .dataframe tbody tr th {\n",
       "        vertical-align: top;\n",
       "    }\n",
       "\n",
       "    .dataframe thead th {\n",
       "        text-align: right;\n",
       "    }\n",
       "</style>\n",
       "<table border=\"1\" class=\"dataframe\">\n",
       "  <thead>\n",
       "    <tr style=\"text-align: right;\">\n",
       "      <th></th>\n",
       "      <th>nr_contrato</th>\n",
       "      <th>cd_orgao_siafi</th>\n",
       "      <th>id_terc_count</th>\n",
       "      <th>objeto_contrato</th>\n",
       "      <th>valorInicialCompra</th>\n",
       "      <th>valorFinalCompra</th>\n",
       "      <th>dataAssinatura</th>\n",
       "      <th>dataInicioVigencia</th>\n",
       "      <th>dataFimVigencia</th>\n",
       "    </tr>\n",
       "  </thead>\n",
       "  <tbody>\n",
       "    <tr>\n",
       "      <th>0</th>\n",
       "      <td>000012012</td>\n",
       "      <td>42207</td>\n",
       "      <td>46</td>\n",
       "      <td>Objeto: Prestação de serviço de vigilancia   d...</td>\n",
       "      <td>687542.0</td>\n",
       "      <td>2660693.36</td>\n",
       "      <td>2012-06-18</td>\n",
       "      <td>2012-06-18</td>\n",
       "      <td>2013-06-18</td>\n",
       "    </tr>\n",
       "    <tr>\n",
       "      <th>1</th>\n",
       "      <td>000012014</td>\n",
       "      <td>20202</td>\n",
       "      <td>6</td>\n",
       "      <td>Objeto: Contratação de empresa especializada n...</td>\n",
       "      <td>913810.56</td>\n",
       "      <td>5687893.2</td>\n",
       "      <td>2009-01-12</td>\n",
       "      <td>2009-01-12</td>\n",
       "      <td>2010-01-11</td>\n",
       "    </tr>\n",
       "    <tr>\n",
       "      <th>2</th>\n",
       "      <td>000012016</td>\n",
       "      <td>20301</td>\n",
       "      <td>15</td>\n",
       "      <td>Objeto: Prestação de serviços de Limpeza e Con...</td>\n",
       "      <td>764634.12</td>\n",
       "      <td>4775950.54</td>\n",
       "      <td>2011-01-03</td>\n",
       "      <td>2011-01-03</td>\n",
       "      <td>2012-01-03</td>\n",
       "    </tr>\n",
       "    <tr>\n",
       "      <th>3</th>\n",
       "      <td>000012016</td>\n",
       "      <td>26438</td>\n",
       "      <td>6</td>\n",
       "      <td>Objeto: Servicos especializados de Recepcao pa...</td>\n",
       "      <td>118666.32</td>\n",
       "      <td>129217.44</td>\n",
       "      <td>2010-11-03</td>\n",
       "      <td>2010-11-22</td>\n",
       "      <td>2011-11-21</td>\n",
       "    </tr>\n",
       "    <tr>\n",
       "      <th>4</th>\n",
       "      <td>000012017</td>\n",
       "      <td>20301</td>\n",
       "      <td>68</td>\n",
       "      <td>Objeto: Prestação de serviços de Limpeza e Con...</td>\n",
       "      <td>764634.12</td>\n",
       "      <td>4775950.54</td>\n",
       "      <td>2011-01-03</td>\n",
       "      <td>2011-01-03</td>\n",
       "      <td>2012-01-03</td>\n",
       "    </tr>\n",
       "    <tr>\n",
       "      <th>5</th>\n",
       "      <td>000012017</td>\n",
       "      <td>26416</td>\n",
       "      <td>28</td>\n",
       "      <td>Objeto: Contratação de empresa para prestação ...</td>\n",
       "      <td>280709.88</td>\n",
       "      <td>280709.88</td>\n",
       "      <td>2013-12-06</td>\n",
       "      <td>2013-12-06</td>\n",
       "      <td>2014-12-06</td>\n",
       "    </tr>\n",
       "    <tr>\n",
       "      <th>6</th>\n",
       "      <td>000012017</td>\n",
       "      <td>26437</td>\n",
       "      <td>102</td>\n",
       "      <td>Objeto: Contratacao de empresa especializada n...</td>\n",
       "      <td>640741.94</td>\n",
       "      <td>4015923.0</td>\n",
       "      <td>2010-07-01</td>\n",
       "      <td>2010-07-01</td>\n",
       "      <td>2011-07-01</td>\n",
       "    </tr>\n",
       "    <tr>\n",
       "      <th>7</th>\n",
       "      <td>000012018</td>\n",
       "      <td>26201</td>\n",
       "      <td>2</td>\n",
       "      <td>Objeto: Limpeza e higienização e conservação d...</td>\n",
       "      <td>7900.0</td>\n",
       "      <td>7900.0</td>\n",
       "      <td>2013-09-09</td>\n",
       "      <td>2013-09-09</td>\n",
       "      <td>2013-10-23</td>\n",
       "    </tr>\n",
       "    <tr>\n",
       "      <th>8</th>\n",
       "      <td>000012018</td>\n",
       "      <td>26405</td>\n",
       "      <td>62</td>\n",
       "      <td>Objeto: Contratação de empresa especializada p...</td>\n",
       "      <td>110054.88</td>\n",
       "      <td>110054.88</td>\n",
       "      <td>2012-08-06</td>\n",
       "      <td>2012-08-06</td>\n",
       "      <td>2013-08-05</td>\n",
       "    </tr>\n",
       "    <tr>\n",
       "      <th>9</th>\n",
       "      <td>000012019</td>\n",
       "      <td>26406</td>\n",
       "      <td>7</td>\n",
       "      <td>Objeto: Contratação dos serviços de recepcioni...</td>\n",
       "      <td>69408.0</td>\n",
       "      <td>313801.94</td>\n",
       "      <td>2011-05-11</td>\n",
       "      <td>2011-05-11</td>\n",
       "      <td>2015-08-26</td>\n",
       "    </tr>\n",
       "  </tbody>\n",
       "</table>\n",
       "</div>"
      ],
      "text/plain": [
       "  nr_contrato cd_orgao_siafi  id_terc_count  \\\n",
       "0   000012012          42207             46   \n",
       "1   000012014          20202              6   \n",
       "2   000012016          20301             15   \n",
       "3   000012016          26438              6   \n",
       "4   000012017          20301             68   \n",
       "5   000012017          26416             28   \n",
       "6   000012017          26437            102   \n",
       "7   000012018          26201              2   \n",
       "8   000012018          26405             62   \n",
       "9   000012019          26406              7   \n",
       "\n",
       "                                     objeto_contrato valorInicialCompra  \\\n",
       "0  Objeto: Prestação de serviço de vigilancia   d...           687542.0   \n",
       "1  Objeto: Contratação de empresa especializada n...          913810.56   \n",
       "2  Objeto: Prestação de serviços de Limpeza e Con...          764634.12   \n",
       "3  Objeto: Servicos especializados de Recepcao pa...          118666.32   \n",
       "4  Objeto: Prestação de serviços de Limpeza e Con...          764634.12   \n",
       "5  Objeto: Contratação de empresa para prestação ...          280709.88   \n",
       "6  Objeto: Contratacao de empresa especializada n...          640741.94   \n",
       "7  Objeto: Limpeza e higienização e conservação d...             7900.0   \n",
       "8  Objeto: Contratação de empresa especializada p...          110054.88   \n",
       "9  Objeto: Contratação dos serviços de recepcioni...            69408.0   \n",
       "\n",
       "  valorFinalCompra dataAssinatura dataInicioVigencia dataFimVigencia  \n",
       "0       2660693.36     2012-06-18         2012-06-18      2013-06-18  \n",
       "1        5687893.2     2009-01-12         2009-01-12      2010-01-11  \n",
       "2       4775950.54     2011-01-03         2011-01-03      2012-01-03  \n",
       "3        129217.44     2010-11-03         2010-11-22      2011-11-21  \n",
       "4       4775950.54     2011-01-03         2011-01-03      2012-01-03  \n",
       "5        280709.88     2013-12-06         2013-12-06      2014-12-06  \n",
       "6        4015923.0     2010-07-01         2010-07-01      2011-07-01  \n",
       "7           7900.0     2013-09-09         2013-09-09      2013-10-23  \n",
       "8        110054.88     2012-08-06         2012-08-06      2013-08-05  \n",
       "9        313801.94     2011-05-11         2011-05-11      2015-08-26  "
      ]
     },
     "execution_count": 10,
     "metadata": {},
     "output_type": "execute_result"
    }
   ],
   "source": [
    "df_contrato_agg.head(10)"
   ]
  },
  {
   "cell_type": "code",
   "execution_count": 11,
   "id": "483c5d2d-eeb9-4b98-8d74-6e4b4449221e",
   "metadata": {},
   "outputs": [
    {
     "data": {
      "text/plain": [
       "(368, 9)"
      ]
     },
     "execution_count": 11,
     "metadata": {},
     "output_type": "execute_result"
    }
   ],
   "source": [
    "df_contrato_agg.shape"
   ]
  },
  {
   "cell_type": "markdown",
   "id": "38ba4f17-20d1-4be9-8bbd-7b18f6f5b031",
   "metadata": {},
   "source": [
    "## Tratamento dos dados para os modelos"
   ]
  },
  {
   "cell_type": "markdown",
   "id": "05d083f2-3b24-4d62-ac66-b21664560f04",
   "metadata": {},
   "source": [
    "#### Tratar valores nulos e com string"
   ]
  },
  {
   "cell_type": "code",
   "execution_count": 12,
   "id": "96814e81-8e7d-4cab-833e-80fd8fd9f5c3",
   "metadata": {},
   "outputs": [],
   "source": [
    "df_contrato_agg.drop(columns=['nr_contrato'], inplace=True)"
   ]
  },
  {
   "cell_type": "code",
   "execution_count": 13,
   "id": "5660bbaf-bd32-4f80-8c8c-2e4b1e56341a",
   "metadata": {},
   "outputs": [
    {
     "name": "stdout",
     "output_type": "stream",
     "text": [
      "<class 'pandas.core.frame.DataFrame'>\n",
      "RangeIndex: 368 entries, 0 to 367\n",
      "Data columns (total 8 columns):\n",
      " #   Column              Non-Null Count  Dtype \n",
      "---  ------              --------------  ----- \n",
      " 0   cd_orgao_siafi      368 non-null    object\n",
      " 1   id_terc_count       368 non-null    Int64 \n",
      " 2   objeto_contrato     368 non-null    object\n",
      " 3   valorInicialCompra  368 non-null    object\n",
      " 4   valorFinalCompra    368 non-null    object\n",
      " 5   dataAssinatura      368 non-null    object\n",
      " 6   dataInicioVigencia  368 non-null    object\n",
      " 7   dataFimVigencia     368 non-null    object\n",
      "dtypes: Int64(1), object(7)\n",
      "memory usage: 23.5+ KB\n"
     ]
    }
   ],
   "source": [
    "df_contrato_agg.info()"
   ]
  },
  {
   "cell_type": "code",
   "execution_count": 14,
   "id": "f9f46841-8c9c-4dd1-9050-b829534d98c3",
   "metadata": {},
   "outputs": [],
   "source": [
    "# Conversão de colunas numéricas\n",
    "for col in ['valorInicialCompra', 'valorFinalCompra']:\n",
    "    df_contrato_agg[col] = pd.to_numeric(df_contrato_agg[col], errors='coerce')\n",
    "    \n",
    "# Conversão de datas\n",
    "for col in ['dataAssinatura', 'dataInicioVigencia', 'dataFimVigencia']:\n",
    "    df_contrato_agg[col] = pd.to_datetime(df_contrato_agg[col], errors='coerce')"
   ]
  },
  {
   "cell_type": "code",
   "execution_count": 15,
   "id": "20774f08-5799-4b80-bccf-84c7930d0579",
   "metadata": {},
   "outputs": [
    {
     "name": "stdout",
     "output_type": "stream",
     "text": [
      "<class 'pandas.core.frame.DataFrame'>\n",
      "RangeIndex: 368 entries, 0 to 367\n",
      "Data columns (total 8 columns):\n",
      " #   Column              Non-Null Count  Dtype         \n",
      "---  ------              --------------  -----         \n",
      " 0   cd_orgao_siafi      368 non-null    object        \n",
      " 1   id_terc_count       368 non-null    Int64         \n",
      " 2   objeto_contrato     368 non-null    object        \n",
      " 3   valorInicialCompra  368 non-null    float64       \n",
      " 4   valorFinalCompra    368 non-null    float64       \n",
      " 5   dataAssinatura      368 non-null    datetime64[ns]\n",
      " 6   dataInicioVigencia  368 non-null    datetime64[ns]\n",
      " 7   dataFimVigencia     368 non-null    datetime64[ns]\n",
      "dtypes: Int64(1), datetime64[ns](3), float64(2), object(2)\n",
      "memory usage: 23.5+ KB\n"
     ]
    }
   ],
   "source": [
    "df_contrato_agg.info()"
   ]
  },
  {
   "cell_type": "markdown",
   "id": "0fb2539b-d977-4a23-8a84-4b1db4db3aa8",
   "metadata": {},
   "source": [
    "#### Filtrar pelos contratos com mais de 25 contratações"
   ]
  },
  {
   "cell_type": "markdown",
   "id": "6bd132a8-0816-4cbb-af1e-5ab75a47f008",
   "metadata": {},
   "source": [
    "Segundo o § 1º do Art. 3º do Decreto nº 11.430/2023, o percentual de 8% será aplicável apenas a contratos com mais de 25 colaboradores."
   ]
  },
  {
   "cell_type": "code",
   "execution_count": 16,
   "id": "06896359-be91-40fc-bebf-f26b2b196e82",
   "metadata": {},
   "outputs": [],
   "source": [
    "# Filtra apenas contratos com mais de 25 terceirizados\n",
    "df_contrato_agg = df_contrato_agg[df_contrato_agg['id_terc_count'] > 25]"
   ]
  },
  {
   "cell_type": "code",
   "execution_count": 17,
   "id": "bdb555c2-3659-4194-aae1-f573d02faa99",
   "metadata": {},
   "outputs": [
    {
     "data": {
      "text/plain": [
       "(154, 8)"
      ]
     },
     "execution_count": 17,
     "metadata": {},
     "output_type": "execute_result"
    }
   ],
   "source": [
    "df_contrato_agg.shape"
   ]
  },
  {
   "cell_type": "markdown",
   "id": "af6a8d1b-fb66-4cd9-8b9f-f6a922907d62",
   "metadata": {},
   "source": [
    "#### Criação de novas variáveis"
   ]
  },
  {
   "cell_type": "code",
   "execution_count": 18,
   "id": "5613f2ad-5371-4030-ad2a-3dacd3760ba3",
   "metadata": {},
   "outputs": [],
   "source": [
    "# Feature de data: ano, mês e intervalo\n",
    "df_contrato_agg['ano_assinatura'] = df_contrato_agg['dataAssinatura'].dt.year\n",
    "df_contrato_agg['mes_assinatura'] = df_contrato_agg['dataAssinatura'].dt.month"
   ]
  },
  {
   "cell_type": "code",
   "execution_count": 19,
   "id": "2a6496ca-0079-41ad-85bf-1f517c2d2319",
   "metadata": {},
   "outputs": [],
   "source": [
    "# Diferença entre assinatura e início da vigência\n",
    "df_contrato_agg['dias_ate_inicio_vigencia'] = (df_contrato_agg['dataInicioVigencia'] - df_contrato_agg['dataAssinatura']).dt.days"
   ]
  },
  {
   "cell_type": "code",
   "execution_count": 20,
   "id": "8af31b41-6781-4e42-a4fe-c5438deef58d",
   "metadata": {},
   "outputs": [
    {
     "data": {
      "text/plain": [
       "Index(['cd_orgao_siafi', 'id_terc_count', 'objeto_contrato',\n",
       "       'valorInicialCompra', 'valorFinalCompra', 'dataAssinatura',\n",
       "       'dataInicioVigencia', 'dataFimVigencia', 'ano_assinatura',\n",
       "       'mes_assinatura', 'dias_ate_inicio_vigencia'],\n",
       "      dtype='object')"
      ]
     },
     "execution_count": 20,
     "metadata": {},
     "output_type": "execute_result"
    }
   ],
   "source": [
    "df_contrato_agg.columns"
   ]
  },
  {
   "cell_type": "markdown",
   "id": "a94f9923-5d60-46df-8b14-db42cfc49039",
   "metadata": {},
   "source": [
    "#### Tratar as stopwords para não influenciarem o modelo"
   ]
  },
  {
   "cell_type": "code",
   "execution_count": 21,
   "id": "0cd71978-1e56-4163-bcca-d7a39ab456b2",
   "metadata": {},
   "outputs": [],
   "source": [
    "# Preencher nulos e limpar texto do campo de objeto\n",
    "df_contrato_agg['objeto_contrato'] = df_contrato_agg['objeto_contrato'].fillna(\"\")\n",
    "df_contrato_agg['objeto_contrato'] = (\n",
    "    df_contrato_agg['objeto_contrato']\n",
    "    .str.replace(r\"(?i)^objeto:\\s*\", \"\", regex=True)  # Remove \"Objeto:\"\n",
    "    .str.replace(r\"[^a-zA-Záéíóúâêîôûãõç\\s]\", \" \", regex=True)  # Remove pontuação e números\n",
    "    .str.lower()\n",
    "    .str.strip()\n",
    ")"
   ]
  },
  {
   "cell_type": "code",
   "execution_count": 22,
   "id": "8e5e5a9f-54c5-4c8c-80a0-a0e8e8a61581",
   "metadata": {},
   "outputs": [
    {
     "name": "stderr",
     "output_type": "stream",
     "text": [
      "[nltk_data] Downloading package stopwords to\n",
      "[nltk_data]     /Users/rislamiranda/nltk_data...\n",
      "[nltk_data]   Package stopwords is already up-to-date!\n"
     ]
    }
   ],
   "source": [
    "# Preparar stopwords customizadas\n",
    "def normalize(text):\n",
    "    return unicodedata.normalize(\"NFKD\", text).encode(\"ascii\", \"ignore\").decode(\"utf-8\").lower()\n",
    "\n",
    "nltk.download('stopwords')\n",
    "stopwords_custom = [normalize(w) for w in stopwords.words('portuguese')]\n",
    "stopwords_custom.extend([normalize(p) for p in [\n",
    "    \"objeto\", \"serviços\", \"prestação\", \"empresa\", \"serviço\",\n",
    "    \"especializada\", \"contratação\", \"edital\", \"fornecimento\", \"campus\",\n",
    "    \"conforme\", \"deste\", \"termo\", \"anexo\", \"referencia\", \"ifsc\", \"especializados\",\n",
    "    \"referente\", \"especificacoes\", \"porto\", \"ifrs\", \"terceirizados\", \"alegre\",\n",
    "    \"item\", \"florianopolis\", \"ibiruba\", \"erechim\", \"sertao\", \"restinga\",\n",
    "    \"pregao\", \"seguir\", \"aositens\", \"tabela\", \"atividades\", \"mg\", \"federal\",\n",
    "    \"contrato\", \"areas\", \"12x36\", \"serem\", \"incluindo\", \"executados\", \"pessoa\",\n",
    "    \"especificacao\", \"joinville\", \"editaldeste\", \"execucao\", \"instituto\",\n",
    "    \"forma\", \"meses\", \"referencia\"\n",
    "]])\n",
    "stopwords_custom = list(set(stopwords_custom))"
   ]
  },
  {
   "cell_type": "markdown",
   "id": "4ea64607-b4ff-4258-9244-14d3e1738f3d",
   "metadata": {},
   "source": [
    "## Pipeline de treinamento de modelos"
   ]
  },
  {
   "cell_type": "code",
   "execution_count": 23,
   "id": "55f0d6db-4985-40e5-8b71-5f165a3653f7",
   "metadata": {},
   "outputs": [],
   "source": [
    "# Colunas\n",
    "text_col = 'objeto_contrato'\n",
    "num_cols = ['valorInicialCompra', 'valorFinalCompra', 'ano_assinatura', 'mes_assinatura', 'dias_ate_inicio_vigencia']\n",
    "cat_cols = ['cd_orgao_siafi']\n",
    "target = 'id_terc_count'"
   ]
  },
  {
   "cell_type": "code",
   "execution_count": 24,
   "id": "192c026a-225a-4d59-911b-4b0dc4f33dee",
   "metadata": {},
   "outputs": [],
   "source": [
    "# Separar X e y\n",
    "X = df_contrato_agg[[text_col] + num_cols + cat_cols].copy()\n",
    "y = df_contrato_agg[target].copy()"
   ]
  },
  {
   "cell_type": "code",
   "execution_count": 25,
   "id": "b798d6da-3e87-4cb7-9142-21954d67a7c5",
   "metadata": {},
   "outputs": [],
   "source": [
    "# Pré-processamento com TF-IDF, numéricos e categóricos\n",
    "preprocessor = ColumnTransformer([\n",
    "    ('tfidf', TfidfVectorizer(max_features=50, stop_words=stopwords_custom), text_col),\n",
    "    ('num', StandardScaler(), num_cols),\n",
    "    ('cat', OneHotEncoder(handle_unknown='ignore', sparse_output=False), cat_cols)\n",
    "], remainder='drop')"
   ]
  },
  {
   "cell_type": "code",
   "execution_count": 26,
   "id": "728cc108-8de1-4bec-812f-b84d159bb4ee",
   "metadata": {},
   "outputs": [],
   "source": [
    "# Pré-processamento\n",
    "preprocessor = ColumnTransformer([\n",
    "    ('tfidf', TfidfVectorizer(stop_words=stopwords_custom), text_col),\n",
    "    ('num', StandardScaler(), num_cols),\n",
    "    ('cat', OneHotEncoder(handle_unknown='ignore'), cat_cols)\n",
    "], sparse_threshold=0)"
   ]
  },
  {
   "cell_type": "code",
   "execution_count": 27,
   "id": "b8663b03-c1ce-4495-8e93-7be6ff7bb3f6",
   "metadata": {},
   "outputs": [],
   "source": [
    "# Métricas personalizadas\n",
    "scoring = {\n",
    "    'r2': make_scorer(r2_score),\n",
    "    'rmse': make_scorer(root_mean_squared_error)\n",
    "}"
   ]
  },
  {
   "cell_type": "code",
   "execution_count": 28,
   "id": "e9f2cca4-da9d-4b84-a282-a052b3ab8c05",
   "metadata": {},
   "outputs": [],
   "source": [
    "# Modelos com hiperparâmetros\n",
    "modelos = {\n",
    "    'Random Forest': {\n",
    "        'model': RandomForestRegressor(random_state=42),\n",
    "        'params': {'regressor__n_estimators': [50, 100], 'regressor__max_depth': [None, 10]}\n",
    "    },\n",
    "    'Gradient Boosting': {\n",
    "        'model': GradientBoostingRegressor(random_state=42),\n",
    "        'params': {'regressor__n_estimators': [50, 100], 'regressor__learning_rate': [0.05, 0.1]}\n",
    "    },\n",
    "    'KNN': {\n",
    "        'model': KNeighborsRegressor(),\n",
    "        'params': {'regressor__n_neighbors': [3, 5, 7]}\n",
    "    },\n",
    "    'XGBoost': {\n",
    "        'model': XGBRegressor(random_state=42),\n",
    "        'params': {'regressor__n_estimators': [50, 100], 'regressor__max_depth': [3, 5]}\n",
    "    },\n",
    "    'Linear Regression': {\n",
    "        'model': LinearRegression(),\n",
    "        'params': {}  # sem hiperparâmetros\n",
    "    }\n",
    "}"
   ]
  },
  {
   "cell_type": "code",
   "execution_count": 29,
   "id": "43d28b0b-cd83-466e-9475-1ed3092ac485",
   "metadata": {},
   "outputs": [
    {
     "name": "stdout",
     "output_type": "stream",
     "text": [
      "\n",
      "🔍 Buscando hiperparâmetros para Random Forest...\n",
      "✅ Melhor R² CV: -0.0184 | RMSE: 347.18\n",
      "\n",
      "⭐️ Top 10 variáveis:\n",
      "                 Variavel  Importancia\n",
      "405    valorInicialCompra     0.418025\n",
      "423  cd_orgao_siafi_26260     0.066789\n",
      "406      valorFinalCompra     0.047947\n",
      "11                alfenas     0.041626\n",
      "383                unifal     0.039258\n",
      "305               projeto     0.028094\n",
      "105          dependências     0.027888\n",
      "311            realização     0.027293\n",
      "232             materiais     0.027089\n",
      "84             contratada     0.021465\n",
      "\n",
      "🔍 Buscando hiperparâmetros para Gradient Boosting...\n",
      "✅ Melhor R² CV: 0.0170 | RMSE: 347.92\n",
      "\n",
      "⭐️ Top 10 variáveis:\n",
      "                     Variavel  Importancia\n",
      "405        valorInicialCompra     0.571131\n",
      "118                  diversos     0.114629\n",
      "123                      doze     0.047119\n",
      "409  dias_ate_inicio_vigencia     0.046664\n",
      "323                  regional     0.031523\n",
      "19                      apoio     0.025616\n",
      "406          valorFinalCompra     0.023967\n",
      "125              econservação     0.015341\n",
      "81                continuados     0.015114\n",
      "299                 prestação     0.014079\n",
      "\n",
      "🔍 Buscando hiperparâmetros para KNN...\n",
      "✅ Melhor R² CV: -0.0590 | RMSE: 382.64\n",
      "\n",
      "🔍 Buscando hiperparâmetros para XGBoost...\n",
      "✅ Melhor R² CV: -0.0531 | RMSE: 340.04\n",
      "\n",
      "⭐️ Top 10 variáveis:\n",
      "               Variavel  Importancia\n",
      "118            diversos     0.257192\n",
      "405  valorInicialCompra     0.235397\n",
      "125        econservação     0.094770\n",
      "6        administrativo     0.061557\n",
      "42               básico     0.053296\n",
      "18               anexos     0.043969\n",
      "232           materiais     0.036658\n",
      "19                apoio     0.033502\n",
      "26           associados     0.027837\n",
      "299           prestação     0.027704\n",
      "\n",
      "🔍 Buscando hiperparâmetros para Linear Regression...\n",
      "✅ Melhor R² CV: -1419572218088167804239872.0000 | RMSE: 346.61\n"
     ]
    }
   ],
   "source": [
    "# Treinamento com cross validation + GridSearch\n",
    "resultados = {}\n",
    "for nome, config in modelos.items():\n",
    "    pipeline = Pipeline([\n",
    "        ('preprocessamento', preprocessor),\n",
    "        ('regressor', config['model'])\n",
    "    ])\n",
    "\n",
    "    print(f\"\\n🔍 Buscando hiperparâmetros para {nome}...\")\n",
    "    grid = GridSearchCV(\n",
    "        pipeline,\n",
    "        param_grid=config['params'],\n",
    "        scoring='r2',\n",
    "        cv=5,\n",
    "        refit=True,\n",
    "        n_jobs=-1\n",
    "    )\n",
    "    grid.fit(X, y)\n",
    "    y_pred = grid.predict(X)\n",
    "    resultados[nome] = {\n",
    "        'melhor_score_cv': grid.best_score_,\n",
    "        'melhores_parametros': grid.best_params_,\n",
    "        'r2_score': r2_score(y, y_pred),\n",
    "        'rmse': root_mean_squared_error(y, y_pred),\n",
    "        'pipeline': grid.best_estimator_\n",
    "    }\n",
    "    print(f\"✅ Melhor R² CV: {grid.best_score_:.4f} | RMSE: {resultados[nome]['rmse']:.2f}\")\n",
    "\n",
    "    # Importância das variáveis\n",
    "    reg = grid.best_estimator_.named_steps['regressor']\n",
    "    if hasattr(reg, 'feature_importances_'):\n",
    "        feature_names = (\n",
    "            grid.best_estimator_.named_steps['preprocessamento'].named_transformers_['tfidf'].get_feature_names_out().tolist()\n",
    "            + num_cols\n",
    "            + grid.best_estimator_.named_steps['preprocessamento'].named_transformers_['cat'].get_feature_names_out(cat_cols).tolist()\n",
    "        )\n",
    "        imp_df = pd.DataFrame({\n",
    "            'Variavel': feature_names,\n",
    "            'Importancia': reg.feature_importances_\n",
    "        }).sort_values(by='Importancia', ascending=False).head(10)\n",
    "        print(\"\\n⭐️ Top 10 variáveis:\")\n",
    "        print(imp_df)"
   ]
  },
  {
   "cell_type": "code",
   "execution_count": null,
   "id": "405a3024-db87-4da4-8067-9cbbd9cd9174",
   "metadata": {},
   "outputs": [],
   "source": []
  }
 ],
 "metadata": {
  "kernelspec": {
   "display_name": "Python 3 (ipykernel)",
   "language": "python",
   "name": "python3"
  },
  "language_info": {
   "codemirror_mode": {
    "name": "ipython",
    "version": 3
   },
   "file_extension": ".py",
   "mimetype": "text/x-python",
   "name": "python",
   "nbconvert_exporter": "python",
   "pygments_lexer": "ipython3",
   "version": "3.9.6"
  }
 },
 "nbformat": 4,
 "nbformat_minor": 5
}
